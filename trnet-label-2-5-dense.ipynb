{
 "cells": [
  {
   "cell_type": "code",
   "execution_count": null,
   "id": "267a85a9",
   "metadata": {
    "papermill": {
     "duration": 0.011933,
     "end_time": "2023-03-08T15:10:12.114327",
     "exception": false,
     "start_time": "2023-03-08T15:10:12.102394",
     "status": "completed"
    },
    "tags": []
   },
   "outputs": [],
   "source": []
  },
  {
   "cell_type": "markdown",
   "id": "7ed60e47",
   "metadata": {
    "papermill": {
     "duration": 0.01082,
     "end_time": "2023-03-08T15:10:12.135829",
     "exception": false,
     "start_time": "2023-03-08T15:10:12.125009",
     "status": "completed"
    },
    "tags": []
   },
   "source": [
    "## Dataset Overview\n",
    "HAM10000 (\"Human Against Machine with 10000 training images\") dataset - a large collection of multi-source dermatoscopic images of pigmented lesions\n",
    "\n",
    "The dermatoscopic images are collected from different populations, acquired and stored by different modalities. The final dataset consists of 10015 dermatoscopic images.\n",
    "\n",
    "It has 7 different classes of skin cancer which are listed below :\n",
    "- Melanocytic nevi\n",
    "- Melanoma\n",
    "- Benign keratosis-like lesions\n",
    "- Basal cell carcinoma\n",
    "- Actinic keratoses\n",
    "- Vascular lesions\n",
    "- Dermatofibroma "
   ]
  },
  {
   "cell_type": "markdown",
   "id": "af3cc9c7",
   "metadata": {
    "papermill": {
     "duration": 0.010387,
     "end_time": "2023-03-08T15:10:12.156754",
     "exception": false,
     "start_time": "2023-03-08T15:10:12.146367",
     "status": "completed"
    },
    "tags": []
   },
   "source": [
    "## Importing libraries"
   ]
  },
  {
   "cell_type": "code",
   "execution_count": 1,
   "id": "8918f232",
   "metadata": {
    "_cell_guid": "b1076dfc-b9ad-4769-8c92-a6c4dae69d19",
    "_uuid": "8f2839f25d086af736a60e9eeb907d3b93b6e0e5",
    "execution": {
     "iopub.execute_input": "2023-03-08T15:10:12.180981Z",
     "iopub.status.busy": "2023-03-08T15:10:12.180492Z",
     "iopub.status.idle": "2023-03-08T15:10:20.824177Z",
     "shell.execute_reply": "2023-03-08T15:10:20.823075Z"
    },
    "papermill": {
     "duration": 8.659312,
     "end_time": "2023-03-08T15:10:20.826811",
     "exception": false,
     "start_time": "2023-03-08T15:10:12.167499",
     "status": "completed"
    },
    "tags": []
   },
   "outputs": [],
   "source": [
    "import seaborn as sns\n",
    "import pandas as pd\n",
    "import matplotlib.pyplot as plt\n",
    "from imblearn.over_sampling import RandomOverSampler \n",
    "import numpy as np\n",
    "from sklearn.model_selection import train_test_split\n",
    "import os, cv2\n",
    "import tensorflow as tf\n",
    "from tensorflow.keras.models import Sequential\n",
    "from tensorflow.keras.layers import Conv2D, Flatten, Dense, MaxPool2D, Activation\n",
    "from sklearn.metrics import classification_report, accuracy_score\n"
   ]
  },
  {
   "cell_type": "markdown",
   "id": "4ff25047",
   "metadata": {
    "papermill": {
     "duration": 0.010746,
     "end_time": "2023-03-08T15:10:20.848662",
     "exception": false,
     "start_time": "2023-03-08T15:10:20.837916",
     "status": "completed"
    },
    "tags": []
   },
   "source": [
    "## Reading the Data"
   ]
  },
  {
   "cell_type": "code",
   "execution_count": 2,
   "id": "8e2e032a",
   "metadata": {
    "execution": {
     "iopub.execute_input": "2023-03-08T15:10:20.871886Z",
     "iopub.status.busy": "2023-03-08T15:10:20.870772Z",
     "iopub.status.idle": "2023-03-08T15:10:24.747837Z",
     "shell.execute_reply": "2023-03-08T15:10:24.746795Z"
    },
    "papermill": {
     "duration": 3.891425,
     "end_time": "2023-03-08T15:10:24.750629",
     "exception": false,
     "start_time": "2023-03-08T15:10:20.859204",
     "status": "completed"
    },
    "tags": []
   },
   "outputs": [
    {
     "data": {
      "text/html": [
       "<div>\n",
       "<style scoped>\n",
       "    .dataframe tbody tr th:only-of-type {\n",
       "        vertical-align: middle;\n",
       "    }\n",
       "\n",
       "    .dataframe tbody tr th {\n",
       "        vertical-align: top;\n",
       "    }\n",
       "\n",
       "    .dataframe thead th {\n",
       "        text-align: right;\n",
       "    }\n",
       "</style>\n",
       "<table border=\"1\" class=\"dataframe\">\n",
       "  <thead>\n",
       "    <tr style=\"text-align: right;\">\n",
       "      <th></th>\n",
       "      <th>pixel0000</th>\n",
       "      <th>pixel0001</th>\n",
       "      <th>pixel0002</th>\n",
       "      <th>pixel0003</th>\n",
       "      <th>pixel0004</th>\n",
       "      <th>pixel0005</th>\n",
       "      <th>pixel0006</th>\n",
       "      <th>pixel0007</th>\n",
       "      <th>pixel0008</th>\n",
       "      <th>pixel0009</th>\n",
       "      <th>...</th>\n",
       "      <th>pixel2343</th>\n",
       "      <th>pixel2344</th>\n",
       "      <th>pixel2345</th>\n",
       "      <th>pixel2346</th>\n",
       "      <th>pixel2347</th>\n",
       "      <th>pixel2348</th>\n",
       "      <th>pixel2349</th>\n",
       "      <th>pixel2350</th>\n",
       "      <th>pixel2351</th>\n",
       "      <th>label</th>\n",
       "    </tr>\n",
       "  </thead>\n",
       "  <tbody>\n",
       "    <tr>\n",
       "      <th>0</th>\n",
       "      <td>192</td>\n",
       "      <td>153</td>\n",
       "      <td>193</td>\n",
       "      <td>195</td>\n",
       "      <td>155</td>\n",
       "      <td>192</td>\n",
       "      <td>197</td>\n",
       "      <td>154</td>\n",
       "      <td>185</td>\n",
       "      <td>202</td>\n",
       "      <td>...</td>\n",
       "      <td>173</td>\n",
       "      <td>124</td>\n",
       "      <td>138</td>\n",
       "      <td>183</td>\n",
       "      <td>147</td>\n",
       "      <td>166</td>\n",
       "      <td>185</td>\n",
       "      <td>154</td>\n",
       "      <td>177</td>\n",
       "      <td>2</td>\n",
       "    </tr>\n",
       "    <tr>\n",
       "      <th>1</th>\n",
       "      <td>25</td>\n",
       "      <td>14</td>\n",
       "      <td>30</td>\n",
       "      <td>68</td>\n",
       "      <td>48</td>\n",
       "      <td>75</td>\n",
       "      <td>123</td>\n",
       "      <td>93</td>\n",
       "      <td>126</td>\n",
       "      <td>158</td>\n",
       "      <td>...</td>\n",
       "      <td>60</td>\n",
       "      <td>39</td>\n",
       "      <td>55</td>\n",
       "      <td>25</td>\n",
       "      <td>14</td>\n",
       "      <td>28</td>\n",
       "      <td>25</td>\n",
       "      <td>14</td>\n",
       "      <td>27</td>\n",
       "      <td>2</td>\n",
       "    </tr>\n",
       "    <tr>\n",
       "      <th>2</th>\n",
       "      <td>192</td>\n",
       "      <td>138</td>\n",
       "      <td>153</td>\n",
       "      <td>200</td>\n",
       "      <td>145</td>\n",
       "      <td>163</td>\n",
       "      <td>201</td>\n",
       "      <td>142</td>\n",
       "      <td>160</td>\n",
       "      <td>206</td>\n",
       "      <td>...</td>\n",
       "      <td>167</td>\n",
       "      <td>129</td>\n",
       "      <td>143</td>\n",
       "      <td>159</td>\n",
       "      <td>124</td>\n",
       "      <td>142</td>\n",
       "      <td>136</td>\n",
       "      <td>104</td>\n",
       "      <td>117</td>\n",
       "      <td>2</td>\n",
       "    </tr>\n",
       "    <tr>\n",
       "      <th>3</th>\n",
       "      <td>38</td>\n",
       "      <td>19</td>\n",
       "      <td>30</td>\n",
       "      <td>95</td>\n",
       "      <td>59</td>\n",
       "      <td>72</td>\n",
       "      <td>143</td>\n",
       "      <td>103</td>\n",
       "      <td>119</td>\n",
       "      <td>171</td>\n",
       "      <td>...</td>\n",
       "      <td>44</td>\n",
       "      <td>26</td>\n",
       "      <td>36</td>\n",
       "      <td>25</td>\n",
       "      <td>12</td>\n",
       "      <td>17</td>\n",
       "      <td>25</td>\n",
       "      <td>12</td>\n",
       "      <td>15</td>\n",
       "      <td>2</td>\n",
       "    </tr>\n",
       "    <tr>\n",
       "      <th>4</th>\n",
       "      <td>158</td>\n",
       "      <td>113</td>\n",
       "      <td>139</td>\n",
       "      <td>194</td>\n",
       "      <td>144</td>\n",
       "      <td>174</td>\n",
       "      <td>215</td>\n",
       "      <td>162</td>\n",
       "      <td>191</td>\n",
       "      <td>225</td>\n",
       "      <td>...</td>\n",
       "      <td>209</td>\n",
       "      <td>166</td>\n",
       "      <td>185</td>\n",
       "      <td>172</td>\n",
       "      <td>135</td>\n",
       "      <td>149</td>\n",
       "      <td>109</td>\n",
       "      <td>78</td>\n",
       "      <td>92</td>\n",
       "      <td>2</td>\n",
       "    </tr>\n",
       "  </tbody>\n",
       "</table>\n",
       "<p>5 rows × 2353 columns</p>\n",
       "</div>"
      ],
      "text/plain": [
       "   pixel0000  pixel0001  pixel0002  pixel0003  pixel0004  pixel0005  \\\n",
       "0        192        153        193        195        155        192   \n",
       "1         25         14         30         68         48         75   \n",
       "2        192        138        153        200        145        163   \n",
       "3         38         19         30         95         59         72   \n",
       "4        158        113        139        194        144        174   \n",
       "\n",
       "   pixel0006  pixel0007  pixel0008  pixel0009  ...  pixel2343  pixel2344  \\\n",
       "0        197        154        185        202  ...        173        124   \n",
       "1        123         93        126        158  ...         60         39   \n",
       "2        201        142        160        206  ...        167        129   \n",
       "3        143        103        119        171  ...         44         26   \n",
       "4        215        162        191        225  ...        209        166   \n",
       "\n",
       "   pixel2345  pixel2346  pixel2347  pixel2348  pixel2349  pixel2350  \\\n",
       "0        138        183        147        166        185        154   \n",
       "1         55         25         14         28         25         14   \n",
       "2        143        159        124        142        136        104   \n",
       "3         36         25         12         17         25         12   \n",
       "4        185        172        135        149        109         78   \n",
       "\n",
       "   pixel2351  label  \n",
       "0        177      2  \n",
       "1         27      2  \n",
       "2        117      2  \n",
       "3         15      2  \n",
       "4         92      2  \n",
       "\n",
       "[5 rows x 2353 columns]"
      ]
     },
     "execution_count": 2,
     "metadata": {},
     "output_type": "execute_result"
    }
   ],
   "source": [
    "data = pd.read_csv('/kaggle/input/skin-cancer-mnist-ham10000/hmnist_28_28_RGB.csv')\n",
    "data.head()"
   ]
  },
  {
   "cell_type": "markdown",
   "id": "e3bee228",
   "metadata": {
    "papermill": {
     "duration": 0.010709,
     "end_time": "2023-03-08T15:10:24.772484",
     "exception": false,
     "start_time": "2023-03-08T15:10:24.761775",
     "status": "completed"
    },
    "tags": []
   },
   "source": [
    "## Data Preprocessing\n",
    "## Data Cleaning"
   ]
  },
  {
   "cell_type": "code",
   "execution_count": 3,
   "id": "94afddbf",
   "metadata": {
    "execution": {
     "iopub.execute_input": "2023-03-08T15:10:24.797105Z",
     "iopub.status.busy": "2023-03-08T15:10:24.795346Z",
     "iopub.status.idle": "2023-03-08T15:10:24.809075Z",
     "shell.execute_reply": "2023-03-08T15:10:24.807958Z"
    },
    "papermill": {
     "duration": 0.028192,
     "end_time": "2023-03-08T15:10:24.811601",
     "exception": false,
     "start_time": "2023-03-08T15:10:24.783409",
     "status": "completed"
    },
    "tags": []
   },
   "outputs": [
    {
     "data": {
      "text/plain": [
       "array([2, 4, 3, 6, 5, 1, 0])"
      ]
     },
     "execution_count": 3,
     "metadata": {},
     "output_type": "execute_result"
    }
   ],
   "source": [
    "data['label'].unique()"
   ]
  },
  {
   "cell_type": "code",
   "execution_count": 4,
   "id": "b72ea3c8",
   "metadata": {
    "execution": {
     "iopub.execute_input": "2023-03-08T15:10:24.835318Z",
     "iopub.status.busy": "2023-03-08T15:10:24.834512Z",
     "iopub.status.idle": "2023-03-08T15:10:24.896635Z",
     "shell.execute_reply": "2023-03-08T15:10:24.895517Z"
    },
    "papermill": {
     "duration": 0.076297,
     "end_time": "2023-03-08T15:10:24.898824",
     "exception": false,
     "start_time": "2023-03-08T15:10:24.822527",
     "status": "completed"
    },
    "tags": []
   },
   "outputs": [],
   "source": [
    "y = data['label']\n",
    "x = data.drop(columns = ['label'])"
   ]
  },
  {
   "cell_type": "code",
   "execution_count": 5,
   "id": "e89a3d61",
   "metadata": {
    "execution": {
     "iopub.execute_input": "2023-03-08T15:10:24.922641Z",
     "iopub.status.busy": "2023-03-08T15:10:24.922332Z",
     "iopub.status.idle": "2023-03-08T15:10:24.958759Z",
     "shell.execute_reply": "2023-03-08T15:10:24.957699Z"
    },
    "papermill": {
     "duration": 0.050682,
     "end_time": "2023-03-08T15:10:24.960854",
     "exception": false,
     "start_time": "2023-03-08T15:10:24.910172",
     "status": "completed"
    },
    "tags": []
   },
   "outputs": [
    {
     "data": {
      "text/plain": [
       "0"
      ]
     },
     "execution_count": 5,
     "metadata": {},
     "output_type": "execute_result"
    }
   ],
   "source": [
    "data.isnull().sum().sum() #no null values present"
   ]
  },
  {
   "cell_type": "code",
   "execution_count": 6,
   "id": "4d4cd071",
   "metadata": {
    "execution": {
     "iopub.execute_input": "2023-03-08T15:10:24.984278Z",
     "iopub.status.busy": "2023-03-08T15:10:24.983995Z",
     "iopub.status.idle": "2023-03-08T15:10:25.022050Z",
     "shell.execute_reply": "2023-03-08T15:10:25.020877Z"
    },
    "papermill": {
     "duration": 0.052625,
     "end_time": "2023-03-08T15:10:25.024660",
     "exception": false,
     "start_time": "2023-03-08T15:10:24.972035",
     "status": "completed"
    },
    "tags": []
   },
   "outputs": [
    {
     "data": {
      "text/html": [
       "<div>\n",
       "<style scoped>\n",
       "    .dataframe tbody tr th:only-of-type {\n",
       "        vertical-align: middle;\n",
       "    }\n",
       "\n",
       "    .dataframe tbody tr th {\n",
       "        vertical-align: top;\n",
       "    }\n",
       "\n",
       "    .dataframe thead th {\n",
       "        text-align: right;\n",
       "    }\n",
       "</style>\n",
       "<table border=\"1\" class=\"dataframe\">\n",
       "  <thead>\n",
       "    <tr style=\"text-align: right;\">\n",
       "      <th></th>\n",
       "      <th>lesion_id</th>\n",
       "      <th>image_id</th>\n",
       "      <th>dx</th>\n",
       "      <th>dx_type</th>\n",
       "      <th>age</th>\n",
       "      <th>sex</th>\n",
       "      <th>localization</th>\n",
       "    </tr>\n",
       "  </thead>\n",
       "  <tbody>\n",
       "    <tr>\n",
       "      <th>0</th>\n",
       "      <td>HAM_0000118</td>\n",
       "      <td>ISIC_0027419</td>\n",
       "      <td>bkl</td>\n",
       "      <td>histo</td>\n",
       "      <td>80.0</td>\n",
       "      <td>male</td>\n",
       "      <td>scalp</td>\n",
       "    </tr>\n",
       "    <tr>\n",
       "      <th>1</th>\n",
       "      <td>HAM_0000118</td>\n",
       "      <td>ISIC_0025030</td>\n",
       "      <td>bkl</td>\n",
       "      <td>histo</td>\n",
       "      <td>80.0</td>\n",
       "      <td>male</td>\n",
       "      <td>scalp</td>\n",
       "    </tr>\n",
       "    <tr>\n",
       "      <th>2</th>\n",
       "      <td>HAM_0002730</td>\n",
       "      <td>ISIC_0026769</td>\n",
       "      <td>bkl</td>\n",
       "      <td>histo</td>\n",
       "      <td>80.0</td>\n",
       "      <td>male</td>\n",
       "      <td>scalp</td>\n",
       "    </tr>\n",
       "    <tr>\n",
       "      <th>3</th>\n",
       "      <td>HAM_0002730</td>\n",
       "      <td>ISIC_0025661</td>\n",
       "      <td>bkl</td>\n",
       "      <td>histo</td>\n",
       "      <td>80.0</td>\n",
       "      <td>male</td>\n",
       "      <td>scalp</td>\n",
       "    </tr>\n",
       "    <tr>\n",
       "      <th>4</th>\n",
       "      <td>HAM_0001466</td>\n",
       "      <td>ISIC_0031633</td>\n",
       "      <td>bkl</td>\n",
       "      <td>histo</td>\n",
       "      <td>75.0</td>\n",
       "      <td>male</td>\n",
       "      <td>ear</td>\n",
       "    </tr>\n",
       "  </tbody>\n",
       "</table>\n",
       "</div>"
      ],
      "text/plain": [
       "     lesion_id      image_id   dx dx_type   age   sex localization\n",
       "0  HAM_0000118  ISIC_0027419  bkl   histo  80.0  male        scalp\n",
       "1  HAM_0000118  ISIC_0025030  bkl   histo  80.0  male        scalp\n",
       "2  HAM_0002730  ISIC_0026769  bkl   histo  80.0  male        scalp\n",
       "3  HAM_0002730  ISIC_0025661  bkl   histo  80.0  male        scalp\n",
       "4  HAM_0001466  ISIC_0031633  bkl   histo  75.0  male          ear"
      ]
     },
     "execution_count": 6,
     "metadata": {},
     "output_type": "execute_result"
    }
   ],
   "source": [
    "meta_data = pd.read_csv('/kaggle/input/skin-cancer-mnist-ham10000/HAM10000_metadata.csv')\n",
    "meta_data.head()"
   ]
  },
  {
   "cell_type": "code",
   "execution_count": 7,
   "id": "6799d35d",
   "metadata": {
    "execution": {
     "iopub.execute_input": "2023-03-08T15:10:25.048503Z",
     "iopub.status.busy": "2023-03-08T15:10:25.048211Z",
     "iopub.status.idle": "2023-03-08T15:10:25.055999Z",
     "shell.execute_reply": "2023-03-08T15:10:25.054872Z"
    },
    "papermill": {
     "duration": 0.022388,
     "end_time": "2023-03-08T15:10:25.058492",
     "exception": false,
     "start_time": "2023-03-08T15:10:25.036104",
     "status": "completed"
    },
    "tags": []
   },
   "outputs": [
    {
     "data": {
      "text/plain": [
       "array(['bkl', 'nv', 'df', 'mel', 'vasc', 'bcc', 'akiec'], dtype=object)"
      ]
     },
     "execution_count": 7,
     "metadata": {},
     "output_type": "execute_result"
    }
   ],
   "source": [
    "meta_data['dx'].unique()"
   ]
  },
  {
   "cell_type": "code",
   "execution_count": 8,
   "id": "6d89625b",
   "metadata": {
    "execution": {
     "iopub.execute_input": "2023-03-08T15:10:25.082065Z",
     "iopub.status.busy": "2023-03-08T15:10:25.081781Z",
     "iopub.status.idle": "2023-03-08T15:10:25.142884Z",
     "shell.execute_reply": "2023-03-08T15:10:25.141779Z"
    },
    "papermill": {
     "duration": 0.075634,
     "end_time": "2023-03-08T15:10:25.145412",
     "exception": false,
     "start_time": "2023-03-08T15:10:25.069778",
     "status": "completed"
    },
    "tags": []
   },
   "outputs": [],
   "source": [
    "y = data['label']\n",
    "x = data.drop(columns = ['label'])"
   ]
  },
  {
   "cell_type": "code",
   "execution_count": 9,
   "id": "685787e0",
   "metadata": {
    "execution": {
     "iopub.execute_input": "2023-03-08T15:10:25.170565Z",
     "iopub.status.busy": "2023-03-08T15:10:25.169565Z",
     "iopub.status.idle": "2023-03-08T15:10:25.207342Z",
     "shell.execute_reply": "2023-03-08T15:10:25.206199Z"
    },
    "papermill": {
     "duration": 0.052427,
     "end_time": "2023-03-08T15:10:25.209667",
     "exception": false,
     "start_time": "2023-03-08T15:10:25.157240",
     "status": "completed"
    },
    "tags": []
   },
   "outputs": [
    {
     "data": {
      "text/plain": [
       "0"
      ]
     },
     "execution_count": 9,
     "metadata": {},
     "output_type": "execute_result"
    }
   ],
   "source": [
    "data.isnull().sum().sum() #no null values present"
   ]
  },
  {
   "cell_type": "code",
   "execution_count": 10,
   "id": "15e59f98",
   "metadata": {
    "execution": {
     "iopub.execute_input": "2023-03-08T15:10:25.234876Z",
     "iopub.status.busy": "2023-03-08T15:10:25.234261Z",
     "iopub.status.idle": "2023-03-08T15:10:25.261392Z",
     "shell.execute_reply": "2023-03-08T15:10:25.260290Z"
    },
    "papermill": {
     "duration": 0.042595,
     "end_time": "2023-03-08T15:10:25.263864",
     "exception": false,
     "start_time": "2023-03-08T15:10:25.221269",
     "status": "completed"
    },
    "tags": []
   },
   "outputs": [
    {
     "data": {
      "text/html": [
       "<div>\n",
       "<style scoped>\n",
       "    .dataframe tbody tr th:only-of-type {\n",
       "        vertical-align: middle;\n",
       "    }\n",
       "\n",
       "    .dataframe tbody tr th {\n",
       "        vertical-align: top;\n",
       "    }\n",
       "\n",
       "    .dataframe thead th {\n",
       "        text-align: right;\n",
       "    }\n",
       "</style>\n",
       "<table border=\"1\" class=\"dataframe\">\n",
       "  <thead>\n",
       "    <tr style=\"text-align: right;\">\n",
       "      <th></th>\n",
       "      <th>lesion_id</th>\n",
       "      <th>image_id</th>\n",
       "      <th>dx</th>\n",
       "      <th>dx_type</th>\n",
       "      <th>age</th>\n",
       "      <th>sex</th>\n",
       "      <th>localization</th>\n",
       "    </tr>\n",
       "  </thead>\n",
       "  <tbody>\n",
       "    <tr>\n",
       "      <th>0</th>\n",
       "      <td>HAM_0000118</td>\n",
       "      <td>ISIC_0027419</td>\n",
       "      <td>bkl</td>\n",
       "      <td>histo</td>\n",
       "      <td>80.0</td>\n",
       "      <td>male</td>\n",
       "      <td>scalp</td>\n",
       "    </tr>\n",
       "    <tr>\n",
       "      <th>1</th>\n",
       "      <td>HAM_0000118</td>\n",
       "      <td>ISIC_0025030</td>\n",
       "      <td>bkl</td>\n",
       "      <td>histo</td>\n",
       "      <td>80.0</td>\n",
       "      <td>male</td>\n",
       "      <td>scalp</td>\n",
       "    </tr>\n",
       "    <tr>\n",
       "      <th>2</th>\n",
       "      <td>HAM_0002730</td>\n",
       "      <td>ISIC_0026769</td>\n",
       "      <td>bkl</td>\n",
       "      <td>histo</td>\n",
       "      <td>80.0</td>\n",
       "      <td>male</td>\n",
       "      <td>scalp</td>\n",
       "    </tr>\n",
       "    <tr>\n",
       "      <th>3</th>\n",
       "      <td>HAM_0002730</td>\n",
       "      <td>ISIC_0025661</td>\n",
       "      <td>bkl</td>\n",
       "      <td>histo</td>\n",
       "      <td>80.0</td>\n",
       "      <td>male</td>\n",
       "      <td>scalp</td>\n",
       "    </tr>\n",
       "    <tr>\n",
       "      <th>4</th>\n",
       "      <td>HAM_0001466</td>\n",
       "      <td>ISIC_0031633</td>\n",
       "      <td>bkl</td>\n",
       "      <td>histo</td>\n",
       "      <td>75.0</td>\n",
       "      <td>male</td>\n",
       "      <td>ear</td>\n",
       "    </tr>\n",
       "  </tbody>\n",
       "</table>\n",
       "</div>"
      ],
      "text/plain": [
       "     lesion_id      image_id   dx dx_type   age   sex localization\n",
       "0  HAM_0000118  ISIC_0027419  bkl   histo  80.0  male        scalp\n",
       "1  HAM_0000118  ISIC_0025030  bkl   histo  80.0  male        scalp\n",
       "2  HAM_0002730  ISIC_0026769  bkl   histo  80.0  male        scalp\n",
       "3  HAM_0002730  ISIC_0025661  bkl   histo  80.0  male        scalp\n",
       "4  HAM_0001466  ISIC_0031633  bkl   histo  75.0  male          ear"
      ]
     },
     "execution_count": 10,
     "metadata": {},
     "output_type": "execute_result"
    }
   ],
   "source": [
    "meta_data = pd.read_csv('/kaggle/input/skin-cancer-mnist-ham10000/HAM10000_metadata.csv')\n",
    "meta_data.head()"
   ]
  },
  {
   "cell_type": "code",
   "execution_count": 11,
   "id": "62a78128",
   "metadata": {
    "execution": {
     "iopub.execute_input": "2023-03-08T15:10:25.289510Z",
     "iopub.status.busy": "2023-03-08T15:10:25.288686Z",
     "iopub.status.idle": "2023-03-08T15:10:25.296171Z",
     "shell.execute_reply": "2023-03-08T15:10:25.295089Z"
    },
    "papermill": {
     "duration": 0.022129,
     "end_time": "2023-03-08T15:10:25.298329",
     "exception": false,
     "start_time": "2023-03-08T15:10:25.276200",
     "status": "completed"
    },
    "tags": []
   },
   "outputs": [
    {
     "data": {
      "text/plain": [
       "array(['bkl', 'nv', 'df', 'mel', 'vasc', 'bcc', 'akiec'], dtype=object)"
      ]
     },
     "execution_count": 11,
     "metadata": {},
     "output_type": "execute_result"
    }
   ],
   "source": [
    "meta_data['dx'].unique()"
   ]
  },
  {
   "cell_type": "markdown",
   "id": "5229e095",
   "metadata": {
    "papermill": {
     "duration": 0.011297,
     "end_time": "2023-03-08T15:10:25.321227",
     "exception": false,
     "start_time": "2023-03-08T15:10:25.309930",
     "status": "completed"
    },
    "tags": []
   },
   "source": [
    "## Exploratory Data Analysis"
   ]
  },
  {
   "cell_type": "code",
   "execution_count": 12,
   "id": "7aaf8cc1",
   "metadata": {
    "execution": {
     "iopub.execute_input": "2023-03-08T15:10:25.346087Z",
     "iopub.status.busy": "2023-03-08T15:10:25.345272Z",
     "iopub.status.idle": "2023-03-08T15:10:25.596617Z",
     "shell.execute_reply": "2023-03-08T15:10:25.595665Z"
    },
    "papermill": {
     "duration": 0.266563,
     "end_time": "2023-03-08T15:10:25.599323",
     "exception": false,
     "start_time": "2023-03-08T15:10:25.332760",
     "status": "completed"
    },
    "tags": []
   },
   "outputs": [
    {
     "data": {
      "text/plain": [
       "Text(0.5, 1.0, 'Frequency Distribution of Classes')"
      ]
     },
     "execution_count": 12,
     "metadata": {},
     "output_type": "execute_result"
    },
    {
     "data": {
      "image/png": "[encoded data removed]",
      "text/plain": [
       "<Figure size 640x480 with 1 Axes>"
      ]
     },
     "metadata": {},
     "output_type": "display_data"
    }
   ],
   "source": [
    "sns.countplot(x = 'dx', data = meta_data)\n",
    "plt.xlabel('Disease(Classes)', size=12)\n",
    "plt.ylabel('Frequency', size=12)\n",
    "plt.title('Frequency Distribution of Classes')\n"
   ]
  },
  {
   "cell_type": "code",
   "execution_count": 13,
   "id": "14a22685",
   "metadata": {
    "execution": {
     "iopub.execute_input": "2023-03-08T15:10:25.625460Z",
     "iopub.status.busy": "2023-03-08T15:10:25.624883Z",
     "iopub.status.idle": "2023-03-08T15:10:25.850981Z",
     "shell.execute_reply": "2023-03-08T15:10:25.849864Z"
    },
    "papermill": {
     "duration": 0.241581,
     "end_time": "2023-03-08T15:10:25.853450",
     "exception": false,
     "start_time": "2023-03-08T15:10:25.611869",
     "status": "completed"
    },
    "tags": []
   },
   "outputs": [
    {
     "data": {
      "image/png": "[encoded data removed]",
      "text/plain": [
       "<Figure size 800x800 with 1 Axes>"
      ]
     },
     "metadata": {},
     "output_type": "display_data"
    }
   ],
   "source": [
    "sns.set_style('whitegrid')\n",
    "colors = ['#87ace8','#e3784d', 'green']\n",
    "fig,axes = plt.subplots(figsize=(8,8))\n",
    "\n",
    "ax = sns.countplot(x='sex',data=meta_data, palette = 'Paired')\n",
    "for container in ax.containers:\n",
    "    ax.bar_label(container)\n",
    "plt.title('Gender-wise Distribution')\n",
    "plt.xticks(rotation=45)\n",
    "plt.show()"
   ]
  },
  {
   "cell_type": "code",
   "execution_count": 14,
   "id": "8efd5bef",
   "metadata": {
    "execution": {
     "iopub.execute_input": "2023-03-08T15:10:25.881408Z",
     "iopub.status.busy": "2023-03-08T15:10:25.881116Z",
     "iopub.status.idle": "2023-03-08T15:10:26.163779Z",
     "shell.execute_reply": "2023-03-08T15:10:26.162811Z"
    },
    "papermill": {
     "duration": 0.299267,
     "end_time": "2023-03-08T15:10:26.165933",
     "exception": false,
     "start_time": "2023-03-08T15:10:25.866666",
     "status": "completed"
    },
    "tags": []
   },
   "outputs": [
    {
     "data": {
      "image/png": "[encoded data removed]",
      "text/plain": [
       "<Figure size 1200x800 with 1 Axes>"
      ]
     },
     "metadata": {},
     "output_type": "display_data"
    }
   ],
   "source": [
    "sns.set_style('whitegrid')\n",
    "fig,axes = plt.subplots(figsize=(12,8))\n",
    "ax = sns.countplot(x='dx',data=meta_data, order = meta_data['dx'].value_counts().index, palette = 'Paired')\n",
    "for container in ax.containers:\n",
    "    ax.bar_label(container)\n",
    "plt.title('Cell Types Skin Cancer Affected patients')\n",
    "plt.xticks(rotation=45)\n",
    "plt.show()"
   ]
  },
  {
   "cell_type": "code",
   "execution_count": null,
   "id": "6bccf138",
   "metadata": {
    "papermill": {
     "duration": 0.012777,
     "end_time": "2023-03-08T15:10:26.192005",
     "exception": false,
     "start_time": "2023-03-08T15:10:26.179228",
     "status": "completed"
    },
    "tags": []
   },
   "outputs": [],
   "source": []
  },
  {
   "cell_type": "code",
   "execution_count": 15,
   "id": "af632058",
   "metadata": {
    "execution": {
     "iopub.execute_input": "2023-03-08T15:10:26.219974Z",
     "iopub.status.busy": "2023-03-08T15:10:26.219103Z",
     "iopub.status.idle": "2023-03-08T15:10:26.226332Z",
     "shell.execute_reply": "2023-03-08T15:10:26.224957Z"
    },
    "papermill": {
     "duration": 0.023624,
     "end_time": "2023-03-08T15:10:26.228488",
     "exception": false,
     "start_time": "2023-03-08T15:10:26.204864",
     "status": "completed"
    },
    "tags": []
   },
   "outputs": [
    {
     "name": "stdout",
     "output_type": "stream",
     "text": [
      "[2, 4, 3, 6, 5, 1, 0]\n"
     ]
    }
   ],
   "source": [
    "classes = {2:'bkl', 4:'nv', 3:'df', 6:'mel', 5:'vasc', 1:'bcc', 0:'akiec'}\n",
    "\n",
    "classes_labels=[]\n",
    "for key in classes.keys():\n",
    "    classes_labels.append(key)\n",
    "print(classes_labels)"
   ]
  },
  {
   "cell_type": "code",
   "execution_count": 16,
   "id": "93a56da2",
   "metadata": {
    "execution": {
     "iopub.execute_input": "2023-03-08T15:10:26.256220Z",
     "iopub.status.busy": "2023-03-08T15:10:26.255388Z",
     "iopub.status.idle": "2023-03-08T15:10:26.637911Z",
     "shell.execute_reply": "2023-03-08T15:10:26.636841Z"
    },
    "papermill": {
     "duration": 0.398989,
     "end_time": "2023-03-08T15:10:26.640307",
     "exception": false,
     "start_time": "2023-03-08T15:10:26.241318",
     "status": "completed"
    },
    "tags": []
   },
   "outputs": [
    {
     "data": {
      "image/png": "[encoded data removed]",
      "text/plain": [
       "<Figure size 1200x800 with 1 Axes>"
      ]
     },
     "metadata": {},
     "output_type": "display_data"
    }
   ],
   "source": [
    "sns.set_style('whitegrid')\n",
    "fig,axes = plt.subplots(figsize=(12,8))\n",
    "ax = sns.countplot(x='dx',hue='sex', data=meta_data, order = meta_data['dx'].value_counts().index, palette = 'Paired')\n",
    "for container in ax.containers:\n",
    "    ax.bar_label(container)\n",
    "plt.title('Cell Types Frequencies')\n",
    "plt.xticks(rotation=45)\n",
    "plt.show()"
   ]
  },
  {
   "cell_type": "code",
   "execution_count": 17,
   "id": "857c02f8",
   "metadata": {
    "execution": {
     "iopub.execute_input": "2023-03-08T15:10:26.669877Z",
     "iopub.status.busy": "2023-03-08T15:10:26.668936Z",
     "iopub.status.idle": "2023-03-08T15:10:27.038366Z",
     "shell.execute_reply": "2023-03-08T15:10:27.037355Z"
    },
    "papermill": {
     "duration": 0.386334,
     "end_time": "2023-03-08T15:10:27.040765",
     "exception": false,
     "start_time": "2023-03-08T15:10:26.654431",
     "status": "completed"
    },
    "tags": []
   },
   "outputs": [
    {
     "data": {
      "image/png": "[encoded data removed]",
      "text/plain": [
       "<Figure size 1200x800 with 1 Axes>"
      ]
     },
     "metadata": {},
     "output_type": "display_data"
    }
   ],
   "source": [
    "sns.set_style('whitegrid')\n",
    "fig,axes = plt.subplots(figsize=(12,8))\n",
    "ax = sns.countplot(x='localization',data=meta_data, order = meta_data['localization'].value_counts().index, palette = 'crest')\n",
    "for container in ax.containers:\n",
    "    ax.bar_label(container)\n",
    "plt.title('Localization Area Frequencies')\n",
    "plt.xticks(rotation=45)\n",
    "plt.show()"
   ]
  },
  {
   "cell_type": "code",
   "execution_count": 18,
   "id": "27977dcb",
   "metadata": {
    "execution": {
     "iopub.execute_input": "2023-03-08T15:10:27.070991Z",
     "iopub.status.busy": "2023-03-08T15:10:27.070668Z",
     "iopub.status.idle": "2023-03-08T15:10:27.388833Z",
     "shell.execute_reply": "2023-03-08T15:10:27.387860Z"
    },
    "papermill": {
     "duration": 0.335701,
     "end_time": "2023-03-08T15:10:27.391116",
     "exception": false,
     "start_time": "2023-03-08T15:10:27.055415",
     "status": "completed"
    },
    "tags": []
   },
   "outputs": [
    {
     "data": {
      "image/png": "[encoded data removed]",
      "text/plain": [
       "<Figure size 1200x800 with 1 Axes>"
      ]
     },
     "metadata": {},
     "output_type": "display_data"
    }
   ],
   "source": [
    "sns.set_style('whitegrid')\n",
    "fig,axes = plt.subplots(figsize=(12,8))\n",
    "ax = sns.histplot(data=meta_data, x='age')\n",
    "plt.title('Age Histogram')\n",
    "plt.show()"
   ]
  },
  {
   "cell_type": "code",
   "execution_count": 19,
   "id": "6d74f8b4",
   "metadata": {
    "execution": {
     "iopub.execute_input": "2023-03-08T15:10:27.422388Z",
     "iopub.status.busy": "2023-03-08T15:10:27.422081Z",
     "iopub.status.idle": "2023-03-08T15:10:27.933804Z",
     "shell.execute_reply": "2023-03-08T15:10:27.932832Z"
    },
    "papermill": {
     "duration": 0.529562,
     "end_time": "2023-03-08T15:10:27.935964",
     "exception": false,
     "start_time": "2023-03-08T15:10:27.406402",
     "status": "completed"
    },
    "tags": []
   },
   "outputs": [
    {
     "data": {
      "image/png": "[encoded data removed]",
      "text/plain": [
       "<Figure size 1200x800 with 1 Axes>"
      ]
     },
     "metadata": {},
     "output_type": "display_data"
    }
   ],
   "source": [
    "sns.set_style('whitegrid')\n",
    "fig,axes = plt.subplots(figsize=(12,8))\n",
    "ax = sns.histplot(data=meta_data, x='age',hue='sex',multiple='stack')\n",
    "plt.title('Age Histogram Gender Wise')\n",
    "plt.show()"
   ]
  },
  {
   "cell_type": "markdown",
   "id": "56ecccee",
   "metadata": {
    "papermill": {
     "duration": 0.015155,
     "end_time": "2023-03-08T15:10:27.966349",
     "exception": false,
     "start_time": "2023-03-08T15:10:27.951194",
     "status": "completed"
    },
    "tags": []
   },
   "source": []
  },
  {
   "cell_type": "code",
   "execution_count": 20,
   "id": "04e6749a",
   "metadata": {
    "execution": {
     "iopub.execute_input": "2023-03-08T15:10:28.007813Z",
     "iopub.status.busy": "2023-03-08T15:10:28.006741Z",
     "iopub.status.idle": "2023-03-08T15:10:30.366711Z",
     "shell.execute_reply": "2023-03-08T15:10:30.365137Z"
    },
    "papermill": {
     "duration": 2.388149,
     "end_time": "2023-03-08T15:10:30.369485",
     "exception": false,
     "start_time": "2023-03-08T15:10:27.981336",
     "status": "completed"
    },
    "tags": []
   },
   "outputs": [
    {
     "name": "stdout",
     "output_type": "stream",
     "text": [
      "(10015, 2352) (10015,)\n",
      "(46935, 2352) (46935,)\n"
     ]
    }
   ],
   "source": [
    "print(x.shape,y.shape)\n",
    "# To overcome class imbalace\n",
    "oversample = RandomOverSampler()\n",
    "x,y  = oversample.fit_resample(x,y)\n",
    "print(x.shape,y.shape)"
   ]
  },
  {
   "cell_type": "code",
   "execution_count": 21,
   "id": "41367447",
   "metadata": {
    "execution": {
     "iopub.execute_input": "2023-03-08T15:10:30.402763Z",
     "iopub.status.busy": "2023-03-08T15:10:30.401869Z",
     "iopub.status.idle": "2023-03-08T15:10:31.284869Z",
     "shell.execute_reply": "2023-03-08T15:10:31.283740Z"
    },
    "papermill": {
     "duration": 0.902391,
     "end_time": "2023-03-08T15:10:31.287777",
     "exception": false,
     "start_time": "2023-03-08T15:10:30.385386",
     "status": "completed"
    },
    "tags": []
   },
   "outputs": [
    {
     "name": "stdout",
     "output_type": "stream",
     "text": [
      "Shape of X : (46935, 28, 28, 3)\n",
      "Shape of y : (46935,)\n"
     ]
    }
   ],
   "source": [
    "# reshaping the data so that it can be taken by convolution neural network(without disturbing the no. of samples)\n",
    "x = np.array(x).reshape(-1,28,28,3)\n",
    "print('Shape of X :',x.shape)\n",
    "print('Shape of y :',y.shape)"
   ]
  },
  {
   "cell_type": "code",
   "execution_count": 22,
   "id": "d2efa06c",
   "metadata": {
    "execution": {
     "iopub.execute_input": "2023-03-08T15:10:31.321058Z",
     "iopub.status.busy": "2023-03-08T15:10:31.320449Z",
     "iopub.status.idle": "2023-03-08T15:10:32.559814Z",
     "shell.execute_reply": "2023-03-08T15:10:32.558704Z"
    },
    "papermill": {
     "duration": 1.258473,
     "end_time": "2023-03-08T15:10:32.562608",
     "exception": false,
     "start_time": "2023-03-08T15:10:31.304135",
     "status": "completed"
    },
    "tags": []
   },
   "outputs": [
    {
     "name": "stdout",
     "output_type": "stream",
     "text": [
      "(37548, 28, 28, 3) (37548,)\n",
      "(9387, 28, 28, 3) (9387,)\n"
     ]
    }
   ],
   "source": [
    "# Splitting Data\n",
    "X_train, X_test, Y_train, Y_test = train_test_split(x,y, test_size=0.2, random_state=1)\n",
    "print(X_train.shape,Y_train.shape)\n",
    "print(X_test.shape , Y_test.shape)"
   ]
  },
  {
   "cell_type": "code",
   "execution_count": 23,
   "id": "389372a3",
   "metadata": {
    "execution": {
     "iopub.execute_input": "2023-03-08T15:10:32.596996Z",
     "iopub.status.busy": "2023-03-08T15:10:32.595351Z",
     "iopub.status.idle": "2023-03-08T15:10:35.409907Z",
     "shell.execute_reply": "2023-03-08T15:10:35.408850Z"
    },
    "papermill": {
     "duration": 2.85235,
     "end_time": "2023-03-08T15:10:35.431355",
     "exception": false,
     "start_time": "2023-03-08T15:10:32.579005",
     "status": "completed"
    },
    "tags": []
   },
   "outputs": [
    {
     "name": "stdout",
     "output_type": "stream",
     "text": [
      "Model: \"sequential\"\n",
      "_________________________________________________________________\n",
      " Layer (type)                Output Shape              Param #   \n",
      "=================================================================\n",
      " conv2d (Conv2D)             (None, 28, 28, 16)        448       \n",
      "                                                                 \n",
      " max_pooling2d (MaxPooling2D  (None, 14, 14, 16)       0         \n",
      " )                                                               \n",
      "                                                                 \n",
      " conv2d_1 (Conv2D)           (None, 14, 14, 32)        4640      \n",
      "                                                                 \n",
      " max_pooling2d_1 (MaxPooling  (None, 7, 7, 32)         0         \n",
      " 2D)                                                             \n",
      "                                                                 \n",
      " conv2d_2 (Conv2D)           (None, 7, 7, 64)          18496     \n",
      "                                                                 \n",
      " max_pooling2d_2 (MaxPooling  (None, 4, 4, 64)         0         \n",
      " 2D)                                                             \n",
      "                                                                 \n",
      " conv2d_3 (Conv2D)           (None, 4, 4, 128)         73856     \n",
      "                                                                 \n",
      " max_pooling2d_3 (MaxPooling  (None, 2, 2, 128)        0         \n",
      " 2D)                                                             \n",
      "                                                                 \n",
      " flatten (Flatten)           (None, 512)               0         \n",
      "                                                                 \n",
      " dense (Dense)               (None, 64)                32832     \n",
      "                                                                 \n",
      " dense_1 (Dense)             (None, 32)                2080      \n",
      "                                                                 \n",
      " activation (Activation)     (None, 32)                0         \n",
      "                                                                 \n",
      " dense_2 (Dense)             (None, 7)                 231       \n",
      "                                                                 \n",
      " activation_1 (Activation)   (None, 7)                 0         \n",
      "                                                                 \n",
      "=================================================================\n",
      "Total params: 132,583\n",
      "Trainable params: 132,583\n",
      "Non-trainable params: 0\n",
      "_________________________________________________________________\n",
      "None\n"
     ]
    }
   ],
   "source": [
    "model_CNN = Sequential()\n",
    "model_CNN.add(Conv2D(16, kernel_size = (3,3), input_shape = (28, 28, 3), activation = 'relu', padding = 'same'))\n",
    "model_CNN.add(MaxPool2D(pool_size = (2,2)))\n",
    "\n",
    "model_CNN.add(Conv2D(32, kernel_size = (3,3), activation = 'relu', padding = 'same'))\n",
    "model_CNN.add(MaxPool2D(pool_size = (2,2), padding = 'same'))\n",
    "\n",
    "model_CNN.add(Conv2D(64, kernel_size = (3,3), activation = 'relu', padding = 'same'))\n",
    "model_CNN.add(MaxPool2D(pool_size = (2,2), padding = 'same'))\n",
    "model_CNN.add(Conv2D(128, kernel_size = (3,3), activation = 'relu', padding = 'same'))\n",
    "model_CNN.add(MaxPool2D(pool_size = (2,2), padding = 'same'))\n",
    "\n",
    "model_CNN.add(Flatten())\n",
    "model_CNN.add(Dense(64, activation = 'relu'))\n",
    "model_CNN.add(Dense(32))\n",
    "model_CNN.add(Activation(activation='relu'))\n",
    "model_CNN.add(Dense(7))\n",
    "model_CNN.add(Activation(activation='softmax'))\n",
    "\n",
    "optimizer = tf.keras.optimizers.Adam(learning_rate = 0.001)\n",
    "\n",
    "model_CNN.compile(loss = 'sparse_categorical_crossentropy',\n",
    "                 optimizer = optimizer,\n",
    "                  metrics = ['accuracy'])\n",
    "print(model_CNN.summary())\n"
   ]
  },
  {
   "cell_type": "code",
   "execution_count": 24,
   "id": "006819e6",
   "metadata": {
    "execution": {
     "iopub.execute_input": "2023-03-08T15:10:35.468090Z",
     "iopub.status.busy": "2023-03-08T15:10:35.467728Z",
     "iopub.status.idle": "2023-03-08T15:11:52.897228Z",
     "shell.execute_reply": "2023-03-08T15:11:52.896006Z"
    },
    "papermill": {
     "duration": 77.450728,
     "end_time": "2023-03-08T15:11:52.899764",
     "exception": false,
     "start_time": "2023-03-08T15:10:35.449036",
     "status": "completed"
    },
    "tags": []
   },
   "outputs": [
    {
     "name": "stdout",
     "output_type": "stream",
     "text": [
      "Epoch 1/50\n",
      "470/470 [==============================] - 12s 6ms/step - loss: 1.3738 - accuracy: 0.5052 - val_loss: 0.9090 - val_accuracy: 0.6686 - lr: 0.0010\n",
      "Epoch 2/50\n",
      "470/470 [==============================] - 3s 5ms/step - loss: 0.6964 - accuracy: 0.7383 - val_loss: 0.5437 - val_accuracy: 0.8045 - lr: 0.0010\n",
      "Epoch 3/50\n",
      "470/470 [==============================] - 3s 5ms/step - loss: 0.4560 - accuracy: 0.8354 - val_loss: 0.3697 - val_accuracy: 0.8651 - lr: 0.0010\n",
      "Epoch 4/50\n",
      "470/470 [==============================] - 3s 6ms/step - loss: 0.3339 - accuracy: 0.8778 - val_loss: 0.3328 - val_accuracy: 0.8727 - lr: 0.0010\n",
      "Epoch 5/50\n",
      "470/470 [==============================] - 3s 5ms/step - loss: 0.2635 - accuracy: 0.9048 - val_loss: 0.2747 - val_accuracy: 0.9049 - lr: 0.0010\n",
      "Epoch 6/50\n",
      "470/470 [==============================] - 3s 6ms/step - loss: 0.2073 - accuracy: 0.9260 - val_loss: 0.1851 - val_accuracy: 0.9362 - lr: 0.0010\n",
      "Epoch 7/50\n",
      "470/470 [==============================] - 3s 5ms/step - loss: 0.1862 - accuracy: 0.9336 - val_loss: 0.3240 - val_accuracy: 0.8792 - lr: 0.0010\n",
      "Epoch 8/50\n",
      "470/470 [==============================] - 3s 7ms/step - loss: 0.1674 - accuracy: 0.9391 - val_loss: 0.2133 - val_accuracy: 0.9297 - lr: 0.0010\n",
      "Epoch 9/50\n",
      "470/470 [==============================] - ETA: 0s - loss: 0.1333 - accuracy: 0.9513\n",
      "Epoch 9: ReduceLROnPlateau reducing learning rate to 0.00010000000474974513.\n",
      "470/470 [==============================] - 3s 5ms/step - loss: 0.1333 - accuracy: 0.9513 - val_loss: 0.2699 - val_accuracy: 0.9097 - lr: 0.0010\n",
      "Epoch 10/50\n",
      "470/470 [==============================] - 3s 6ms/step - loss: 0.0425 - accuracy: 0.9876 - val_loss: 0.0891 - val_accuracy: 0.9726 - lr: 1.0000e-04\n",
      "Epoch 11/50\n",
      "470/470 [==============================] - 3s 6ms/step - loss: 0.0249 - accuracy: 0.9937 - val_loss: 0.0818 - val_accuracy: 0.9750 - lr: 1.0000e-04\n",
      "Epoch 12/50\n",
      "470/470 [==============================] - 3s 6ms/step - loss: 0.0182 - accuracy: 0.9957 - val_loss: 0.0782 - val_accuracy: 0.9783 - lr: 1.0000e-04\n",
      "Epoch 13/50\n",
      "470/470 [==============================] - 3s 5ms/step - loss: 0.0135 - accuracy: 0.9973 - val_loss: 0.0819 - val_accuracy: 0.9787 - lr: 1.0000e-04\n",
      "Epoch 14/50\n",
      "470/470 [==============================] - 3s 5ms/step - loss: 0.0102 - accuracy: 0.9981 - val_loss: 0.0814 - val_accuracy: 0.9790 - lr: 1.0000e-04\n",
      "Epoch 15/50\n",
      "470/470 [==============================] - 3s 5ms/step - loss: 0.0071 - accuracy: 0.9991 - val_loss: 0.0740 - val_accuracy: 0.9815 - lr: 1.0000e-04\n",
      "Epoch 16/50\n",
      "470/470 [==============================] - 3s 6ms/step - loss: 0.0053 - accuracy: 0.9996 - val_loss: 0.0752 - val_accuracy: 0.9816 - lr: 1.0000e-04\n",
      "Epoch 17/50\n",
      "470/470 [==============================] - 3s 5ms/step - loss: 0.0036 - accuracy: 0.9999 - val_loss: 0.0843 - val_accuracy: 0.9806 - lr: 1.0000e-04\n",
      "Epoch 18/50\n",
      "469/470 [============================>.] - ETA: 0s - loss: 0.0027 - accuracy: 0.9999\n",
      "Epoch 18: ReduceLROnPlateau reducing learning rate to 1.0000000474974514e-05.\n",
      "470/470 [==============================] - 3s 5ms/step - loss: 0.0027 - accuracy: 0.9999 - val_loss: 0.0780 - val_accuracy: 0.9827 - lr: 1.0000e-04\n",
      "Epoch 19/50\n",
      "470/470 [==============================] - 3s 6ms/step - loss: 0.0018 - accuracy: 0.9999 - val_loss: 0.0883 - val_accuracy: 0.9808 - lr: 1.0000e-05\n",
      "Epoch 20/50\n",
      "470/470 [==============================] - 3s 6ms/step - loss: 0.0015 - accuracy: 1.0000 - val_loss: 0.0858 - val_accuracy: 0.9815 - lr: 1.0000e-05\n",
      "Epoch 21/50\n",
      "465/470 [============================>.] - ETA: 0s - loss: 0.0014 - accuracy: 1.0000\n",
      "Epoch 21: ReduceLROnPlateau reducing learning rate to 1.0000000656873453e-06.\n",
      "470/470 [==============================] - 3s 5ms/step - loss: 0.0014 - accuracy: 1.0000 - val_loss: 0.0874 - val_accuracy: 0.9814 - lr: 1.0000e-05\n",
      "Epoch 22/50\n",
      "470/470 [==============================] - 3s 5ms/step - loss: 0.0013 - accuracy: 1.0000 - val_loss: 0.0882 - val_accuracy: 0.9811 - lr: 1.0000e-06\n",
      "Epoch 23/50\n",
      "470/470 [==============================] - 3s 6ms/step - loss: 0.0013 - accuracy: 1.0000 - val_loss: 0.0887 - val_accuracy: 0.9810 - lr: 1.0000e-06\n",
      "Epoch 24/50\n",
      "463/470 [============================>.] - ETA: 0s - loss: 0.0013 - accuracy: 1.0000\n",
      "Epoch 24: ReduceLROnPlateau reducing learning rate to 1.0000001111620805e-07.\n",
      "470/470 [==============================] - 3s 6ms/step - loss: 0.0013 - accuracy: 1.0000 - val_loss: 0.0887 - val_accuracy: 0.9810 - lr: 1.0000e-06\n",
      "Epoch 25/50\n",
      "470/470 [==============================] - 3s 5ms/step - loss: 0.0013 - accuracy: 1.0000 - val_loss: 0.0887 - val_accuracy: 0.9808 - lr: 1.0000e-07\n",
      "Epoch 25: early stopping\n"
     ]
    }
   ],
   "source": [
    "from tensorflow.keras.callbacks import ReduceLROnPlateau, EarlyStopping\n",
    "early_stop = EarlyStopping(monitor='val_loss', patience=10, verbose=1, mode='auto')\n",
    "reduce_lr = ReduceLROnPlateau(monitor='val_loss', factor=0.1, patience=3, verbose=1, mode='auto')\n",
    "history = model_CNN.fit(X_train,\n",
    "                    Y_train,\n",
    "                    validation_split=0.2,\n",
    "                    batch_size = 64,\n",
    "                    epochs = 50,\n",
    "                    callbacks = [reduce_lr, early_stop])"
   ]
  },
  {
   "cell_type": "code",
   "execution_count": 25,
   "id": "43e3dd28",
   "metadata": {
    "execution": {
     "iopub.execute_input": "2023-03-08T15:11:53.057953Z",
     "iopub.status.busy": "2023-03-08T15:11:53.056879Z",
     "iopub.status.idle": "2023-03-08T15:11:54.164743Z",
     "shell.execute_reply": "2023-03-08T15:11:54.163307Z"
    },
    "papermill": {
     "duration": 1.189365,
     "end_time": "2023-03-08T15:11:54.167610",
     "exception": false,
     "start_time": "2023-03-08T15:11:52.978245",
     "status": "completed"
    },
    "tags": []
   },
   "outputs": [
    {
     "name": "stdout",
     "output_type": "stream",
     "text": [
      "CNN Model Test Results\n",
      "        Test Loss: 0.08494\n",
      "    Test Accuracy: 97.92%\n"
     ]
    }
   ],
   "source": [
    "results = model_CNN.evaluate(X_test , Y_test, verbose=0)\n",
    "\n",
    "print(\"CNN Model Test Results\")\n",
    "print(\"        Test Loss: {:.5f}\".format(results[0]))\n",
    "print(\"    Test Accuracy: {:.2f}%\".format(results[1] * 100))"
   ]
  },
  {
   "cell_type": "code",
   "execution_count": 26,
   "id": "e552e356",
   "metadata": {
    "execution": {
     "iopub.execute_input": "2023-03-08T15:11:54.325037Z",
     "iopub.status.busy": "2023-03-08T15:11:54.324661Z",
     "iopub.status.idle": "2023-03-08T15:11:54.590814Z",
     "shell.execute_reply": "2023-03-08T15:11:54.589834Z"
    },
    "papermill": {
     "duration": 0.347143,
     "end_time": "2023-03-08T15:11:54.593169",
     "exception": false,
     "start_time": "2023-03-08T15:11:54.246026",
     "status": "completed"
    },
    "tags": []
   },
   "outputs": [
    {
     "data": {
      "image/png": "[encoded data removed]",
      "text/plain": [
       "<Figure size 640x480 with 1 Axes>"
      ]
     },
     "metadata": {},
     "output_type": "display_data"
    }
   ],
   "source": [
    "plt.plot(history.history['accuracy'])\n",
    "plt.plot(history.history['val_accuracy'])\n",
    "plt.title('model accuracy')\n",
    "plt.ylabel('accuracy')\n",
    "plt.xlabel('epoch')\n",
    "plt.legend(['train', 'val'], loc='upper left')\n",
    "plt.show()"
   ]
  },
  {
   "cell_type": "code",
   "execution_count": 27,
   "id": "fb6135e9",
   "metadata": {
    "execution": {
     "iopub.execute_input": "2023-03-08T15:11:54.750867Z",
     "iopub.status.busy": "2023-03-08T15:11:54.750521Z",
     "iopub.status.idle": "2023-03-08T15:11:54.997627Z",
     "shell.execute_reply": "2023-03-08T15:11:54.996621Z"
    },
    "papermill": {
     "duration": 0.328734,
     "end_time": "2023-03-08T15:11:54.999801",
     "exception": false,
     "start_time": "2023-03-08T15:11:54.671067",
     "status": "completed"
    },
    "tags": []
   },
   "outputs": [
    {
     "data": {
      "image/png": "[encoded data removed]",
      "text/plain": [
       "<Figure size 640x480 with 1 Axes>"
      ]
     },
     "metadata": {},
     "output_type": "display_data"
    }
   ],
   "source": [
    "plt.plot(history.history['loss'])\n",
    "plt.plot(history.history['val_loss'])\n",
    "plt.title('model loss')\n",
    "plt.ylabel('loss')\n",
    "plt.xlabel('epoch')\n",
    "plt.legend(['train', 'val'], loc='upper right')\n",
    "plt.show()"
   ]
  },
  {
   "cell_type": "code",
   "execution_count": 28,
   "id": "a0751158",
   "metadata": {
    "execution": {
     "iopub.execute_input": "2023-03-08T15:11:55.158038Z",
     "iopub.status.busy": "2023-03-08T15:11:55.157656Z",
     "iopub.status.idle": "2023-03-08T15:11:56.467308Z",
     "shell.execute_reply": "2023-03-08T15:11:56.466194Z"
    },
    "papermill": {
     "duration": 1.392176,
     "end_time": "2023-03-08T15:11:56.470228",
     "exception": false,
     "start_time": "2023-03-08T15:11:55.078052",
     "status": "completed"
    },
    "tags": []
   },
   "outputs": [
    {
     "name": "stdout",
     "output_type": "stream",
     "text": [
      "294/294 [==============================] - 1s 2ms/step\n",
      "Predicting First Ten Rows:\n",
      "Y Actual Values : [5, 1, 4, 0, 5, 0, 2, 0, 3, 2]\n",
      "Y Predicted Values : [5, 1, 4, 0, 5, 0, 2, 0, 3, 2]\n"
     ]
    }
   ],
   "source": [
    "from sklearn.metrics import confusion_matrix , classification_report\n",
    "\n",
    "y_true_CNN = list(Y_test)\n",
    "y_pred_CNN = model_CNN.predict(X_test)\n",
    "y_pred_CNN = list(map(lambda x: np.argmax(x), y_pred_CNN))\n",
    "print(\"Predicting First Ten Rows:\")\n",
    "print('Y Actual Values :' , y_true_CNN[0:10])\n",
    "print('Y Predicted Values :' , y_pred_CNN[0:10])"
   ]
  },
  {
   "cell_type": "code",
   "execution_count": 29,
   "id": "a7777846",
   "metadata": {
    "execution": {
     "iopub.execute_input": "2023-03-08T15:11:56.632866Z",
     "iopub.status.busy": "2023-03-08T15:11:56.631760Z",
     "iopub.status.idle": "2023-03-08T15:11:57.127133Z",
     "shell.execute_reply": "2023-03-08T15:11:57.126131Z"
    },
    "papermill": {
     "duration": 0.578536,
     "end_time": "2023-03-08T15:11:57.129296",
     "exception": false,
     "start_time": "2023-03-08T15:11:56.550760",
     "status": "completed"
    },
    "tags": []
   },
   "outputs": [
    {
     "name": "stdout",
     "output_type": "stream",
     "text": [
      "[[1252    4    0    3    0    1    2]\n",
      " [  65 1197    1   89    4   13    5]\n",
      " [   0    0 1351    0    0    0    0]\n",
      " [   2    4    0 1357    0    2    0]\n",
      " [   0    0    0    0 1358    0    0]\n",
      " [   0    0    0    0    0 1318    0]\n",
      " [   0    0    0    0    0    0 1359]]\n"
     ]
    },
    {
     "data": {
      "text/plain": [
       "<AxesSubplot:>"
      ]
     },
     "execution_count": 29,
     "metadata": {},
     "output_type": "execute_result"
    },
    {
     "data": {
      "image/png": "[encoded data removed]",
      "text/plain": [
       "<Figure size 640x480 with 2 Axes>"
      ]
     },
     "metadata": {},
     "output_type": "display_data"
    }
   ],
   "source": [
    "cm_CNN = confusion_matrix(y_true_CNN,y_pred_CNN,labels=classes_labels)\n",
    "print(confusion_matrix(y_true_CNN,y_pred_CNN,labels=classes_labels))\n",
    "sns.heatmap(cm_CNN, annot = True, fmt='')"
   ]
  },
  {
   "cell_type": "code",
   "execution_count": 30,
   "id": "2ea87b33",
   "metadata": {
    "execution": {
     "iopub.execute_input": "2023-03-08T15:11:57.291939Z",
     "iopub.status.busy": "2023-03-08T15:11:57.291551Z",
     "iopub.status.idle": "2023-03-08T15:11:57.537010Z",
     "shell.execute_reply": "2023-03-08T15:11:57.535848Z"
    },
    "papermill": {
     "duration": 0.329374,
     "end_time": "2023-03-08T15:11:57.539258",
     "exception": false,
     "start_time": "2023-03-08T15:11:57.209884",
     "status": "completed"
    },
    "tags": []
   },
   "outputs": [
    {
     "data": {
      "image/png": "[encoded data removed]",
      "text/plain": [
       "<Figure size 640x480 with 1 Axes>"
      ]
     },
     "metadata": {},
     "output_type": "display_data"
    }
   ],
   "source": [
    "#training acc vs testing acc graph\n",
    "plt.plot(history.history[\"accuracy\"] , 'ro-' , label = \"Training Accuracy\")\n",
    "plt.plot(history.history[\"val_accuracy\"] , 'go-' , label = \"Testing Accuracy\")\n",
    "plt.legend()\n",
    "plt.show()"
   ]
  },
  {
   "cell_type": "code",
   "execution_count": 31,
   "id": "59290e3e",
   "metadata": {
    "execution": {
     "iopub.execute_input": "2023-03-08T15:11:57.704283Z",
     "iopub.status.busy": "2023-03-08T15:11:57.703291Z",
     "iopub.status.idle": "2023-03-08T15:11:58.858696Z",
     "shell.execute_reply": "2023-03-08T15:11:58.857598Z"
    },
    "papermill": {
     "duration": 1.239013,
     "end_time": "2023-03-08T15:11:58.860998",
     "exception": false,
     "start_time": "2023-03-08T15:11:57.621985",
     "status": "completed"
    },
    "tags": []
   },
   "outputs": [
    {
     "name": "stdout",
     "output_type": "stream",
     "text": [
      "294/294 [==============================] - 1s 2ms/step\n",
      "CNN Model Prediction Results\n",
      "              precision    recall  f1-score   support\n",
      "\n",
      "       akiec       0.99      1.00      1.00      1359\n",
      "         bcc       0.99      1.00      0.99      1318\n",
      "         bkl       0.95      0.99      0.97      1262\n",
      "          df       1.00      1.00      1.00      1351\n",
      "          nv       0.99      0.87      0.93      1374\n",
      "        vasc       1.00      1.00      1.00      1358\n",
      "         mel       0.94      0.99      0.96      1365\n",
      "\n",
      "    accuracy                           0.98      9387\n",
      "   macro avg       0.98      0.98      0.98      9387\n",
      "weighted avg       0.98      0.98      0.98      9387\n",
      "\n"
     ]
    }
   ],
   "source": [
    "#predicting\n",
    "y_pred_CNN  = model_CNN.predict(X_test)\n",
    "target_names = [f\"{classes[i]}\" for i in range(7)]\n",
    "y_pred_CNN = list(map(lambda x: np.argmax(x), y_pred_CNN))\n",
    "print(\"CNN Model Prediction Results\")\n",
    "print(classification_report(Y_test , y_pred_CNN,target_names=target_names))"
   ]
  },
  {
   "cell_type": "code",
   "execution_count": 32,
   "id": "e2823a3b",
   "metadata": {
    "execution": {
     "iopub.execute_input": "2023-03-08T15:11:59.027516Z",
     "iopub.status.busy": "2023-03-08T15:11:59.026863Z",
     "iopub.status.idle": "2023-03-08T15:11:59.034363Z",
     "shell.execute_reply": "2023-03-08T15:11:59.032782Z"
    },
    "papermill": {
     "duration": 0.092963,
     "end_time": "2023-03-08T15:11:59.037166",
     "exception": false,
     "start_time": "2023-03-08T15:11:58.944203",
     "status": "completed"
    },
    "tags": []
   },
   "outputs": [
    {
     "name": "stdout",
     "output_type": "stream",
     "text": [
      "0 <keras.layers.convolutional.conv2d.Conv2D object at 0x7f3390d60e50>\n",
      "1 <keras.layers.pooling.max_pooling2d.MaxPooling2D object at 0x7f33ff3b7250>\n",
      "2 <keras.layers.convolutional.conv2d.Conv2D object at 0x7f3390d60710>\n",
      "3 <keras.layers.pooling.max_pooling2d.MaxPooling2D object at 0x7f33909bfa90>\n",
      "4 <keras.layers.convolutional.conv2d.Conv2D object at 0x7f33ff10e790>\n",
      "5 <keras.layers.pooling.max_pooling2d.MaxPooling2D object at 0x7f3390d75e90>\n",
      "6 <keras.layers.convolutional.conv2d.Conv2D object at 0x7f3390d82f50>\n",
      "7 <keras.layers.pooling.max_pooling2d.MaxPooling2D object at 0x7f3390d75550>\n",
      "8 <keras.layers.reshaping.flatten.Flatten object at 0x7f3390d69cd0>\n",
      "9 <keras.layers.core.dense.Dense object at 0x7f3390d823d0>\n",
      "10 <keras.layers.core.dense.Dense object at 0x7f33ff172a50>\n",
      "11 <keras.layers.core.activation.Activation object at 0x7f3390d6f290>\n",
      "12 <keras.layers.core.dense.Dense object at 0x7f3390b10950>\n",
      "13 <keras.layers.core.activation.Activation object at 0x7f33ff1ba1d0>\n"
     ]
    }
   ],
   "source": [
    "# Layers definitions\n",
    "from keras import backend as K\n",
    "for l in range(len(model_CNN.layers)):\n",
    "    print(l, model_CNN.layers[l])"
   ]
  },
  {
   "cell_type": "code",
   "execution_count": 33,
   "id": "7031b7e9",
   "metadata": {
    "execution": {
     "iopub.execute_input": "2023-03-08T15:11:59.204246Z",
     "iopub.status.busy": "2023-03-08T15:11:59.203028Z",
     "iopub.status.idle": "2023-03-08T15:11:59.212067Z",
     "shell.execute_reply": "2023-03-08T15:11:59.211146Z"
    },
    "papermill": {
     "duration": 0.094969,
     "end_time": "2023-03-08T15:11:59.214274",
     "exception": false,
     "start_time": "2023-03-08T15:11:59.119305",
     "status": "completed"
    },
    "tags": []
   },
   "outputs": [
    {
     "data": {
      "text/plain": [
       "<keras.layers.core.dense.Dense at 0x7f3390b10950>"
      ]
     },
     "execution_count": 33,
     "metadata": {},
     "output_type": "execute_result"
    }
   ],
   "source": [
    "model_CNN.layers[-2]"
   ]
  },
  {
   "cell_type": "code",
   "execution_count": 34,
   "id": "494b8ed4",
   "metadata": {
    "execution": {
     "iopub.execute_input": "2023-03-08T15:11:59.377705Z",
     "iopub.status.busy": "2023-03-08T15:11:59.377018Z",
     "iopub.status.idle": "2023-03-08T15:11:59.385268Z",
     "shell.execute_reply": "2023-03-08T15:11:59.384014Z"
    },
    "papermill": {
     "duration": 0.093469,
     "end_time": "2023-03-08T15:11:59.388113",
     "exception": false,
     "start_time": "2023-03-08T15:11:59.294644",
     "status": "completed"
    },
    "tags": []
   },
   "outputs": [
    {
     "name": "stdout",
     "output_type": "stream",
     "text": [
      "tensorflow\n"
     ]
    }
   ],
   "source": [
    "import os\n",
    "os.environ[\"KERAS_BACKEND\"] = \"tensorflow\"\n",
    "kerasBKED = os.environ[\"KERAS_BACKEND\"] \n",
    "print(kerasBKED)"
   ]
  },
  {
   "cell_type": "markdown",
   "id": "13881147",
   "metadata": {
    "papermill": {
     "duration": 0.080158,
     "end_time": "2023-03-08T15:11:59.548705",
     "exception": false,
     "start_time": "2023-03-08T15:11:59.468547",
     "status": "completed"
    },
    "tags": []
   },
   "source": [
    "## Separating Features Layers from the CNN Model"
   ]
  },
  {
   "cell_type": "code",
   "execution_count": 35,
   "id": "222987aa",
   "metadata": {
    "execution": {
     "iopub.execute_input": "2023-03-08T15:11:59.769652Z",
     "iopub.status.busy": "2023-03-08T15:11:59.769296Z",
     "iopub.status.idle": "2023-03-08T15:11:59.779126Z",
     "shell.execute_reply": "2023-03-08T15:11:59.778206Z"
    },
    "papermill": {
     "duration": 0.098006,
     "end_time": "2023-03-08T15:11:59.781261",
     "exception": false,
     "start_time": "2023-03-08T15:11:59.683255",
     "status": "completed"
    },
    "tags": []
   },
   "outputs": [],
   "source": [
    "import tensorflow as tf\n",
    "# feature_extractor = tf.keras.Model(inputs=model_CNN.input, \n",
    "#                                     outputs=model_CNN.get_layer(-2).output)\n",
    "# output_layers_model =tf.keras.Model(inputs=model_CNN.input, outputs=model_CNN.output)\n",
    "# cnn_layer_output = model_CNN.layers[-2].output\n",
    "# cnn_model_features = tf.keras.Model(inputs=model_CNN.input, outputs=cnn_layer_output)\n",
    "cnn_model_features = tf.keras.Model(inputs=model_CNN.input, outputs=model_CNN.layers[-3].output)\n"
   ]
  },
  {
   "cell_type": "markdown",
   "id": "8da8dcdb",
   "metadata": {
    "papermill": {
     "duration": 0.080855,
     "end_time": "2023-03-08T15:11:59.945013",
     "exception": false,
     "start_time": "2023-03-08T15:11:59.864158",
     "status": "completed"
    },
    "tags": []
   },
   "source": [
    "## Extracting Features from CNN Model"
   ]
  },
  {
   "cell_type": "code",
   "execution_count": 36,
   "id": "d699e386",
   "metadata": {
    "execution": {
     "iopub.execute_input": "2023-03-08T15:12:00.110485Z",
     "iopub.status.busy": "2023-03-08T15:12:00.109798Z",
     "iopub.status.idle": "2023-03-08T15:12:06.176232Z",
     "shell.execute_reply": "2023-03-08T15:12:06.174982Z"
    },
    "papermill": {
     "duration": 6.15226,
     "end_time": "2023-03-08T15:12:06.179486",
     "exception": false,
     "start_time": "2023-03-08T15:12:00.027226",
     "status": "completed"
    },
    "tags": []
   },
   "outputs": [
    {
     "name": "stdout",
     "output_type": "stream",
     "text": [
      "1174/1174 [==============================] - 2s 2ms/step\n",
      "294/294 [==============================] - 1s 2ms/step\n"
     ]
    }
   ],
   "source": [
    "# Extract features from input data using the CNN model\n",
    "X_train_cnn = cnn_model_features.predict(X_train)\n",
    "X_test_cnn = cnn_model_features.predict(X_test)"
   ]
  },
  {
   "cell_type": "markdown",
   "id": "f4f692f7",
   "metadata": {
    "papermill": {
     "duration": 0.085833,
     "end_time": "2023-03-08T15:12:06.362758",
     "exception": false,
     "start_time": "2023-03-08T15:12:06.276925",
     "status": "completed"
    },
    "tags": []
   },
   "source": [
    "## Integrating CNN with SVM Classifier using Grid Search for Best Perameters"
   ]
  },
  {
   "cell_type": "code",
   "execution_count": 37,
   "id": "4698b39d",
   "metadata": {
    "execution": {
     "iopub.execute_input": "2023-03-08T15:12:06.537974Z",
     "iopub.status.busy": "2023-03-08T15:12:06.537006Z",
     "iopub.status.idle": "2023-03-08T15:13:19.707015Z",
     "shell.execute_reply": "2023-03-08T15:13:19.705859Z"
    },
    "papermill": {
     "duration": 73.263177,
     "end_time": "2023-03-08T15:13:19.710369",
     "exception": false,
     "start_time": "2023-03-08T15:12:06.447192",
     "status": "completed"
    },
    "tags": []
   },
   "outputs": [
    {
     "name": "stdout",
     "output_type": "stream",
     "text": [
      "SVM Accuracy: 98.47661659742197\n"
     ]
    }
   ],
   "source": [
    "import numpy as np\n",
    "from sklearn.svm import SVC\n",
    "from sklearn.model_selection import GridSearchCV\n",
    "\n",
    "parameters = {'kernel':['rbf'], \n",
    "              'C':[1, 10, 100, 1000],\n",
    "              'gamma':[1e-3, 1e-4]}\n",
    "clf = GridSearchCV(SVC(), parameters)\n",
    "clf.fit(X_train_cnn, Y_train)\n",
    "# Evaluate the combined CNN-SVM model on a test dataset\n",
    "svm_accuracy = clf.score(X_test_cnn, Y_test)\n",
    "print('SVM Accuracy:', svm_accuracy*100)\n",
    "y_testSVM = clf.predict(X_test_cnn)"
   ]
  },
  {
   "cell_type": "code",
   "execution_count": 38,
   "id": "b239eadc",
   "metadata": {
    "execution": {
     "iopub.execute_input": "2023-03-08T15:13:19.994201Z",
     "iopub.status.busy": "2023-03-08T15:13:19.993646Z",
     "iopub.status.idle": "2023-03-08T15:13:21.681731Z",
     "shell.execute_reply": "2023-03-08T15:13:21.680619Z"
    },
    "papermill": {
     "duration": 1.825546,
     "end_time": "2023-03-08T15:13:21.684032",
     "exception": false,
     "start_time": "2023-03-08T15:13:19.858486",
     "status": "completed"
    },
    "tags": []
   },
   "outputs": [
    {
     "name": "stdout",
     "output_type": "stream",
     "text": [
      "SVM Accuracy: 98.47661659742197\n",
      "SVC(C=10, gamma=0.0001)\n",
      "Accuracy: 98.47661659742197\n"
     ]
    }
   ],
   "source": [
    "svm_accuracy = clf.score(X_test_cnn, Y_test)\n",
    "print('SVM Accuracy:', svm_accuracy*100)\n",
    "svmclf = clf.best_estimator_\n",
    "print(svmclf)\n",
    "svmclf.fit(X_train_cnn, Y_train)\n",
    "print(\"Accuracy: {0}\".format(accuracy_score(Y_test, y_testSVM)*100))"
   ]
  },
  {
   "cell_type": "code",
   "execution_count": 39,
   "id": "093bd0a3",
   "metadata": {
    "execution": {
     "iopub.execute_input": "2023-03-08T15:13:21.855531Z",
     "iopub.status.busy": "2023-03-08T15:13:21.854525Z",
     "iopub.status.idle": "2023-03-08T15:13:22.320790Z",
     "shell.execute_reply": "2023-03-08T15:13:22.319060Z"
    },
    "papermill": {
     "duration": 0.555166,
     "end_time": "2023-03-08T15:13:22.323733",
     "exception": false,
     "start_time": "2023-03-08T15:13:21.768567",
     "status": "completed"
    },
    "tags": []
   },
   "outputs": [
    {
     "name": "stdout",
     "output_type": "stream",
     "text": [
      "              precision    recall  f1-score   support\n",
      "\n",
      "       akiec       1.00      1.00      1.00      1359\n",
      "         bcc       0.99      1.00      1.00      1318\n",
      "         bkl       0.96      0.99      0.98      1262\n",
      "          df       1.00      1.00      1.00      1351\n",
      "          nv       0.99      0.91      0.95      1374\n",
      "        vasc       1.00      1.00      1.00      1358\n",
      "         mel       0.96      0.99      0.97      1365\n",
      "\n",
      "    accuracy                           0.98      9387\n",
      "   macro avg       0.98      0.99      0.98      9387\n",
      "weighted avg       0.99      0.98      0.98      9387\n",
      "\n",
      "Accuracy: 98.47661659742197\n"
     ]
    }
   ],
   "source": [
    "y_testSVM = svmclf.predict(X_test_cnn)\n",
    "from sklearn.metrics import confusion_matrix, classification_report, accuracy_score\n",
    "\n",
    "print(classification_report(Y_test, y_testSVM,target_names=target_names))\n",
    "print(\"Accuracy: {0}\".format(accuracy_score(Y_test, y_testSVM)*100))"
   ]
  },
  {
   "cell_type": "code",
   "execution_count": null,
   "id": "c8212b2a",
   "metadata": {
    "papermill": {
     "duration": 0.083308,
     "end_time": "2023-03-08T15:13:22.492680",
     "exception": false,
     "start_time": "2023-03-08T15:13:22.409372",
     "status": "completed"
    },
    "tags": []
   },
   "outputs": [],
   "source": []
  },
  {
   "cell_type": "markdown",
   "id": "f24bf1b3",
   "metadata": {
    "papermill": {
     "duration": 0.083312,
     "end_time": "2023-03-08T15:13:22.659866",
     "exception": false,
     "start_time": "2023-03-08T15:13:22.576554",
     "status": "completed"
    },
    "tags": []
   },
   "source": [
    "## Integrating CNN with Random Forest Classifier using Grid Search for Best Perameters"
   ]
  },
  {
   "cell_type": "code",
   "execution_count": 40,
   "id": "de997817",
   "metadata": {
    "execution": {
     "iopub.execute_input": "2023-03-08T15:13:22.829545Z",
     "iopub.status.busy": "2023-03-08T15:13:22.829189Z",
     "iopub.status.idle": "2023-03-08T15:50:10.095309Z",
     "shell.execute_reply": "2023-03-08T15:50:10.094225Z"
    },
    "papermill": {
     "duration": 2207.470419,
     "end_time": "2023-03-08T15:50:10.214221",
     "exception": false,
     "start_time": "2023-03-08T15:13:22.743802",
     "status": "completed"
    },
    "tags": []
   },
   "outputs": [
    {
     "name": "stdout",
     "output_type": "stream",
     "text": [
      "Random Forest Classifier Accuracy: 98.77490145946521\n",
      "Accuracy: 98.77490145946521\n"
     ]
    }
   ],
   "source": [
    "from sklearn.ensemble import RandomForestClassifier\n",
    "from sklearn.model_selection import GridSearchCV\n",
    "\n",
    "parameters = {\"max_depth\": [3, None],\n",
    "              \"max_features\": [1, 3, 10],\n",
    "              \"min_samples_split\": [1.0, 3, 10],\n",
    "              \"min_samples_leaf\": [1, 3, 10],\n",
    "              \"bootstrap\": [True, False],\n",
    "              \"criterion\": [\"gini\", \"entropy\"],\n",
    "              \"n_estimators\": [10, 20, 50]}\n",
    "rclf = RandomForestClassifier()\n",
    "rgclf = GridSearchCV(rclf, param_grid=parameters)\n",
    "rgclf.fit(X_train_cnn, Y_train)\n",
    "RFC_accuracy = rgclf.score(X_test_cnn, Y_test)\n",
    "print('Random Forest Classifier Accuracy:', RFC_accuracy*100)\n",
    "y_test_RF = rgclf.predict(X_test_cnn)\n",
    "print(\"Accuracy: {0}\".format(accuracy_score(Y_test, y_test_RF)*100))"
   ]
  },
  {
   "cell_type": "code",
   "execution_count": 41,
   "id": "8b91dea0",
   "metadata": {
    "execution": {
     "iopub.execute_input": "2023-03-08T15:50:10.481107Z",
     "iopub.status.busy": "2023-03-08T15:50:10.480674Z",
     "iopub.status.idle": "2023-03-08T15:50:11.453190Z",
     "shell.execute_reply": "2023-03-08T15:50:11.451885Z"
    },
    "papermill": {
     "duration": 1.104482,
     "end_time": "2023-03-08T15:50:11.456469",
     "exception": false,
     "start_time": "2023-03-08T15:50:10.351987",
     "status": "completed"
    },
    "tags": []
   },
   "outputs": [
    {
     "name": "stdout",
     "output_type": "stream",
     "text": [
      "Accuracy: 98.77490145946521\n",
      "RandomForestClassifier(bootstrap=False, max_features=1, min_samples_split=3,\n",
      "                       n_estimators=50)\n",
      "              precision    recall  f1-score   support\n",
      "\n",
      "       akiec       1.00      1.00      1.00      1359\n",
      "         bcc       1.00      1.00      1.00      1318\n",
      "         bkl       1.00      1.00      1.00      1262\n",
      "          df       1.00      1.00      1.00      1351\n",
      "          nv       1.00      1.00      1.00      1374\n",
      "        vasc       1.00      1.00      1.00      1358\n",
      "         mel       1.00      1.00      1.00      1365\n",
      "\n",
      "    accuracy                           1.00      9387\n",
      "   macro avg       1.00      1.00      1.00      9387\n",
      "weighted avg       1.00      1.00      1.00      9387\n",
      "\n",
      "Accuracy: 100.0\n"
     ]
    }
   ],
   "source": [
    "y_test_RF = rgclf.predict(X_test_cnn)\n",
    "print(\"Accuracy: {0}\".format(accuracy_score(Y_test, y_test_RF)*100))\n",
    "RFclf = rgclf.best_estimator_\n",
    "RFclf.fit(X_test_cnn, Y_test)\n",
    "print(RFclf)\n",
    "y_testRFC = RFclf.predict(X_test_cnn)\n",
    "from sklearn.metrics import confusion_matrix, classification_report, accuracy_score\n",
    "\n",
    "print(classification_report(Y_test, y_testRFC,target_names=target_names))\n",
    "print(\"Accuracy: {0}\".format(accuracy_score(Y_test, y_testRFC)*100))"
   ]
  },
  {
   "cell_type": "markdown",
   "id": "85d0831b",
   "metadata": {
    "papermill": {
     "duration": 0.086045,
     "end_time": "2023-03-08T15:50:11.650304",
     "exception": false,
     "start_time": "2023-03-08T15:50:11.564259",
     "status": "completed"
    },
    "tags": []
   },
   "source": [
    "## Integrating CNN with KNN Classifier using Grid Search for Best Perameters"
   ]
  },
  {
   "cell_type": "code",
   "execution_count": 42,
   "id": "8823af3a",
   "metadata": {
    "execution": {
     "iopub.execute_input": "2023-03-08T15:50:11.825650Z",
     "iopub.status.busy": "2023-03-08T15:50:11.825294Z",
     "iopub.status.idle": "2023-03-08T16:21:48.441000Z",
     "shell.execute_reply": "2023-03-08T16:21:48.439847Z"
    },
    "papermill": {
     "duration": 1896.792835,
     "end_time": "2023-03-08T16:21:48.530290",
     "exception": false,
     "start_time": "2023-03-08T15:50:11.737455",
     "status": "completed"
    },
    "tags": []
   },
   "outputs": [
    {
     "name": "stdout",
     "output_type": "stream",
     "text": [
      "KNN Classifier Accuracy: 98.52988175135826\n"
     ]
    }
   ],
   "source": [
    "from sklearn.neighbors import KNeighborsClassifier\n",
    "from sklearn.model_selection import GridSearchCV\n",
    "\n",
    "parameters = {\"n_neighbors\": [1, 5, 10,30],\n",
    "              \"weights\": ['uniform', 'distance'],\n",
    "              \"metric\": ['minkowski','euclidean','manhattan'],\n",
    "              \"algorithm\": ['auto', 'ball_tree', 'kd_tree', 'brute']}\n",
    "kclf = KNeighborsClassifier()\n",
    "kgclf = GridSearchCV(kclf, param_grid=parameters)\n",
    "kgclf.fit(X_train_cnn, Y_train)\n",
    "KNN_accuracy = kgclf.score(X_test_cnn, Y_test)\n",
    "print('KNN Classifier Accuracy:', KNN_accuracy*100)"
   ]
  },
  {
   "cell_type": "code",
   "execution_count": 43,
   "id": "364fe8f1",
   "metadata": {
    "execution": {
     "iopub.execute_input": "2023-03-08T16:21:48.703165Z",
     "iopub.status.busy": "2023-03-08T16:21:48.702178Z",
     "iopub.status.idle": "2023-03-08T16:21:54.722235Z",
     "shell.execute_reply": "2023-03-08T16:21:54.720050Z"
    },
    "papermill": {
     "duration": 6.108879,
     "end_time": "2023-03-08T16:21:54.725192",
     "exception": false,
     "start_time": "2023-03-08T16:21:48.616313",
     "status": "completed"
    },
    "tags": []
   },
   "outputs": [
    {
     "name": "stdout",
     "output_type": "stream",
     "text": [
      "KNeighborsClassifier(n_neighbors=1)\n",
      "              precision    recall  f1-score   support\n",
      "\n",
      "       akiec       1.00      1.00      1.00      1359\n",
      "         bcc       0.99      1.00      0.99      1318\n",
      "         bkl       0.96      1.00      0.98      1262\n",
      "          df       1.00      1.00      1.00      1351\n",
      "          nv       1.00      0.91      0.95      1374\n",
      "        vasc       1.00      1.00      1.00      1358\n",
      "         mel       0.96      0.99      0.98      1365\n",
      "\n",
      "    accuracy                           0.99      9387\n",
      "   macro avg       0.99      0.99      0.99      9387\n",
      "weighted avg       0.99      0.99      0.99      9387\n",
      "\n",
      "Accuracy Score: 98.52988175135826\n"
     ]
    }
   ],
   "source": [
    "y_testKNN = kgclf.predict(X_test_cnn)\n",
    "KNNclf = kgclf.best_estimator_\n",
    "print(KNNclf)\n",
    "from sklearn.metrics import confusion_matrix, classification_report, accuracy_score\n",
    "\n",
    "print(classification_report(Y_test, y_testKNN,target_names=target_names))\n",
    "print(\"Accuracy Score: {0}\".format(accuracy_score(Y_test, y_testKNN)*100))"
   ]
  },
  {
   "cell_type": "markdown",
   "id": "19b98b45",
   "metadata": {
    "papermill": {
     "duration": 0.08462,
     "end_time": "2023-03-08T16:21:54.896817",
     "exception": false,
     "start_time": "2023-03-08T16:21:54.812197",
     "status": "completed"
    },
    "tags": []
   },
   "source": [
    "## Integrating CNN with Logistic Regression Classifier using Grid Search for Best Perameters"
   ]
  },
  {
   "cell_type": "code",
   "execution_count": 44,
   "id": "771ddfd6",
   "metadata": {
    "execution": {
     "iopub.execute_input": "2023-03-08T16:21:55.070198Z",
     "iopub.status.busy": "2023-03-08T16:21:55.069831Z",
     "iopub.status.idle": "2023-03-08T16:23:04.241770Z",
     "shell.execute_reply": "2023-03-08T16:23:04.239643Z"
    },
    "papermill": {
     "duration": 69.263826,
     "end_time": "2023-03-08T16:23:04.246972",
     "exception": false,
     "start_time": "2023-03-08T16:21:54.983146",
     "status": "completed"
    },
    "tags": []
   },
   "outputs": [
    {
     "name": "stderr",
     "output_type": "stream",
     "text": [
      "/opt/conda/lib/python3.7/site-packages/sklearn/linear_model/_logistic.py:818: ConvergenceWarning: lbfgs failed to converge (status=1):\n",
      "STOP: TOTAL NO. of ITERATIONS REACHED LIMIT.\n",
      "\n",
      "Increase the number of iterations (max_iter) or scale the data as shown in:\n",
      "    https://scikit-learn.org/stable/modules/preprocessing.html\n",
      "Please also refer to the documentation for alternative solver options:\n",
      "    https://scikit-learn.org/stable/modules/linear_model.html#logistic-regression\n",
      "  extra_warning_msg=_LOGISTIC_SOLVER_CONVERGENCE_MSG,\n",
      "/opt/conda/lib/python3.7/site-packages/sklearn/linear_model/_logistic.py:818: ConvergenceWarning: lbfgs failed to converge (status=1):\n",
      "STOP: TOTAL NO. of ITERATIONS REACHED LIMIT.\n",
      "\n",
      "Increase the number of iterations (max_iter) or scale the data as shown in:\n",
      "    https://scikit-learn.org/stable/modules/preprocessing.html\n",
      "Please also refer to the documentation for alternative solver options:\n",
      "    https://scikit-learn.org/stable/modules/linear_model.html#logistic-regression\n",
      "  extra_warning_msg=_LOGISTIC_SOLVER_CONVERGENCE_MSG,\n",
      "/opt/conda/lib/python3.7/site-packages/sklearn/linear_model/_logistic.py:818: ConvergenceWarning: lbfgs failed to converge (status=1):\n",
      "STOP: TOTAL NO. of ITERATIONS REACHED LIMIT.\n",
      "\n",
      "Increase the number of iterations (max_iter) or scale the data as shown in:\n",
      "    https://scikit-learn.org/stable/modules/preprocessing.html\n",
      "Please also refer to the documentation for alternative solver options:\n",
      "    https://scikit-learn.org/stable/modules/linear_model.html#logistic-regression\n",
      "  extra_warning_msg=_LOGISTIC_SOLVER_CONVERGENCE_MSG,\n",
      "/opt/conda/lib/python3.7/site-packages/sklearn/linear_model/_logistic.py:818: ConvergenceWarning: lbfgs failed to converge (status=1):\n",
      "STOP: TOTAL NO. of ITERATIONS REACHED LIMIT.\n",
      "\n",
      "Increase the number of iterations (max_iter) or scale the data as shown in:\n",
      "    https://scikit-learn.org/stable/modules/preprocessing.html\n",
      "Please also refer to the documentation for alternative solver options:\n",
      "    https://scikit-learn.org/stable/modules/linear_model.html#logistic-regression\n",
      "  extra_warning_msg=_LOGISTIC_SOLVER_CONVERGENCE_MSG,\n",
      "/opt/conda/lib/python3.7/site-packages/sklearn/linear_model/_logistic.py:818: ConvergenceWarning: lbfgs failed to converge (status=1):\n",
      "STOP: TOTAL NO. of ITERATIONS REACHED LIMIT.\n",
      "\n",
      "Increase the number of iterations (max_iter) or scale the data as shown in:\n",
      "    https://scikit-learn.org/stable/modules/preprocessing.html\n",
      "Please also refer to the documentation for alternative solver options:\n",
      "    https://scikit-learn.org/stable/modules/linear_model.html#logistic-regression\n",
      "  extra_warning_msg=_LOGISTIC_SOLVER_CONVERGENCE_MSG,\n",
      "/opt/conda/lib/python3.7/site-packages/sklearn/linear_model/_logistic.py:818: ConvergenceWarning: lbfgs failed to converge (status=1):\n",
      "STOP: TOTAL NO. of ITERATIONS REACHED LIMIT.\n",
      "\n",
      "Increase the number of iterations (max_iter) or scale the data as shown in:\n",
      "    https://scikit-learn.org/stable/modules/preprocessing.html\n",
      "Please also refer to the documentation for alternative solver options:\n",
      "    https://scikit-learn.org/stable/modules/linear_model.html#logistic-regression\n",
      "  extra_warning_msg=_LOGISTIC_SOLVER_CONVERGENCE_MSG,\n",
      "/opt/conda/lib/python3.7/site-packages/sklearn/linear_model/_logistic.py:818: ConvergenceWarning: lbfgs failed to converge (status=1):\n",
      "STOP: TOTAL NO. of ITERATIONS REACHED LIMIT.\n",
      "\n",
      "Increase the number of iterations (max_iter) or scale the data as shown in:\n",
      "    https://scikit-learn.org/stable/modules/preprocessing.html\n",
      "Please also refer to the documentation for alternative solver options:\n",
      "    https://scikit-learn.org/stable/modules/linear_model.html#logistic-regression\n",
      "  extra_warning_msg=_LOGISTIC_SOLVER_CONVERGENCE_MSG,\n",
      "/opt/conda/lib/python3.7/site-packages/sklearn/linear_model/_logistic.py:818: ConvergenceWarning: lbfgs failed to converge (status=1):\n",
      "STOP: TOTAL NO. of ITERATIONS REACHED LIMIT.\n",
      "\n",
      "Increase the number of iterations (max_iter) or scale the data as shown in:\n",
      "    https://scikit-learn.org/stable/modules/preprocessing.html\n",
      "Please also refer to the documentation for alternative solver options:\n",
      "    https://scikit-learn.org/stable/modules/linear_model.html#logistic-regression\n",
      "  extra_warning_msg=_LOGISTIC_SOLVER_CONVERGENCE_MSG,\n",
      "/opt/conda/lib/python3.7/site-packages/sklearn/linear_model/_logistic.py:818: ConvergenceWarning: lbfgs failed to converge (status=1):\n",
      "STOP: TOTAL NO. of ITERATIONS REACHED LIMIT.\n",
      "\n",
      "Increase the number of iterations (max_iter) or scale the data as shown in:\n",
      "    https://scikit-learn.org/stable/modules/preprocessing.html\n",
      "Please also refer to the documentation for alternative solver options:\n",
      "    https://scikit-learn.org/stable/modules/linear_model.html#logistic-regression\n",
      "  extra_warning_msg=_LOGISTIC_SOLVER_CONVERGENCE_MSG,\n",
      "/opt/conda/lib/python3.7/site-packages/sklearn/linear_model/_logistic.py:818: ConvergenceWarning: lbfgs failed to converge (status=1):\n",
      "STOP: TOTAL NO. of ITERATIONS REACHED LIMIT.\n",
      "\n",
      "Increase the number of iterations (max_iter) or scale the data as shown in:\n",
      "    https://scikit-learn.org/stable/modules/preprocessing.html\n",
      "Please also refer to the documentation for alternative solver options:\n",
      "    https://scikit-learn.org/stable/modules/linear_model.html#logistic-regression\n",
      "  extra_warning_msg=_LOGISTIC_SOLVER_CONVERGENCE_MSG,\n",
      "/opt/conda/lib/python3.7/site-packages/sklearn/linear_model/_logistic.py:818: ConvergenceWarning: lbfgs failed to converge (status=1):\n",
      "STOP: TOTAL NO. of ITERATIONS REACHED LIMIT.\n",
      "\n",
      "Increase the number of iterations (max_iter) or scale the data as shown in:\n",
      "    https://scikit-learn.org/stable/modules/preprocessing.html\n",
      "Please also refer to the documentation for alternative solver options:\n",
      "    https://scikit-learn.org/stable/modules/linear_model.html#logistic-regression\n",
      "  extra_warning_msg=_LOGISTIC_SOLVER_CONVERGENCE_MSG,\n",
      "/opt/conda/lib/python3.7/site-packages/sklearn/linear_model/_logistic.py:818: ConvergenceWarning: lbfgs failed to converge (status=1):\n",
      "STOP: TOTAL NO. of ITERATIONS REACHED LIMIT.\n",
      "\n",
      "Increase the number of iterations (max_iter) or scale the data as shown in:\n",
      "    https://scikit-learn.org/stable/modules/preprocessing.html\n",
      "Please also refer to the documentation for alternative solver options:\n",
      "    https://scikit-learn.org/stable/modules/linear_model.html#logistic-regression\n",
      "  extra_warning_msg=_LOGISTIC_SOLVER_CONVERGENCE_MSG,\n",
      "/opt/conda/lib/python3.7/site-packages/sklearn/linear_model/_logistic.py:818: ConvergenceWarning: lbfgs failed to converge (status=1):\n",
      "STOP: TOTAL NO. of ITERATIONS REACHED LIMIT.\n",
      "\n",
      "Increase the number of iterations (max_iter) or scale the data as shown in:\n",
      "    https://scikit-learn.org/stable/modules/preprocessing.html\n",
      "Please also refer to the documentation for alternative solver options:\n",
      "    https://scikit-learn.org/stable/modules/linear_model.html#logistic-regression\n",
      "  extra_warning_msg=_LOGISTIC_SOLVER_CONVERGENCE_MSG,\n",
      "/opt/conda/lib/python3.7/site-packages/sklearn/linear_model/_logistic.py:818: ConvergenceWarning: lbfgs failed to converge (status=1):\n",
      "STOP: TOTAL NO. of ITERATIONS REACHED LIMIT.\n",
      "\n",
      "Increase the number of iterations (max_iter) or scale the data as shown in:\n",
      "    https://scikit-learn.org/stable/modules/preprocessing.html\n",
      "Please also refer to the documentation for alternative solver options:\n",
      "    https://scikit-learn.org/stable/modules/linear_model.html#logistic-regression\n",
      "  extra_warning_msg=_LOGISTIC_SOLVER_CONVERGENCE_MSG,\n",
      "/opt/conda/lib/python3.7/site-packages/sklearn/linear_model/_logistic.py:818: ConvergenceWarning: lbfgs failed to converge (status=1):\n",
      "STOP: TOTAL NO. of ITERATIONS REACHED LIMIT.\n",
      "\n",
      "Increase the number of iterations (max_iter) or scale the data as shown in:\n",
      "    https://scikit-learn.org/stable/modules/preprocessing.html\n",
      "Please also refer to the documentation for alternative solver options:\n",
      "    https://scikit-learn.org/stable/modules/linear_model.html#logistic-regression\n",
      "  extra_warning_msg=_LOGISTIC_SOLVER_CONVERGENCE_MSG,\n",
      "/opt/conda/lib/python3.7/site-packages/sklearn/linear_model/_logistic.py:818: ConvergenceWarning: lbfgs failed to converge (status=1):\n",
      "STOP: TOTAL NO. of ITERATIONS REACHED LIMIT.\n",
      "\n",
      "Increase the number of iterations (max_iter) or scale the data as shown in:\n",
      "    https://scikit-learn.org/stable/modules/preprocessing.html\n",
      "Please also refer to the documentation for alternative solver options:\n",
      "    https://scikit-learn.org/stable/modules/linear_model.html#logistic-regression\n",
      "  extra_warning_msg=_LOGISTIC_SOLVER_CONVERGENCE_MSG,\n",
      "/opt/conda/lib/python3.7/site-packages/sklearn/linear_model/_logistic.py:818: ConvergenceWarning: lbfgs failed to converge (status=1):\n",
      "STOP: TOTAL NO. of ITERATIONS REACHED LIMIT.\n",
      "\n",
      "Increase the number of iterations (max_iter) or scale the data as shown in:\n",
      "    https://scikit-learn.org/stable/modules/preprocessing.html\n",
      "Please also refer to the documentation for alternative solver options:\n",
      "    https://scikit-learn.org/stable/modules/linear_model.html#logistic-regression\n",
      "  extra_warning_msg=_LOGISTIC_SOLVER_CONVERGENCE_MSG,\n",
      "/opt/conda/lib/python3.7/site-packages/sklearn/linear_model/_logistic.py:818: ConvergenceWarning: lbfgs failed to converge (status=1):\n",
      "STOP: TOTAL NO. of ITERATIONS REACHED LIMIT.\n",
      "\n",
      "Increase the number of iterations (max_iter) or scale the data as shown in:\n",
      "    https://scikit-learn.org/stable/modules/preprocessing.html\n",
      "Please also refer to the documentation for alternative solver options:\n",
      "    https://scikit-learn.org/stable/modules/linear_model.html#logistic-regression\n",
      "  extra_warning_msg=_LOGISTIC_SOLVER_CONVERGENCE_MSG,\n",
      "/opt/conda/lib/python3.7/site-packages/sklearn/linear_model/_logistic.py:818: ConvergenceWarning: lbfgs failed to converge (status=1):\n",
      "STOP: TOTAL NO. of ITERATIONS REACHED LIMIT.\n",
      "\n",
      "Increase the number of iterations (max_iter) or scale the data as shown in:\n",
      "    https://scikit-learn.org/stable/modules/preprocessing.html\n",
      "Please also refer to the documentation for alternative solver options:\n",
      "    https://scikit-learn.org/stable/modules/linear_model.html#logistic-regression\n",
      "  extra_warning_msg=_LOGISTIC_SOLVER_CONVERGENCE_MSG,\n",
      "/opt/conda/lib/python3.7/site-packages/sklearn/linear_model/_logistic.py:818: ConvergenceWarning: lbfgs failed to converge (status=1):\n",
      "STOP: TOTAL NO. of ITERATIONS REACHED LIMIT.\n",
      "\n",
      "Increase the number of iterations (max_iter) or scale the data as shown in:\n",
      "    https://scikit-learn.org/stable/modules/preprocessing.html\n",
      "Please also refer to the documentation for alternative solver options:\n",
      "    https://scikit-learn.org/stable/modules/linear_model.html#logistic-regression\n",
      "  extra_warning_msg=_LOGISTIC_SOLVER_CONVERGENCE_MSG,\n",
      "/opt/conda/lib/python3.7/site-packages/sklearn/linear_model/_logistic.py:818: ConvergenceWarning: lbfgs failed to converge (status=1):\n",
      "STOP: TOTAL NO. of ITERATIONS REACHED LIMIT.\n",
      "\n",
      "Increase the number of iterations (max_iter) or scale the data as shown in:\n",
      "    https://scikit-learn.org/stable/modules/preprocessing.html\n",
      "Please also refer to the documentation for alternative solver options:\n",
      "    https://scikit-learn.org/stable/modules/linear_model.html#logistic-regression\n",
      "  extra_warning_msg=_LOGISTIC_SOLVER_CONVERGENCE_MSG,\n",
      "/opt/conda/lib/python3.7/site-packages/sklearn/linear_model/_logistic.py:818: ConvergenceWarning: lbfgs failed to converge (status=1):\n",
      "STOP: TOTAL NO. of ITERATIONS REACHED LIMIT.\n",
      "\n",
      "Increase the number of iterations (max_iter) or scale the data as shown in:\n",
      "    https://scikit-learn.org/stable/modules/preprocessing.html\n",
      "Please also refer to the documentation for alternative solver options:\n",
      "    https://scikit-learn.org/stable/modules/linear_model.html#logistic-regression\n",
      "  extra_warning_msg=_LOGISTIC_SOLVER_CONVERGENCE_MSG,\n",
      "/opt/conda/lib/python3.7/site-packages/sklearn/linear_model/_logistic.py:818: ConvergenceWarning: lbfgs failed to converge (status=1):\n",
      "STOP: TOTAL NO. of ITERATIONS REACHED LIMIT.\n",
      "\n",
      "Increase the number of iterations (max_iter) or scale the data as shown in:\n",
      "    https://scikit-learn.org/stable/modules/preprocessing.html\n",
      "Please also refer to the documentation for alternative solver options:\n",
      "    https://scikit-learn.org/stable/modules/linear_model.html#logistic-regression\n",
      "  extra_warning_msg=_LOGISTIC_SOLVER_CONVERGENCE_MSG,\n",
      "/opt/conda/lib/python3.7/site-packages/sklearn/linear_model/_logistic.py:818: ConvergenceWarning: lbfgs failed to converge (status=1):\n",
      "STOP: TOTAL NO. of ITERATIONS REACHED LIMIT.\n",
      "\n",
      "Increase the number of iterations (max_iter) or scale the data as shown in:\n",
      "    https://scikit-learn.org/stable/modules/preprocessing.html\n",
      "Please also refer to the documentation for alternative solver options:\n",
      "    https://scikit-learn.org/stable/modules/linear_model.html#logistic-regression\n",
      "  extra_warning_msg=_LOGISTIC_SOLVER_CONVERGENCE_MSG,\n",
      "/opt/conda/lib/python3.7/site-packages/sklearn/linear_model/_logistic.py:818: ConvergenceWarning: lbfgs failed to converge (status=1):\n",
      "STOP: TOTAL NO. of ITERATIONS REACHED LIMIT.\n",
      "\n",
      "Increase the number of iterations (max_iter) or scale the data as shown in:\n",
      "    https://scikit-learn.org/stable/modules/preprocessing.html\n",
      "Please also refer to the documentation for alternative solver options:\n",
      "    https://scikit-learn.org/stable/modules/linear_model.html#logistic-regression\n",
      "  extra_warning_msg=_LOGISTIC_SOLVER_CONVERGENCE_MSG,\n",
      "/opt/conda/lib/python3.7/site-packages/sklearn/linear_model/_logistic.py:818: ConvergenceWarning: lbfgs failed to converge (status=1):\n",
      "STOP: TOTAL NO. of ITERATIONS REACHED LIMIT.\n",
      "\n",
      "Increase the number of iterations (max_iter) or scale the data as shown in:\n",
      "    https://scikit-learn.org/stable/modules/preprocessing.html\n",
      "Please also refer to the documentation for alternative solver options:\n",
      "    https://scikit-learn.org/stable/modules/linear_model.html#logistic-regression\n",
      "  extra_warning_msg=_LOGISTIC_SOLVER_CONVERGENCE_MSG,\n",
      "/opt/conda/lib/python3.7/site-packages/sklearn/linear_model/_logistic.py:818: ConvergenceWarning: lbfgs failed to converge (status=1):\n",
      "STOP: TOTAL NO. of ITERATIONS REACHED LIMIT.\n",
      "\n",
      "Increase the number of iterations (max_iter) or scale the data as shown in:\n",
      "    https://scikit-learn.org/stable/modules/preprocessing.html\n",
      "Please also refer to the documentation for alternative solver options:\n",
      "    https://scikit-learn.org/stable/modules/linear_model.html#logistic-regression\n",
      "  extra_warning_msg=_LOGISTIC_SOLVER_CONVERGENCE_MSG,\n",
      "/opt/conda/lib/python3.7/site-packages/sklearn/linear_model/_logistic.py:818: ConvergenceWarning: lbfgs failed to converge (status=1):\n",
      "STOP: TOTAL NO. of ITERATIONS REACHED LIMIT.\n",
      "\n",
      "Increase the number of iterations (max_iter) or scale the data as shown in:\n",
      "    https://scikit-learn.org/stable/modules/preprocessing.html\n",
      "Please also refer to the documentation for alternative solver options:\n",
      "    https://scikit-learn.org/stable/modules/linear_model.html#logistic-regression\n",
      "  extra_warning_msg=_LOGISTIC_SOLVER_CONVERGENCE_MSG,\n",
      "/opt/conda/lib/python3.7/site-packages/sklearn/linear_model/_logistic.py:818: ConvergenceWarning: lbfgs failed to converge (status=1):\n",
      "STOP: TOTAL NO. of ITERATIONS REACHED LIMIT.\n",
      "\n",
      "Increase the number of iterations (max_iter) or scale the data as shown in:\n",
      "    https://scikit-learn.org/stable/modules/preprocessing.html\n",
      "Please also refer to the documentation for alternative solver options:\n",
      "    https://scikit-learn.org/stable/modules/linear_model.html#logistic-regression\n",
      "  extra_warning_msg=_LOGISTIC_SOLVER_CONVERGENCE_MSG,\n",
      "/opt/conda/lib/python3.7/site-packages/sklearn/linear_model/_logistic.py:818: ConvergenceWarning: lbfgs failed to converge (status=1):\n",
      "STOP: TOTAL NO. of ITERATIONS REACHED LIMIT.\n",
      "\n",
      "Increase the number of iterations (max_iter) or scale the data as shown in:\n",
      "    https://scikit-learn.org/stable/modules/preprocessing.html\n",
      "Please also refer to the documentation for alternative solver options:\n",
      "    https://scikit-learn.org/stable/modules/linear_model.html#logistic-regression\n",
      "  extra_warning_msg=_LOGISTIC_SOLVER_CONVERGENCE_MSG,\n",
      "/opt/conda/lib/python3.7/site-packages/sklearn/model_selection/_validation.py:372: FitFailedWarning: \n",
      "30 fits failed out of a total of 60.\n",
      "The score on these train-test partitions for these parameters will be set to nan.\n",
      "If these failures are not expected, you can try to debug them by setting error_score='raise'.\n",
      "\n",
      "Below are more details about the failures:\n",
      "--------------------------------------------------------------------------------\n",
      "30 fits failed with the following error:\n",
      "Traceback (most recent call last):\n",
      "  File \"/opt/conda/lib/python3.7/site-packages/sklearn/model_selection/_validation.py\", line 680, in _fit_and_score\n",
      "    estimator.fit(X_train, y_train, **fit_params)\n",
      "  File \"/opt/conda/lib/python3.7/site-packages/sklearn/linear_model/_logistic.py\", line 1461, in fit\n",
      "    solver = _check_solver(self.solver, self.penalty, self.dual)\n",
      "  File \"/opt/conda/lib/python3.7/site-packages/sklearn/linear_model/_logistic.py\", line 449, in _check_solver\n",
      "    % (solver, penalty)\n",
      "ValueError: Solver lbfgs supports only 'l2' or 'none' penalties, got l1 penalty.\n",
      "\n",
      "  warnings.warn(some_fits_failed_message, FitFailedWarning)\n",
      "/opt/conda/lib/python3.7/site-packages/sklearn/model_selection/_search.py:972: UserWarning: One or more of the test scores are non-finite: [       nan 0.99581836        nan 0.99619124        nan 0.99635105\n",
      "        nan 0.99643095        nan 0.99640431        nan 0.99643095]\n",
      "  category=UserWarning,\n"
     ]
    },
    {
     "name": "stdout",
     "output_type": "stream",
     "text": [
      "Best hyperparameters:  {'C': 1, 'penalty': 'l2'}\n",
      "              precision    recall  f1-score   support\n",
      "\n",
      "       akiec       1.00      1.00      1.00      1359\n",
      "         bcc       0.99      1.00      1.00      1318\n",
      "         bkl       0.97      0.99      0.98      1262\n",
      "          df       1.00      1.00      1.00      1351\n",
      "          nv       0.99      0.92      0.95      1374\n",
      "        vasc       1.00      1.00      1.00      1358\n",
      "         mel       0.96      0.99      0.98      1365\n",
      "\n",
      "    accuracy                           0.99      9387\n",
      "   macro avg       0.99      0.99      0.99      9387\n",
      "weighted avg       0.99      0.99      0.99      9387\n",
      "\n",
      "Accuracy: 98.60445296686908\n"
     ]
    },
    {
     "name": "stderr",
     "output_type": "stream",
     "text": [
      "/opt/conda/lib/python3.7/site-packages/sklearn/linear_model/_logistic.py:818: ConvergenceWarning: lbfgs failed to converge (status=1):\n",
      "STOP: TOTAL NO. of ITERATIONS REACHED LIMIT.\n",
      "\n",
      "Increase the number of iterations (max_iter) or scale the data as shown in:\n",
      "    https://scikit-learn.org/stable/modules/preprocessing.html\n",
      "Please also refer to the documentation for alternative solver options:\n",
      "    https://scikit-learn.org/stable/modules/linear_model.html#logistic-regression\n",
      "  extra_warning_msg=_LOGISTIC_SOLVER_CONVERGENCE_MSG,\n"
     ]
    }
   ],
   "source": [
    "from sklearn.linear_model import LogisticRegression\n",
    "from sklearn.model_selection import GridSearchCV\n",
    "from sklearn.metrics import accuracy_score\n",
    "from sklearn.metrics import confusion_matrix, classification_report, accuracy_score\n",
    "\n",
    "\n",
    "\n",
    "# Create a logistic regression object\n",
    "lr = LogisticRegression()\n",
    "\n",
    "# Define the hyperparameter grid to search over\n",
    "param_grid = {'C': [0.001, 0.01, 0.1, 1, 10, 100], \n",
    "              'penalty': ['l1', 'l2']}\n",
    "\n",
    "# Perform grid search with 5-fold cross-validation\n",
    "grid_search_LR = GridSearchCV(lr, param_grid, cv=5)\n",
    "grid_search_LR.fit(X_train_cnn, Y_train)\n",
    "\n",
    "# Print the best hyperparameters and the corresponding accuracy score\n",
    "print(\"Best hyperparameters: \", grid_search_LR.best_params_)\n",
    "y_test_LR = grid_search_LR.predict(X_test_cnn)\n",
    "\n",
    "print(classification_report(Y_test, y_test_LR,target_names=target_names))\n",
    "print(\"Accuracy: {0}\".format(accuracy_score(Y_test, y_test_LR)*100))\n"
   ]
  },
  {
   "cell_type": "code",
   "execution_count": null,
   "id": "2f89f3ad",
   "metadata": {
    "papermill": {
     "duration": 0.124098,
     "end_time": "2023-03-08T16:23:04.518100",
     "exception": false,
     "start_time": "2023-03-08T16:23:04.394002",
     "status": "completed"
    },
    "tags": []
   },
   "outputs": [],
   "source": []
  },
  {
   "cell_type": "code",
   "execution_count": null,
   "id": "dd02342e",
   "metadata": {
    "papermill": {
     "duration": 0.129505,
     "end_time": "2023-03-08T16:23:04.777904",
     "exception": false,
     "start_time": "2023-03-08T16:23:04.648399",
     "status": "completed"
    },
    "tags": []
   },
   "outputs": [],
   "source": []
  },
  {
   "cell_type": "code",
   "execution_count": null,
   "id": "ce6af816",
   "metadata": {
    "papermill": {
     "duration": 0.089766,
     "end_time": "2023-03-08T16:23:04.997363",
     "exception": false,
     "start_time": "2023-03-08T16:23:04.907597",
     "status": "completed"
    },
    "tags": []
   },
   "outputs": [],
   "source": []
  },
  {
   "cell_type": "code",
   "execution_count": null,
   "id": "58e7650f",
   "metadata": {
    "papermill": {
     "duration": 0.090713,
     "end_time": "2023-03-08T16:23:05.175598",
     "exception": false,
     "start_time": "2023-03-08T16:23:05.084885",
     "status": "completed"
    },
    "tags": []
   },
   "outputs": [],
   "source": []
  }
 ],
 "metadata": {
  "kernelspec": {
   "display_name": "Python 3",
   "language": "python",
   "name": "python3"
  },
  "language_info": {
   "codemirror_mode": {
    "name": "ipython",
    "version": 3
   },
   "file_extension": ".py",
   "mimetype": "text/x-python",
   "name": "python",
   "nbconvert_exporter": "python",
   "pygments_lexer": "ipython3",
   "version": "3.7.12"
  },
  "papermill": {
   "default_parameters": {},
   "duration": 4386.348012,
   "end_time": "2023-03-08T16:23:08.662558",
   "environment_variables": {},
   "exception": null,
   "input_path": "__notebook__.ipynb",
   "output_path": "__notebook__.ipynb",
   "parameters": {},
   "start_time": "2023-03-08T15:10:02.314546",
   "version": "2.4.0"
  }
 },
 "nbformat": 4,
 "nbformat_minor": 5
}
