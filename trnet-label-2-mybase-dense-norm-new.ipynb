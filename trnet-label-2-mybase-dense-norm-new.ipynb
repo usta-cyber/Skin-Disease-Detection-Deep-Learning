{
 "cells": [
  {
   "cell_type": "code",
   "execution_count": null,
   "id": "9a75fdcd",
   "metadata": {
    "papermill": {
     "duration": 0.020211,
     "end_time": "2023-03-10T03:33:36.942907",
     "exception": false,
     "start_time": "2023-03-10T03:33:36.922696",
     "status": "completed"
    },
    "tags": []
   },
   "outputs": [],
   "source": []
  },
  {
   "cell_type": "markdown",
   "id": "12929b0b",
   "metadata": {
    "papermill": {
     "duration": 0.014677,
     "end_time": "2023-03-10T03:33:36.978787",
     "exception": false,
     "start_time": "2023-03-10T03:33:36.964110",
     "status": "completed"
    },
    "tags": []
   },
   "source": [
    "## Dataset Overview\n",
    "HAM10000 (\"Human Against Machine with 10000 training images\") dataset - a large collection of multi-source dermatoscopic images of pigmented lesions\n",
    "\n",
    "The dermatoscopic images are collected from different populations, acquired and stored by different modalities. The final dataset consists of 10015 dermatoscopic images.\n",
    "\n",
    "It has 7 different classes of skin cancer which are listed below :\n",
    "- Melanocytic nevi\n",
    "- Melanoma\n",
    "- Benign keratosis-like lesions\n",
    "- Basal cell carcinoma\n",
    "- Actinic keratoses\n",
    "- Vascular lesions\n",
    "- Dermatofibroma "
   ]
  },
  {
   "cell_type": "markdown",
   "id": "fc615790",
   "metadata": {
    "papermill": {
     "duration": 0.0103,
     "end_time": "2023-03-10T03:33:36.999860",
     "exception": false,
     "start_time": "2023-03-10T03:33:36.989560",
     "status": "completed"
    },
    "tags": []
   },
   "source": [
    "## Importing libraries"
   ]
  },
  {
   "cell_type": "code",
   "execution_count": 1,
   "id": "dcad4890",
   "metadata": {
    "_cell_guid": "b1076dfc-b9ad-4769-8c92-a6c4dae69d19",
    "_uuid": "8f2839f25d086af736a60e9eeb907d3b93b6e0e5",
    "execution": {
     "iopub.execute_input": "2023-03-10T03:33:37.023828Z",
     "iopub.status.busy": "2023-03-10T03:33:37.023379Z",
     "iopub.status.idle": "2023-03-10T03:33:45.933061Z",
     "shell.execute_reply": "2023-03-10T03:33:45.931910Z"
    },
    "papermill": {
     "duration": 8.925693,
     "end_time": "2023-03-10T03:33:45.936034",
     "exception": false,
     "start_time": "2023-03-10T03:33:37.010341",
     "status": "completed"
    },
    "tags": []
   },
   "outputs": [],
   "source": [
    "import seaborn as sns\n",
    "import pandas as pd\n",
    "import matplotlib.pyplot as plt\n",
    "from imblearn.over_sampling import RandomOverSampler \n",
    "import numpy as np\n",
    "from sklearn.model_selection import train_test_split\n",
    "import os, cv2\n",
    "import tensorflow as tf\n",
    "from tensorflow.keras.models import Sequential\n",
    "from tensorflow.keras.layers import Conv2D, Flatten, Dense, MaxPool2D, Activation, BatchNormalization\n",
    "from sklearn.metrics import classification_report, accuracy_score\n"
   ]
  },
  {
   "cell_type": "markdown",
   "id": "beda7901",
   "metadata": {
    "papermill": {
     "duration": 0.011118,
     "end_time": "2023-03-10T03:33:45.957980",
     "exception": false,
     "start_time": "2023-03-10T03:33:45.946862",
     "status": "completed"
    },
    "tags": []
   },
   "source": [
    "## Reading the Data"
   ]
  },
  {
   "cell_type": "code",
   "execution_count": 2,
   "id": "70b4b675",
   "metadata": {
    "execution": {
     "iopub.execute_input": "2023-03-10T03:33:45.980853Z",
     "iopub.status.busy": "2023-03-10T03:33:45.980204Z",
     "iopub.status.idle": "2023-03-10T03:33:50.236016Z",
     "shell.execute_reply": "2023-03-10T03:33:50.235008Z"
    },
    "papermill": {
     "duration": 4.270382,
     "end_time": "2023-03-10T03:33:50.238872",
     "exception": false,
     "start_time": "2023-03-10T03:33:45.968490",
     "status": "completed"
    },
    "tags": []
   },
   "outputs": [
    {
     "data": {
      "text/html": [
       "<div>\n",
       "<style scoped>\n",
       "    .dataframe tbody tr th:only-of-type {\n",
       "        vertical-align: middle;\n",
       "    }\n",
       "\n",
       "    .dataframe tbody tr th {\n",
       "        vertical-align: top;\n",
       "    }\n",
       "\n",
       "    .dataframe thead th {\n",
       "        text-align: right;\n",
       "    }\n",
       "</style>\n",
       "<table border=\"1\" class=\"dataframe\">\n",
       "  <thead>\n",
       "    <tr style=\"text-align: right;\">\n",
       "      <th></th>\n",
       "      <th>pixel0000</th>\n",
       "      <th>pixel0001</th>\n",
       "      <th>pixel0002</th>\n",
       "      <th>pixel0003</th>\n",
       "      <th>pixel0004</th>\n",
       "      <th>pixel0005</th>\n",
       "      <th>pixel0006</th>\n",
       "      <th>pixel0007</th>\n",
       "      <th>pixel0008</th>\n",
       "      <th>pixel0009</th>\n",
       "      <th>...</th>\n",
       "      <th>pixel2343</th>\n",
       "      <th>pixel2344</th>\n",
       "      <th>pixel2345</th>\n",
       "      <th>pixel2346</th>\n",
       "      <th>pixel2347</th>\n",
       "      <th>pixel2348</th>\n",
       "      <th>pixel2349</th>\n",
       "      <th>pixel2350</th>\n",
       "      <th>pixel2351</th>\n",
       "      <th>label</th>\n",
       "    </tr>\n",
       "  </thead>\n",
       "  <tbody>\n",
       "    <tr>\n",
       "      <th>0</th>\n",
       "      <td>192</td>\n",
       "      <td>153</td>\n",
       "      <td>193</td>\n",
       "      <td>195</td>\n",
       "      <td>155</td>\n",
       "      <td>192</td>\n",
       "      <td>197</td>\n",
       "      <td>154</td>\n",
       "      <td>185</td>\n",
       "      <td>202</td>\n",
       "      <td>...</td>\n",
       "      <td>173</td>\n",
       "      <td>124</td>\n",
       "      <td>138</td>\n",
       "      <td>183</td>\n",
       "      <td>147</td>\n",
       "      <td>166</td>\n",
       "      <td>185</td>\n",
       "      <td>154</td>\n",
       "      <td>177</td>\n",
       "      <td>2</td>\n",
       "    </tr>\n",
       "    <tr>\n",
       "      <th>1</th>\n",
       "      <td>25</td>\n",
       "      <td>14</td>\n",
       "      <td>30</td>\n",
       "      <td>68</td>\n",
       "      <td>48</td>\n",
       "      <td>75</td>\n",
       "      <td>123</td>\n",
       "      <td>93</td>\n",
       "      <td>126</td>\n",
       "      <td>158</td>\n",
       "      <td>...</td>\n",
       "      <td>60</td>\n",
       "      <td>39</td>\n",
       "      <td>55</td>\n",
       "      <td>25</td>\n",
       "      <td>14</td>\n",
       "      <td>28</td>\n",
       "      <td>25</td>\n",
       "      <td>14</td>\n",
       "      <td>27</td>\n",
       "      <td>2</td>\n",
       "    </tr>\n",
       "    <tr>\n",
       "      <th>2</th>\n",
       "      <td>192</td>\n",
       "      <td>138</td>\n",
       "      <td>153</td>\n",
       "      <td>200</td>\n",
       "      <td>145</td>\n",
       "      <td>163</td>\n",
       "      <td>201</td>\n",
       "      <td>142</td>\n",
       "      <td>160</td>\n",
       "      <td>206</td>\n",
       "      <td>...</td>\n",
       "      <td>167</td>\n",
       "      <td>129</td>\n",
       "      <td>143</td>\n",
       "      <td>159</td>\n",
       "      <td>124</td>\n",
       "      <td>142</td>\n",
       "      <td>136</td>\n",
       "      <td>104</td>\n",
       "      <td>117</td>\n",
       "      <td>2</td>\n",
       "    </tr>\n",
       "    <tr>\n",
       "      <th>3</th>\n",
       "      <td>38</td>\n",
       "      <td>19</td>\n",
       "      <td>30</td>\n",
       "      <td>95</td>\n",
       "      <td>59</td>\n",
       "      <td>72</td>\n",
       "      <td>143</td>\n",
       "      <td>103</td>\n",
       "      <td>119</td>\n",
       "      <td>171</td>\n",
       "      <td>...</td>\n",
       "      <td>44</td>\n",
       "      <td>26</td>\n",
       "      <td>36</td>\n",
       "      <td>25</td>\n",
       "      <td>12</td>\n",
       "      <td>17</td>\n",
       "      <td>25</td>\n",
       "      <td>12</td>\n",
       "      <td>15</td>\n",
       "      <td>2</td>\n",
       "    </tr>\n",
       "    <tr>\n",
       "      <th>4</th>\n",
       "      <td>158</td>\n",
       "      <td>113</td>\n",
       "      <td>139</td>\n",
       "      <td>194</td>\n",
       "      <td>144</td>\n",
       "      <td>174</td>\n",
       "      <td>215</td>\n",
       "      <td>162</td>\n",
       "      <td>191</td>\n",
       "      <td>225</td>\n",
       "      <td>...</td>\n",
       "      <td>209</td>\n",
       "      <td>166</td>\n",
       "      <td>185</td>\n",
       "      <td>172</td>\n",
       "      <td>135</td>\n",
       "      <td>149</td>\n",
       "      <td>109</td>\n",
       "      <td>78</td>\n",
       "      <td>92</td>\n",
       "      <td>2</td>\n",
       "    </tr>\n",
       "  </tbody>\n",
       "</table>\n",
       "<p>5 rows × 2353 columns</p>\n",
       "</div>"
      ],
      "text/plain": [
       "   pixel0000  pixel0001  pixel0002  pixel0003  pixel0004  pixel0005  \\\n",
       "0        192        153        193        195        155        192   \n",
       "1         25         14         30         68         48         75   \n",
       "2        192        138        153        200        145        163   \n",
       "3         38         19         30         95         59         72   \n",
       "4        158        113        139        194        144        174   \n",
       "\n",
       "   pixel0006  pixel0007  pixel0008  pixel0009  ...  pixel2343  pixel2344  \\\n",
       "0        197        154        185        202  ...        173        124   \n",
       "1        123         93        126        158  ...         60         39   \n",
       "2        201        142        160        206  ...        167        129   \n",
       "3        143        103        119        171  ...         44         26   \n",
       "4        215        162        191        225  ...        209        166   \n",
       "\n",
       "   pixel2345  pixel2346  pixel2347  pixel2348  pixel2349  pixel2350  \\\n",
       "0        138        183        147        166        185        154   \n",
       "1         55         25         14         28         25         14   \n",
       "2        143        159        124        142        136        104   \n",
       "3         36         25         12         17         25         12   \n",
       "4        185        172        135        149        109         78   \n",
       "\n",
       "   pixel2351  label  \n",
       "0        177      2  \n",
       "1         27      2  \n",
       "2        117      2  \n",
       "3         15      2  \n",
       "4         92      2  \n",
       "\n",
       "[5 rows x 2353 columns]"
      ]
     },
     "execution_count": 2,
     "metadata": {},
     "output_type": "execute_result"
    }
   ],
   "source": [
    "data = pd.read_csv('/kaggle/input/skin-cancer-mnist-ham10000/hmnist_28_28_RGB.csv')\n",
    "data.head()"
   ]
  },
  {
   "cell_type": "markdown",
   "id": "f2fa8828",
   "metadata": {
    "papermill": {
     "duration": 0.01058,
     "end_time": "2023-03-10T03:33:50.260530",
     "exception": false,
     "start_time": "2023-03-10T03:33:50.249950",
     "status": "completed"
    },
    "tags": []
   },
   "source": [
    "## Data Preprocessing\n",
    "## Data Cleaning"
   ]
  },
  {
   "cell_type": "code",
   "execution_count": 3,
   "id": "f2c34776",
   "metadata": {
    "execution": {
     "iopub.execute_input": "2023-03-10T03:33:50.284902Z",
     "iopub.status.busy": "2023-03-10T03:33:50.283189Z",
     "iopub.status.idle": "2023-03-10T03:33:50.297113Z",
     "shell.execute_reply": "2023-03-10T03:33:50.296002Z"
    },
    "papermill": {
     "duration": 0.028113,
     "end_time": "2023-03-10T03:33:50.299359",
     "exception": false,
     "start_time": "2023-03-10T03:33:50.271246",
     "status": "completed"
    },
    "tags": []
   },
   "outputs": [
    {
     "data": {
      "text/plain": [
       "array([2, 4, 3, 6, 5, 1, 0])"
      ]
     },
     "execution_count": 3,
     "metadata": {},
     "output_type": "execute_result"
    }
   ],
   "source": [
    "data['label'].unique()"
   ]
  },
  {
   "cell_type": "code",
   "execution_count": 4,
   "id": "035e3ae4",
   "metadata": {
    "execution": {
     "iopub.execute_input": "2023-03-10T03:33:50.322298Z",
     "iopub.status.busy": "2023-03-10T03:33:50.322014Z",
     "iopub.status.idle": "2023-03-10T03:33:50.383389Z",
     "shell.execute_reply": "2023-03-10T03:33:50.382401Z"
    },
    "papermill": {
     "duration": 0.075353,
     "end_time": "2023-03-10T03:33:50.385570",
     "exception": false,
     "start_time": "2023-03-10T03:33:50.310217",
     "status": "completed"
    },
    "tags": []
   },
   "outputs": [],
   "source": [
    "y = data['label']\n",
    "x = data.drop(columns = ['label'])"
   ]
  },
  {
   "cell_type": "code",
   "execution_count": 5,
   "id": "e73ff3b8",
   "metadata": {
    "execution": {
     "iopub.execute_input": "2023-03-10T03:33:50.408968Z",
     "iopub.status.busy": "2023-03-10T03:33:50.408648Z",
     "iopub.status.idle": "2023-03-10T03:33:50.445076Z",
     "shell.execute_reply": "2023-03-10T03:33:50.444001Z"
    },
    "papermill": {
     "duration": 0.050486,
     "end_time": "2023-03-10T03:33:50.447260",
     "exception": false,
     "start_time": "2023-03-10T03:33:50.396774",
     "status": "completed"
    },
    "tags": []
   },
   "outputs": [
    {
     "data": {
      "text/plain": [
       "0"
      ]
     },
     "execution_count": 5,
     "metadata": {},
     "output_type": "execute_result"
    }
   ],
   "source": [
    "data.isnull().sum().sum() #no null values present"
   ]
  },
  {
   "cell_type": "code",
   "execution_count": 6,
   "id": "885e555a",
   "metadata": {
    "execution": {
     "iopub.execute_input": "2023-03-10T03:33:50.471264Z",
     "iopub.status.busy": "2023-03-10T03:33:50.470399Z",
     "iopub.status.idle": "2023-03-10T03:33:50.509851Z",
     "shell.execute_reply": "2023-03-10T03:33:50.508885Z"
    },
    "papermill": {
     "duration": 0.053707,
     "end_time": "2023-03-10T03:33:50.512035",
     "exception": false,
     "start_time": "2023-03-10T03:33:50.458328",
     "status": "completed"
    },
    "tags": []
   },
   "outputs": [
    {
     "data": {
      "text/html": [
       "<div>\n",
       "<style scoped>\n",
       "    .dataframe tbody tr th:only-of-type {\n",
       "        vertical-align: middle;\n",
       "    }\n",
       "\n",
       "    .dataframe tbody tr th {\n",
       "        vertical-align: top;\n",
       "    }\n",
       "\n",
       "    .dataframe thead th {\n",
       "        text-align: right;\n",
       "    }\n",
       "</style>\n",
       "<table border=\"1\" class=\"dataframe\">\n",
       "  <thead>\n",
       "    <tr style=\"text-align: right;\">\n",
       "      <th></th>\n",
       "      <th>lesion_id</th>\n",
       "      <th>image_id</th>\n",
       "      <th>dx</th>\n",
       "      <th>dx_type</th>\n",
       "      <th>age</th>\n",
       "      <th>sex</th>\n",
       "      <th>localization</th>\n",
       "    </tr>\n",
       "  </thead>\n",
       "  <tbody>\n",
       "    <tr>\n",
       "      <th>0</th>\n",
       "      <td>HAM_0000118</td>\n",
       "      <td>ISIC_0027419</td>\n",
       "      <td>bkl</td>\n",
       "      <td>histo</td>\n",
       "      <td>80.0</td>\n",
       "      <td>male</td>\n",
       "      <td>scalp</td>\n",
       "    </tr>\n",
       "    <tr>\n",
       "      <th>1</th>\n",
       "      <td>HAM_0000118</td>\n",
       "      <td>ISIC_0025030</td>\n",
       "      <td>bkl</td>\n",
       "      <td>histo</td>\n",
       "      <td>80.0</td>\n",
       "      <td>male</td>\n",
       "      <td>scalp</td>\n",
       "    </tr>\n",
       "    <tr>\n",
       "      <th>2</th>\n",
       "      <td>HAM_0002730</td>\n",
       "      <td>ISIC_0026769</td>\n",
       "      <td>bkl</td>\n",
       "      <td>histo</td>\n",
       "      <td>80.0</td>\n",
       "      <td>male</td>\n",
       "      <td>scalp</td>\n",
       "    </tr>\n",
       "    <tr>\n",
       "      <th>3</th>\n",
       "      <td>HAM_0002730</td>\n",
       "      <td>ISIC_0025661</td>\n",
       "      <td>bkl</td>\n",
       "      <td>histo</td>\n",
       "      <td>80.0</td>\n",
       "      <td>male</td>\n",
       "      <td>scalp</td>\n",
       "    </tr>\n",
       "    <tr>\n",
       "      <th>4</th>\n",
       "      <td>HAM_0001466</td>\n",
       "      <td>ISIC_0031633</td>\n",
       "      <td>bkl</td>\n",
       "      <td>histo</td>\n",
       "      <td>75.0</td>\n",
       "      <td>male</td>\n",
       "      <td>ear</td>\n",
       "    </tr>\n",
       "  </tbody>\n",
       "</table>\n",
       "</div>"
      ],
      "text/plain": [
       "     lesion_id      image_id   dx dx_type   age   sex localization\n",
       "0  HAM_0000118  ISIC_0027419  bkl   histo  80.0  male        scalp\n",
       "1  HAM_0000118  ISIC_0025030  bkl   histo  80.0  male        scalp\n",
       "2  HAM_0002730  ISIC_0026769  bkl   histo  80.0  male        scalp\n",
       "3  HAM_0002730  ISIC_0025661  bkl   histo  80.0  male        scalp\n",
       "4  HAM_0001466  ISIC_0031633  bkl   histo  75.0  male          ear"
      ]
     },
     "execution_count": 6,
     "metadata": {},
     "output_type": "execute_result"
    }
   ],
   "source": [
    "meta_data = pd.read_csv('/kaggle/input/skin-cancer-mnist-ham10000/HAM10000_metadata.csv')\n",
    "meta_data.head()"
   ]
  },
  {
   "cell_type": "code",
   "execution_count": 7,
   "id": "325e3eba",
   "metadata": {
    "execution": {
     "iopub.execute_input": "2023-03-10T03:33:50.536528Z",
     "iopub.status.busy": "2023-03-10T03:33:50.535665Z",
     "iopub.status.idle": "2023-03-10T03:33:50.543735Z",
     "shell.execute_reply": "2023-03-10T03:33:50.542642Z"
    },
    "papermill": {
     "duration": 0.022752,
     "end_time": "2023-03-10T03:33:50.546121",
     "exception": false,
     "start_time": "2023-03-10T03:33:50.523369",
     "status": "completed"
    },
    "tags": []
   },
   "outputs": [
    {
     "data": {
      "text/plain": [
       "array(['bkl', 'nv', 'df', 'mel', 'vasc', 'bcc', 'akiec'], dtype=object)"
      ]
     },
     "execution_count": 7,
     "metadata": {},
     "output_type": "execute_result"
    }
   ],
   "source": [
    "meta_data['dx'].unique()"
   ]
  },
  {
   "cell_type": "code",
   "execution_count": 8,
   "id": "c17c85d3",
   "metadata": {
    "execution": {
     "iopub.execute_input": "2023-03-10T03:33:50.569982Z",
     "iopub.status.busy": "2023-03-10T03:33:50.569678Z",
     "iopub.status.idle": "2023-03-10T03:33:50.632395Z",
     "shell.execute_reply": "2023-03-10T03:33:50.631348Z"
    },
    "papermill": {
     "duration": 0.077283,
     "end_time": "2023-03-10T03:33:50.634862",
     "exception": false,
     "start_time": "2023-03-10T03:33:50.557579",
     "status": "completed"
    },
    "tags": []
   },
   "outputs": [],
   "source": [
    "y = data['label']\n",
    "x = data.drop(columns = ['label'])"
   ]
  },
  {
   "cell_type": "code",
   "execution_count": 9,
   "id": "9ee3f99f",
   "metadata": {
    "execution": {
     "iopub.execute_input": "2023-03-10T03:33:50.658895Z",
     "iopub.status.busy": "2023-03-10T03:33:50.658592Z",
     "iopub.status.idle": "2023-03-10T03:33:50.695207Z",
     "shell.execute_reply": "2023-03-10T03:33:50.694094Z"
    },
    "papermill": {
     "duration": 0.051111,
     "end_time": "2023-03-10T03:33:50.697525",
     "exception": false,
     "start_time": "2023-03-10T03:33:50.646414",
     "status": "completed"
    },
    "tags": []
   },
   "outputs": [
    {
     "data": {
      "text/plain": [
       "0"
      ]
     },
     "execution_count": 9,
     "metadata": {},
     "output_type": "execute_result"
    }
   ],
   "source": [
    "data.isnull().sum().sum() #no null values present"
   ]
  },
  {
   "cell_type": "code",
   "execution_count": 10,
   "id": "35f155f7",
   "metadata": {
    "execution": {
     "iopub.execute_input": "2023-03-10T03:33:50.721506Z",
     "iopub.status.busy": "2023-03-10T03:33:50.721221Z",
     "iopub.status.idle": "2023-03-10T03:33:50.745908Z",
     "shell.execute_reply": "2023-03-10T03:33:50.744843Z"
    },
    "papermill": {
     "duration": 0.039312,
     "end_time": "2023-03-10T03:33:50.748215",
     "exception": false,
     "start_time": "2023-03-10T03:33:50.708903",
     "status": "completed"
    },
    "tags": []
   },
   "outputs": [
    {
     "data": {
      "text/html": [
       "<div>\n",
       "<style scoped>\n",
       "    .dataframe tbody tr th:only-of-type {\n",
       "        vertical-align: middle;\n",
       "    }\n",
       "\n",
       "    .dataframe tbody tr th {\n",
       "        vertical-align: top;\n",
       "    }\n",
       "\n",
       "    .dataframe thead th {\n",
       "        text-align: right;\n",
       "    }\n",
       "</style>\n",
       "<table border=\"1\" class=\"dataframe\">\n",
       "  <thead>\n",
       "    <tr style=\"text-align: right;\">\n",
       "      <th></th>\n",
       "      <th>lesion_id</th>\n",
       "      <th>image_id</th>\n",
       "      <th>dx</th>\n",
       "      <th>dx_type</th>\n",
       "      <th>age</th>\n",
       "      <th>sex</th>\n",
       "      <th>localization</th>\n",
       "    </tr>\n",
       "  </thead>\n",
       "  <tbody>\n",
       "    <tr>\n",
       "      <th>0</th>\n",
       "      <td>HAM_0000118</td>\n",
       "      <td>ISIC_0027419</td>\n",
       "      <td>bkl</td>\n",
       "      <td>histo</td>\n",
       "      <td>80.0</td>\n",
       "      <td>male</td>\n",
       "      <td>scalp</td>\n",
       "    </tr>\n",
       "    <tr>\n",
       "      <th>1</th>\n",
       "      <td>HAM_0000118</td>\n",
       "      <td>ISIC_0025030</td>\n",
       "      <td>bkl</td>\n",
       "      <td>histo</td>\n",
       "      <td>80.0</td>\n",
       "      <td>male</td>\n",
       "      <td>scalp</td>\n",
       "    </tr>\n",
       "    <tr>\n",
       "      <th>2</th>\n",
       "      <td>HAM_0002730</td>\n",
       "      <td>ISIC_0026769</td>\n",
       "      <td>bkl</td>\n",
       "      <td>histo</td>\n",
       "      <td>80.0</td>\n",
       "      <td>male</td>\n",
       "      <td>scalp</td>\n",
       "    </tr>\n",
       "    <tr>\n",
       "      <th>3</th>\n",
       "      <td>HAM_0002730</td>\n",
       "      <td>ISIC_0025661</td>\n",
       "      <td>bkl</td>\n",
       "      <td>histo</td>\n",
       "      <td>80.0</td>\n",
       "      <td>male</td>\n",
       "      <td>scalp</td>\n",
       "    </tr>\n",
       "    <tr>\n",
       "      <th>4</th>\n",
       "      <td>HAM_0001466</td>\n",
       "      <td>ISIC_0031633</td>\n",
       "      <td>bkl</td>\n",
       "      <td>histo</td>\n",
       "      <td>75.0</td>\n",
       "      <td>male</td>\n",
       "      <td>ear</td>\n",
       "    </tr>\n",
       "  </tbody>\n",
       "</table>\n",
       "</div>"
      ],
      "text/plain": [
       "     lesion_id      image_id   dx dx_type   age   sex localization\n",
       "0  HAM_0000118  ISIC_0027419  bkl   histo  80.0  male        scalp\n",
       "1  HAM_0000118  ISIC_0025030  bkl   histo  80.0  male        scalp\n",
       "2  HAM_0002730  ISIC_0026769  bkl   histo  80.0  male        scalp\n",
       "3  HAM_0002730  ISIC_0025661  bkl   histo  80.0  male        scalp\n",
       "4  HAM_0001466  ISIC_0031633  bkl   histo  75.0  male          ear"
      ]
     },
     "execution_count": 10,
     "metadata": {},
     "output_type": "execute_result"
    }
   ],
   "source": [
    "meta_data = pd.read_csv('/kaggle/input/skin-cancer-mnist-ham10000/HAM10000_metadata.csv')\n",
    "meta_data.head()"
   ]
  },
  {
   "cell_type": "code",
   "execution_count": 11,
   "id": "012baa06",
   "metadata": {
    "execution": {
     "iopub.execute_input": "2023-03-10T03:33:50.773116Z",
     "iopub.status.busy": "2023-03-10T03:33:50.772264Z",
     "iopub.status.idle": "2023-03-10T03:33:50.779804Z",
     "shell.execute_reply": "2023-03-10T03:33:50.778819Z"
    },
    "papermill": {
     "duration": 0.022145,
     "end_time": "2023-03-10T03:33:50.781976",
     "exception": false,
     "start_time": "2023-03-10T03:33:50.759831",
     "status": "completed"
    },
    "tags": []
   },
   "outputs": [
    {
     "data": {
      "text/plain": [
       "array(['bkl', 'nv', 'df', 'mel', 'vasc', 'bcc', 'akiec'], dtype=object)"
      ]
     },
     "execution_count": 11,
     "metadata": {},
     "output_type": "execute_result"
    }
   ],
   "source": [
    "meta_data['dx'].unique()"
   ]
  },
  {
   "cell_type": "markdown",
   "id": "85cb013d",
   "metadata": {
    "papermill": {
     "duration": 0.011462,
     "end_time": "2023-03-10T03:33:50.805039",
     "exception": false,
     "start_time": "2023-03-10T03:33:50.793577",
     "status": "completed"
    },
    "tags": []
   },
   "source": [
    "## Exploratory Data Analysis"
   ]
  },
  {
   "cell_type": "code",
   "execution_count": 12,
   "id": "09cf8b70",
   "metadata": {
    "execution": {
     "iopub.execute_input": "2023-03-10T03:33:50.829663Z",
     "iopub.status.busy": "2023-03-10T03:33:50.829329Z",
     "iopub.status.idle": "2023-03-10T03:33:51.081784Z",
     "shell.execute_reply": "2023-03-10T03:33:51.080660Z"
    },
    "papermill": {
     "duration": 0.267689,
     "end_time": "2023-03-10T03:33:51.084298",
     "exception": false,
     "start_time": "2023-03-10T03:33:50.816609",
     "status": "completed"
    },
    "tags": []
   },
   "outputs": [
    {
     "data": {
      "text/plain": [
       "Text(0.5, 1.0, 'Frequency Distribution of Classes')"
      ]
     },
     "execution_count": 12,
     "metadata": {},
     "output_type": "execute_result"
    },
    {
     "data": {
      "image/png": "[encoded data removed]",
      "text/plain": [
       "<Figure size 640x480 with 1 Axes>"
      ]
     },
     "metadata": {},
     "output_type": "display_data"
    }
   ],
   "source": [
    "sns.countplot(x = 'dx', data = meta_data)\n",
    "plt.xlabel('Disease(Classes)', size=12)\n",
    "plt.ylabel('Frequency', size=12)\n",
    "plt.title('Frequency Distribution of Classes')\n"
   ]
  },
  {
   "cell_type": "code",
   "execution_count": 13,
   "id": "a4e5bcb4",
   "metadata": {
    "execution": {
     "iopub.execute_input": "2023-03-10T03:33:51.111863Z",
     "iopub.status.busy": "2023-03-10T03:33:51.111551Z",
     "iopub.status.idle": "2023-03-10T03:33:51.333779Z",
     "shell.execute_reply": "2023-03-10T03:33:51.332822Z"
    },
    "papermill": {
     "duration": 0.238381,
     "end_time": "2023-03-10T03:33:51.336121",
     "exception": false,
     "start_time": "2023-03-10T03:33:51.097740",
     "status": "completed"
    },
    "tags": []
   },
   "outputs": [
    {
     "data": {
      "image/png": "[encoded data removed]",
      "text/plain": [
       "<Figure size 800x800 with 1 Axes>"
      ]
     },
     "metadata": {},
     "output_type": "display_data"
    }
   ],
   "source": [
    "sns.set_style('whitegrid')\n",
    "colors = ['#87ace8','#e3784d', 'green']\n",
    "fig,axes = plt.subplots(figsize=(8,8))\n",
    "\n",
    "ax = sns.countplot(x='sex',data=meta_data, palette = 'Paired')\n",
    "for container in ax.containers:\n",
    "    ax.bar_label(container)\n",
    "plt.title('Gender-wise Distribution')\n",
    "plt.xticks(rotation=45)\n",
    "plt.show()"
   ]
  },
  {
   "cell_type": "code",
   "execution_count": 14,
   "id": "cb170139",
   "metadata": {
    "execution": {
     "iopub.execute_input": "2023-03-10T03:33:51.363678Z",
     "iopub.status.busy": "2023-03-10T03:33:51.362786Z",
     "iopub.status.idle": "2023-03-10T03:33:51.649889Z",
     "shell.execute_reply": "2023-03-10T03:33:51.648894Z"
    },
    "papermill": {
     "duration": 0.303169,
     "end_time": "2023-03-10T03:33:51.652234",
     "exception": false,
     "start_time": "2023-03-10T03:33:51.349065",
     "status": "completed"
    },
    "tags": []
   },
   "outputs": [
    {
     "data": {
      "image/png": "[encoded data removed]",
      "text/plain": [
       "<Figure size 1200x800 with 1 Axes>"
      ]
     },
     "metadata": {},
     "output_type": "display_data"
    }
   ],
   "source": [
    "sns.set_style('whitegrid')\n",
    "fig,axes = plt.subplots(figsize=(12,8))\n",
    "ax = sns.countplot(x='dx',data=meta_data, order = meta_data['dx'].value_counts().index, palette = 'Paired')\n",
    "for container in ax.containers:\n",
    "    ax.bar_label(container)\n",
    "plt.title('Cell Types Skin Cancer Affected patients')\n",
    "plt.xticks(rotation=45)\n",
    "plt.show()"
   ]
  },
  {
   "cell_type": "code",
   "execution_count": null,
   "id": "d61b190c",
   "metadata": {
    "papermill": {
     "duration": 0.012777,
     "end_time": "2023-03-10T03:33:51.678286",
     "exception": false,
     "start_time": "2023-03-10T03:33:51.665509",
     "status": "completed"
    },
    "tags": []
   },
   "outputs": [],
   "source": []
  },
  {
   "cell_type": "code",
   "execution_count": 15,
   "id": "0353657d",
   "metadata": {
    "execution": {
     "iopub.execute_input": "2023-03-10T03:33:51.706855Z",
     "iopub.status.busy": "2023-03-10T03:33:51.705847Z",
     "iopub.status.idle": "2023-03-10T03:33:51.713002Z",
     "shell.execute_reply": "2023-03-10T03:33:51.711766Z"
    },
    "papermill": {
     "duration": 0.023335,
     "end_time": "2023-03-10T03:33:51.714896",
     "exception": false,
     "start_time": "2023-03-10T03:33:51.691561",
     "status": "completed"
    },
    "tags": []
   },
   "outputs": [
    {
     "name": "stdout",
     "output_type": "stream",
     "text": [
      "[2, 4, 3, 6, 5, 1, 0]\n"
     ]
    }
   ],
   "source": [
    "classes = {2:'bkl', 4:'nv', 3:'df', 6:'mel', 5:'vasc', 1:'bcc', 0:'akiec'}\n",
    "\n",
    "classes_labels=[]\n",
    "for key in classes.keys():\n",
    "    classes_labels.append(key)\n",
    "print(classes_labels)"
   ]
  },
  {
   "cell_type": "code",
   "execution_count": 16,
   "id": "8238db75",
   "metadata": {
    "execution": {
     "iopub.execute_input": "2023-03-10T03:33:51.743001Z",
     "iopub.status.busy": "2023-03-10T03:33:51.742023Z",
     "iopub.status.idle": "2023-03-10T03:33:52.127447Z",
     "shell.execute_reply": "2023-03-10T03:33:52.126398Z"
    },
    "papermill": {
     "duration": 0.401786,
     "end_time": "2023-03-10T03:33:52.129843",
     "exception": false,
     "start_time": "2023-03-10T03:33:51.728057",
     "status": "completed"
    },
    "tags": []
   },
   "outputs": [
    {
     "data": {
      "image/png": "[encoded data removed]",
      "text/plain": [
       "<Figure size 1200x800 with 1 Axes>"
      ]
     },
     "metadata": {},
     "output_type": "display_data"
    }
   ],
   "source": [
    "sns.set_style('whitegrid')\n",
    "fig,axes = plt.subplots(figsize=(12,8))\n",
    "ax = sns.countplot(x='dx',hue='sex', data=meta_data, order = meta_data['dx'].value_counts().index, palette = 'Paired')\n",
    "for container in ax.containers:\n",
    "    ax.bar_label(container)\n",
    "plt.title('Cell Types Frequencies')\n",
    "plt.xticks(rotation=45)\n",
    "plt.show()"
   ]
  },
  {
   "cell_type": "code",
   "execution_count": 17,
   "id": "df473d17",
   "metadata": {
    "execution": {
     "iopub.execute_input": "2023-03-10T03:33:52.161039Z",
     "iopub.status.busy": "2023-03-10T03:33:52.159187Z",
     "iopub.status.idle": "2023-03-10T03:33:52.526033Z",
     "shell.execute_reply": "2023-03-10T03:33:52.525010Z"
    },
    "papermill": {
     "duration": 0.384664,
     "end_time": "2023-03-10T03:33:52.528490",
     "exception": false,
     "start_time": "2023-03-10T03:33:52.143826",
     "status": "completed"
    },
    "tags": []
   },
   "outputs": [
    {
     "data": {
      "image/png": "[encoded data removed]",
      "text/plain": [
       "<Figure size 1200x800 with 1 Axes>"
      ]
     },
     "metadata": {},
     "output_type": "display_data"
    }
   ],
   "source": [
    "sns.set_style('whitegrid')\n",
    "fig,axes = plt.subplots(figsize=(12,8))\n",
    "ax = sns.countplot(x='localization',data=meta_data, order = meta_data['localization'].value_counts().index, palette = 'crest')\n",
    "for container in ax.containers:\n",
    "    ax.bar_label(container)\n",
    "plt.title('Localization Area Frequencies')\n",
    "plt.xticks(rotation=45)\n",
    "plt.show()"
   ]
  },
  {
   "cell_type": "code",
   "execution_count": 18,
   "id": "588d9cf0",
   "metadata": {
    "execution": {
     "iopub.execute_input": "2023-03-10T03:33:52.558679Z",
     "iopub.status.busy": "2023-03-10T03:33:52.558361Z",
     "iopub.status.idle": "2023-03-10T03:33:52.876075Z",
     "shell.execute_reply": "2023-03-10T03:33:52.874897Z"
    },
    "papermill": {
     "duration": 0.33536,
     "end_time": "2023-03-10T03:33:52.878420",
     "exception": false,
     "start_time": "2023-03-10T03:33:52.543060",
     "status": "completed"
    },
    "tags": []
   },
   "outputs": [
    {
     "data": {
      "image/png": "[encoded data removed]",
      "text/plain": [
       "<Figure size 1200x800 with 1 Axes>"
      ]
     },
     "metadata": {},
     "output_type": "display_data"
    }
   ],
   "source": [
    "sns.set_style('whitegrid')\n",
    "fig,axes = plt.subplots(figsize=(12,8))\n",
    "ax = sns.histplot(data=meta_data, x='age')\n",
    "plt.title('Age Histogram')\n",
    "plt.show()"
   ]
  },
  {
   "cell_type": "code",
   "execution_count": 19,
   "id": "c0406736",
   "metadata": {
    "execution": {
     "iopub.execute_input": "2023-03-10T03:33:52.910237Z",
     "iopub.status.busy": "2023-03-10T03:33:52.909281Z",
     "iopub.status.idle": "2023-03-10T03:33:53.428590Z",
     "shell.execute_reply": "2023-03-10T03:33:53.427002Z"
    },
    "papermill": {
     "duration": 0.538805,
     "end_time": "2023-03-10T03:33:53.432093",
     "exception": false,
     "start_time": "2023-03-10T03:33:52.893288",
     "status": "completed"
    },
    "tags": []
   },
   "outputs": [
    {
     "data": {
      "image/png": "[encoded data removed]",
      "text/plain": [
       "<Figure size 1200x800 with 1 Axes>"
      ]
     },
     "metadata": {},
     "output_type": "display_data"
    }
   ],
   "source": [
    "sns.set_style('whitegrid')\n",
    "fig,axes = plt.subplots(figsize=(12,8))\n",
    "ax = sns.histplot(data=meta_data, x='age',hue='sex',multiple='stack')\n",
    "plt.title('Age Histogram Gender Wise')\n",
    "plt.show()"
   ]
  },
  {
   "cell_type": "markdown",
   "id": "97997d03",
   "metadata": {
    "papermill": {
     "duration": 0.014898,
     "end_time": "2023-03-10T03:33:53.462673",
     "exception": false,
     "start_time": "2023-03-10T03:33:53.447775",
     "status": "completed"
    },
    "tags": []
   },
   "source": []
  },
  {
   "cell_type": "code",
   "execution_count": 20,
   "id": "013aff3e",
   "metadata": {
    "execution": {
     "iopub.execute_input": "2023-03-10T03:33:53.494786Z",
     "iopub.status.busy": "2023-03-10T03:33:53.494123Z",
     "iopub.status.idle": "2023-03-10T03:33:55.705694Z",
     "shell.execute_reply": "2023-03-10T03:33:55.704311Z"
    },
    "papermill": {
     "duration": 2.230037,
     "end_time": "2023-03-10T03:33:55.707911",
     "exception": false,
     "start_time": "2023-03-10T03:33:53.477874",
     "status": "completed"
    },
    "tags": []
   },
   "outputs": [
    {
     "name": "stdout",
     "output_type": "stream",
     "text": [
      "(10015, 2352) (10015,)\n",
      "(46935, 2352) (46935,)\n"
     ]
    }
   ],
   "source": [
    "print(x.shape,y.shape)\n",
    "# To overcome class imbalace\n",
    "oversample = RandomOverSampler()\n",
    "x,y  = oversample.fit_resample(x,y)\n",
    "print(x.shape,y.shape)"
   ]
  },
  {
   "cell_type": "code",
   "execution_count": 21,
   "id": "8644c348",
   "metadata": {
    "execution": {
     "iopub.execute_input": "2023-03-10T03:33:55.740585Z",
     "iopub.status.busy": "2023-03-10T03:33:55.740260Z",
     "iopub.status.idle": "2023-03-10T03:33:56.640129Z",
     "shell.execute_reply": "2023-03-10T03:33:56.638455Z"
    },
    "papermill": {
     "duration": 0.918786,
     "end_time": "2023-03-10T03:33:56.642399",
     "exception": false,
     "start_time": "2023-03-10T03:33:55.723613",
     "status": "completed"
    },
    "tags": []
   },
   "outputs": [
    {
     "name": "stdout",
     "output_type": "stream",
     "text": [
      "Shape of X : (46935, 28, 28, 3)\n",
      "Shape of y : (46935,)\n"
     ]
    }
   ],
   "source": [
    "# reshaping the data so that it can be taken by convolution neural network(without disturbing the no. of samples)\n",
    "x = np.array(x).reshape(-1,28,28,3)\n",
    "print('Shape of X :',x.shape)\n",
    "print('Shape of y :',y.shape)"
   ]
  },
  {
   "cell_type": "code",
   "execution_count": 22,
   "id": "09b578fc",
   "metadata": {
    "execution": {
     "iopub.execute_input": "2023-03-10T03:33:56.674652Z",
     "iopub.status.busy": "2023-03-10T03:33:56.674332Z",
     "iopub.status.idle": "2023-03-10T03:33:57.913079Z",
     "shell.execute_reply": "2023-03-10T03:33:57.911436Z"
    },
    "papermill": {
     "duration": 1.257566,
     "end_time": "2023-03-10T03:33:57.915412",
     "exception": false,
     "start_time": "2023-03-10T03:33:56.657846",
     "status": "completed"
    },
    "tags": []
   },
   "outputs": [
    {
     "name": "stdout",
     "output_type": "stream",
     "text": [
      "(37548, 28, 28, 3) (37548,)\n",
      "(9387, 28, 28, 3) (9387,)\n"
     ]
    }
   ],
   "source": [
    "# Splitting Data\n",
    "X_train, X_test, Y_train, Y_test = train_test_split(x,y, test_size=0.2, random_state=1)\n",
    "print(X_train.shape,Y_train.shape)\n",
    "print(X_test.shape , Y_test.shape)"
   ]
  },
  {
   "cell_type": "code",
   "execution_count": 23,
   "id": "156ce21b",
   "metadata": {
    "execution": {
     "iopub.execute_input": "2023-03-10T03:33:57.948223Z",
     "iopub.status.busy": "2023-03-10T03:33:57.947335Z",
     "iopub.status.idle": "2023-03-10T03:34:00.635993Z",
     "shell.execute_reply": "2023-03-10T03:34:00.634543Z"
    },
    "papermill": {
     "duration": 2.738632,
     "end_time": "2023-03-10T03:34:00.669771",
     "exception": false,
     "start_time": "2023-03-10T03:33:57.931139",
     "status": "completed"
    },
    "tags": []
   },
   "outputs": [
    {
     "name": "stdout",
     "output_type": "stream",
     "text": [
      "Model: \"sequential\"\n",
      "_________________________________________________________________\n",
      " Layer (type)                Output Shape              Param #   \n",
      "=================================================================\n",
      " conv2d (Conv2D)             (None, 28, 28, 32)        896       \n",
      "                                                                 \n",
      " batch_normalization (BatchN  (None, 28, 28, 32)       128       \n",
      " ormalization)                                                   \n",
      "                                                                 \n",
      " max_pooling2d (MaxPooling2D  (None, 14, 14, 32)       0         \n",
      " )                                                               \n",
      "                                                                 \n",
      " conv2d_1 (Conv2D)           (None, 14, 14, 64)        18496     \n",
      "                                                                 \n",
      " batch_normalization_1 (Batc  (None, 14, 14, 64)       256       \n",
      " hNormalization)                                                 \n",
      "                                                                 \n",
      " max_pooling2d_1 (MaxPooling  (None, 7, 7, 64)         0         \n",
      " 2D)                                                             \n",
      "                                                                 \n",
      " conv2d_2 (Conv2D)           (None, 7, 7, 128)         73856     \n",
      "                                                                 \n",
      " batch_normalization_2 (Batc  (None, 7, 7, 128)        512       \n",
      " hNormalization)                                                 \n",
      "                                                                 \n",
      " max_pooling2d_2 (MaxPooling  (None, 4, 4, 128)        0         \n",
      " 2D)                                                             \n",
      "                                                                 \n",
      " flatten (Flatten)           (None, 2048)              0         \n",
      "                                                                 \n",
      " dense (Dense)               (None, 64)                131136    \n",
      "                                                                 \n",
      " batch_normalization_3 (Batc  (None, 64)               256       \n",
      " hNormalization)                                                 \n",
      "                                                                 \n",
      " dense_1 (Dense)             (None, 32)                2080      \n",
      "                                                                 \n",
      " activation (Activation)     (None, 32)                0         \n",
      "                                                                 \n",
      " batch_normalization_4 (Batc  (None, 32)               128       \n",
      " hNormalization)                                                 \n",
      "                                                                 \n",
      " dense_2 (Dense)             (None, 16)                528       \n",
      "                                                                 \n",
      " activation_1 (Activation)   (None, 16)                0         \n",
      "                                                                 \n",
      " batch_normalization_5 (Batc  (None, 16)               64        \n",
      " hNormalization)                                                 \n",
      "                                                                 \n",
      " dense_3 (Dense)             (None, 7)                 119       \n",
      "                                                                 \n",
      " activation_2 (Activation)   (None, 7)                 0         \n",
      "                                                                 \n",
      "=================================================================\n",
      "Total params: 228,455\n",
      "Trainable params: 227,783\n",
      "Non-trainable params: 672\n",
      "_________________________________________________________________\n",
      "None\n"
     ]
    }
   ],
   "source": [
    "model_CNN = Sequential()\n",
    "model_CNN.add(Conv2D(32, kernel_size = (3,3), input_shape = (28, 28, 3), activation = 'relu', padding = 'same'))\n",
    "model_CNN.add(BatchNormalization())\n",
    "\n",
    "\n",
    "model_CNN.add(MaxPool2D(pool_size = (2,2)))\n",
    "\n",
    "\n",
    "model_CNN.add(Conv2D(64, kernel_size = (3,3), activation = 'relu', padding = 'same'))\n",
    "model_CNN.add(BatchNormalization())\n",
    "\n",
    "model_CNN.add(MaxPool2D(pool_size = (2,2), padding = 'same'))\n",
    "model_CNN.add(Conv2D(128, kernel_size = (3,3), activation = 'relu', padding = 'same'))\n",
    "model_CNN.add(BatchNormalization())\n",
    "\n",
    "model_CNN.add(MaxPool2D(pool_size = (2,2), padding = 'same'))\n",
    "\n",
    "model_CNN.add(Flatten())\n",
    "\n",
    "\n",
    "model_CNN.add(Dense(64, activation = 'relu'))\n",
    "model_CNN.add(BatchNormalization())\n",
    "\n",
    "\n",
    "model_CNN.add(Dense(32))\n",
    "model_CNN.add(Activation(activation='relu'))\n",
    "model_CNN.add(BatchNormalization())\n",
    "\n",
    "model_CNN.add(Dense(16))\n",
    "model_CNN.add(Activation(activation='relu'))\n",
    "model_CNN.add(BatchNormalization())\n",
    "\n",
    "model_CNN.add(Dense(7))\n",
    "model_CNN.add(Activation(activation='softmax'))\n",
    "\n",
    "optimizer = tf.keras.optimizers.Adam(learning_rate = 0.001)\n",
    "\n",
    "model_CNN.compile(loss = 'sparse_categorical_crossentropy',\n",
    "                 optimizer = optimizer,\n",
    "                  metrics = ['accuracy'])\n",
    "print(model_CNN.summary())\n"
   ]
  },
  {
   "cell_type": "code",
   "execution_count": 24,
   "id": "a06c678d",
   "metadata": {
    "execution": {
     "iopub.execute_input": "2023-03-10T03:34:00.707878Z",
     "iopub.status.busy": "2023-03-10T03:34:00.707559Z",
     "iopub.status.idle": "2023-03-10T03:35:42.896429Z",
     "shell.execute_reply": "2023-03-10T03:35:42.893988Z"
    },
    "papermill": {
     "duration": 102.21082,
     "end_time": "2023-03-10T03:35:42.899257",
     "exception": false,
     "start_time": "2023-03-10T03:34:00.688437",
     "status": "completed"
    },
    "tags": []
   },
   "outputs": [
    {
     "name": "stdout",
     "output_type": "stream",
     "text": [
      "Epoch 1/50\n",
      "470/470 [==============================] - 15s 10ms/step - loss: 0.9542 - accuracy: 0.6635 - val_loss: 0.9318 - val_accuracy: 0.6377 - lr: 0.0010\n",
      "Epoch 2/50\n",
      "470/470 [==============================] - 4s 8ms/step - loss: 0.4104 - accuracy: 0.8578 - val_loss: 0.8866 - val_accuracy: 0.6979 - lr: 0.0010\n",
      "Epoch 3/50\n",
      "470/470 [==============================] - 4s 8ms/step - loss: 0.2900 - accuracy: 0.9001 - val_loss: 0.6961 - val_accuracy: 0.7650 - lr: 0.0010\n",
      "Epoch 4/50\n",
      "470/470 [==============================] - 4s 8ms/step - loss: 0.1956 - accuracy: 0.9325 - val_loss: 0.4986 - val_accuracy: 0.8198 - lr: 0.0010\n",
      "Epoch 5/50\n",
      "470/470 [==============================] - 4s 8ms/step - loss: 0.1521 - accuracy: 0.9478 - val_loss: 0.4333 - val_accuracy: 0.8583 - lr: 0.0010\n",
      "Epoch 6/50\n",
      "470/470 [==============================] - 4s 8ms/step - loss: 0.1286 - accuracy: 0.9552 - val_loss: 0.4032 - val_accuracy: 0.8720 - lr: 0.0010\n",
      "Epoch 7/50\n",
      "470/470 [==============================] - 4s 8ms/step - loss: 0.0947 - accuracy: 0.9682 - val_loss: 0.1674 - val_accuracy: 0.9463 - lr: 0.0010\n",
      "Epoch 8/50\n",
      "470/470 [==============================] - 4s 8ms/step - loss: 0.0844 - accuracy: 0.9713 - val_loss: 1.3121 - val_accuracy: 0.6088 - lr: 0.0010\n",
      "Epoch 9/50\n",
      "470/470 [==============================] - 4s 8ms/step - loss: 0.1012 - accuracy: 0.9646 - val_loss: 0.8057 - val_accuracy: 0.7658 - lr: 0.0010\n",
      "Epoch 10/50\n",
      "467/470 [============================>.] - ETA: 0s - loss: 0.0704 - accuracy: 0.9767\n",
      "Epoch 10: ReduceLROnPlateau reducing learning rate to 0.00010000000474974513.\n",
      "470/470 [==============================] - 4s 9ms/step - loss: 0.0705 - accuracy: 0.9767 - val_loss: 0.2393 - val_accuracy: 0.9178 - lr: 0.0010\n",
      "Epoch 11/50\n",
      "470/470 [==============================] - 4s 9ms/step - loss: 0.0214 - accuracy: 0.9943 - val_loss: 0.0746 - val_accuracy: 0.9794 - lr: 1.0000e-04\n",
      "Epoch 12/50\n",
      "470/470 [==============================] - 4s 8ms/step - loss: 0.0119 - accuracy: 0.9976 - val_loss: 0.0778 - val_accuracy: 0.9798 - lr: 1.0000e-04\n",
      "Epoch 13/50\n",
      "470/470 [==============================] - 4s 8ms/step - loss: 0.0093 - accuracy: 0.9982 - val_loss: 0.0703 - val_accuracy: 0.9811 - lr: 1.0000e-04\n",
      "Epoch 14/50\n",
      "470/470 [==============================] - 4s 8ms/step - loss: 0.0064 - accuracy: 0.9993 - val_loss: 0.0760 - val_accuracy: 0.9796 - lr: 1.0000e-04\n",
      "Epoch 15/50\n",
      "470/470 [==============================] - 4s 8ms/step - loss: 0.0048 - accuracy: 0.9996 - val_loss: 0.0708 - val_accuracy: 0.9822 - lr: 1.0000e-04\n",
      "Epoch 16/50\n",
      "469/470 [============================>.] - ETA: 0s - loss: 0.0049 - accuracy: 0.9993\n",
      "Epoch 16: ReduceLROnPlateau reducing learning rate to 1.0000000474974514e-05.\n",
      "470/470 [==============================] - 4s 8ms/step - loss: 0.0049 - accuracy: 0.9993 - val_loss: 0.0831 - val_accuracy: 0.9794 - lr: 1.0000e-04\n",
      "Epoch 17/50\n",
      "470/470 [==============================] - 4s 9ms/step - loss: 0.0039 - accuracy: 0.9996 - val_loss: 0.0709 - val_accuracy: 0.9816 - lr: 1.0000e-05\n",
      "Epoch 18/50\n",
      "470/470 [==============================] - 4s 9ms/step - loss: 0.0034 - accuracy: 0.9997 - val_loss: 0.0718 - val_accuracy: 0.9818 - lr: 1.0000e-05\n",
      "Epoch 19/50\n",
      "470/470 [==============================] - ETA: 0s - loss: 0.0035 - accuracy: 0.9997\n",
      "Epoch 19: ReduceLROnPlateau reducing learning rate to 1.0000000656873453e-06.\n",
      "470/470 [==============================] - 4s 9ms/step - loss: 0.0035 - accuracy: 0.9997 - val_loss: 0.0708 - val_accuracy: 0.9820 - lr: 1.0000e-05\n",
      "Epoch 20/50\n",
      "470/470 [==============================] - 4s 8ms/step - loss: 0.0030 - accuracy: 0.9998 - val_loss: 0.0717 - val_accuracy: 0.9816 - lr: 1.0000e-06\n",
      "Epoch 21/50\n",
      "470/470 [==============================] - 4s 8ms/step - loss: 0.0031 - accuracy: 0.9998 - val_loss: 0.0714 - val_accuracy: 0.9812 - lr: 1.0000e-06\n",
      "Epoch 22/50\n",
      "469/470 [============================>.] - ETA: 0s - loss: 0.0028 - accuracy: 0.9999\n",
      "Epoch 22: ReduceLROnPlateau reducing learning rate to 1.0000001111620805e-07.\n",
      "470/470 [==============================] - 4s 8ms/step - loss: 0.0028 - accuracy: 0.9999 - val_loss: 0.0708 - val_accuracy: 0.9819 - lr: 1.0000e-06\n",
      "Epoch 23/50\n",
      "470/470 [==============================] - 4s 8ms/step - loss: 0.0030 - accuracy: 0.9998 - val_loss: 0.0715 - val_accuracy: 0.9818 - lr: 1.0000e-07\n",
      "Epoch 23: early stopping\n"
     ]
    }
   ],
   "source": [
    "from tensorflow.keras.callbacks import ReduceLROnPlateau, EarlyStopping\n",
    "early_stop = EarlyStopping(monitor='val_loss', patience=10, verbose=1, mode='auto')\n",
    "reduce_lr = ReduceLROnPlateau(monitor='val_loss', factor=0.1, patience=3, verbose=1, mode='auto')\n",
    "history = model_CNN.fit(X_train,\n",
    "                    Y_train,\n",
    "                    validation_split=0.2,\n",
    "                    batch_size = 64,\n",
    "                    epochs = 50,\n",
    "                    callbacks = [reduce_lr, early_stop])"
   ]
  },
  {
   "cell_type": "code",
   "execution_count": 25,
   "id": "7839281b",
   "metadata": {
    "execution": {
     "iopub.execute_input": "2023-03-10T03:35:43.095125Z",
     "iopub.status.busy": "2023-03-10T03:35:43.094738Z",
     "iopub.status.idle": "2023-03-10T03:35:44.757231Z",
     "shell.execute_reply": "2023-03-10T03:35:44.755835Z"
    },
    "papermill": {
     "duration": 1.764647,
     "end_time": "2023-03-10T03:35:44.760434",
     "exception": false,
     "start_time": "2023-03-10T03:35:42.995787",
     "status": "completed"
    },
    "tags": []
   },
   "outputs": [
    {
     "name": "stdout",
     "output_type": "stream",
     "text": [
      "CNN Model Test Results\n",
      "        Test Loss: 0.07844\n",
      "    Test Accuracy: 97.93%\n"
     ]
    }
   ],
   "source": [
    "results = model_CNN.evaluate(X_test , Y_test, verbose=0)\n",
    "\n",
    "print(\"CNN Model Test Results\")\n",
    "print(\"        Test Loss: {:.5f}\".format(results[0]))\n",
    "print(\"    Test Accuracy: {:.2f}%\".format(results[1] * 100))"
   ]
  },
  {
   "cell_type": "code",
   "execution_count": 26,
   "id": "a00630c1",
   "metadata": {
    "execution": {
     "iopub.execute_input": "2023-03-10T03:35:44.960275Z",
     "iopub.status.busy": "2023-03-10T03:35:44.959245Z",
     "iopub.status.idle": "2023-03-10T03:35:45.221895Z",
     "shell.execute_reply": "2023-03-10T03:35:45.220913Z"
    },
    "papermill": {
     "duration": 0.366821,
     "end_time": "2023-03-10T03:35:45.224280",
     "exception": false,
     "start_time": "2023-03-10T03:35:44.857459",
     "status": "completed"
    },
    "tags": []
   },
   "outputs": [
    {
     "data": {
      "image/png": "[encoded data removed]",
      "text/plain": [
       "<Figure size 640x480 with 1 Axes>"
      ]
     },
     "metadata": {},
     "output_type": "display_data"
    }
   ],
   "source": [
    "plt.plot(history.history['accuracy'])\n",
    "plt.plot(history.history['val_accuracy'])\n",
    "plt.title('model accuracy')\n",
    "plt.ylabel('accuracy')\n",
    "plt.xlabel('epoch')\n",
    "plt.legend(['train', 'val'], loc='upper left')\n",
    "plt.show()"
   ]
  },
  {
   "cell_type": "code",
   "execution_count": 27,
   "id": "97461e6e",
   "metadata": {
    "execution": {
     "iopub.execute_input": "2023-03-10T03:35:45.421867Z",
     "iopub.status.busy": "2023-03-10T03:35:45.420808Z",
     "iopub.status.idle": "2023-03-10T03:35:45.661862Z",
     "shell.execute_reply": "2023-03-10T03:35:45.660864Z"
    },
    "papermill": {
     "duration": 0.341988,
     "end_time": "2023-03-10T03:35:45.664031",
     "exception": false,
     "start_time": "2023-03-10T03:35:45.322043",
     "status": "completed"
    },
    "tags": []
   },
   "outputs": [
    {
     "data": {
      "image/png": "[encoded data removed]",
      "text/plain": [
       "<Figure size 640x480 with 1 Axes>"
      ]
     },
     "metadata": {},
     "output_type": "display_data"
    }
   ],
   "source": [
    "plt.plot(history.history['loss'])\n",
    "plt.plot(history.history['val_loss'])\n",
    "plt.title('model loss')\n",
    "plt.ylabel('loss')\n",
    "plt.xlabel('epoch')\n",
    "plt.legend(['train', 'val'], loc='upper right')\n",
    "plt.show()"
   ]
  },
  {
   "cell_type": "code",
   "execution_count": 28,
   "id": "e0d22ccd",
   "metadata": {
    "execution": {
     "iopub.execute_input": "2023-03-10T03:35:45.863758Z",
     "iopub.status.busy": "2023-03-10T03:35:45.862929Z",
     "iopub.status.idle": "2023-03-10T03:35:47.702287Z",
     "shell.execute_reply": "2023-03-10T03:35:47.700839Z"
    },
    "papermill": {
     "duration": 1.941102,
     "end_time": "2023-03-10T03:35:47.704811",
     "exception": false,
     "start_time": "2023-03-10T03:35:45.763709",
     "status": "completed"
    },
    "tags": []
   },
   "outputs": [
    {
     "name": "stdout",
     "output_type": "stream",
     "text": [
      "294/294 [==============================] - 1s 2ms/step\n",
      "Predicting First Ten Rows:\n",
      "Y Actual Values : [5, 1, 4, 0, 5, 0, 2, 0, 3, 2]\n",
      "Y Predicted Values : [5, 1, 4, 0, 5, 0, 2, 0, 3, 2]\n"
     ]
    }
   ],
   "source": [
    "from sklearn.metrics import confusion_matrix , classification_report\n",
    "\n",
    "y_true_CNN = list(Y_test)\n",
    "y_pred_CNN = model_CNN.predict(X_test)\n",
    "y_pred_CNN = list(map(lambda x: np.argmax(x), y_pred_CNN))\n",
    "print(\"Predicting First Ten Rows:\")\n",
    "print('Y Actual Values :' , y_true_CNN[0:10])\n",
    "print('Y Predicted Values :' , y_pred_CNN[0:10])"
   ]
  },
  {
   "cell_type": "code",
   "execution_count": 29,
   "id": "ef4c34d3",
   "metadata": {
    "execution": {
     "iopub.execute_input": "2023-03-10T03:35:47.962799Z",
     "iopub.status.busy": "2023-03-10T03:35:47.962425Z",
     "iopub.status.idle": "2023-03-10T03:35:48.461423Z",
     "shell.execute_reply": "2023-03-10T03:35:48.460404Z"
    },
    "papermill": {
     "duration": 0.658834,
     "end_time": "2023-03-10T03:35:48.463619",
     "exception": false,
     "start_time": "2023-03-10T03:35:47.804785",
     "status": "completed"
    },
    "tags": []
   },
   "outputs": [
    {
     "name": "stdout",
     "output_type": "stream",
     "text": [
      "[[1247    5    1    3    2    4    0]\n",
      " [  57 1208    4   92    3    9    1]\n",
      " [   0    0 1351    0    0    0    0]\n",
      " [   4    9    0 1352    0    0    0]\n",
      " [   0    0    0    0 1358    0    0]\n",
      " [   0    0    0    0    0 1318    0]\n",
      " [   0    0    0    0    0    0 1359]]\n"
     ]
    },
    {
     "data": {
      "text/plain": [
       "<AxesSubplot:>"
      ]
     },
     "execution_count": 29,
     "metadata": {},
     "output_type": "execute_result"
    },
    {
     "data": {
      "image/png": "[encoded data removed]",
      "text/plain": [
       "<Figure size 640x480 with 2 Axes>"
      ]
     },
     "metadata": {},
     "output_type": "display_data"
    }
   ],
   "source": [
    "cm_CNN = confusion_matrix(y_true_CNN,y_pred_CNN,labels=classes_labels)\n",
    "print(confusion_matrix(y_true_CNN,y_pred_CNN,labels=classes_labels))\n",
    "sns.heatmap(cm_CNN, annot = True, fmt='')"
   ]
  },
  {
   "cell_type": "code",
   "execution_count": 30,
   "id": "f58b0bce",
   "metadata": {
    "execution": {
     "iopub.execute_input": "2023-03-10T03:35:48.784325Z",
     "iopub.status.busy": "2023-03-10T03:35:48.783796Z",
     "iopub.status.idle": "2023-03-10T03:35:49.064047Z",
     "shell.execute_reply": "2023-03-10T03:35:49.063084Z"
    },
    "papermill": {
     "duration": 0.449983,
     "end_time": "2023-03-10T03:35:49.066680",
     "exception": false,
     "start_time": "2023-03-10T03:35:48.616697",
     "status": "completed"
    },
    "tags": []
   },
   "outputs": [
    {
     "data": {
      "image/png": "[encoded data removed]",
      "text/plain": [
       "<Figure size 640x480 with 1 Axes>"
      ]
     },
     "metadata": {},
     "output_type": "display_data"
    }
   ],
   "source": [
    "#training acc vs testing acc graph\n",
    "plt.plot(history.history[\"accuracy\"] , 'ro-' , label = \"Training Accuracy\")\n",
    "plt.plot(history.history[\"val_accuracy\"] , 'go-' , label = \"Testing Accuracy\")\n",
    "plt.legend()\n",
    "plt.show()"
   ]
  },
  {
   "cell_type": "code",
   "execution_count": 31,
   "id": "9463f798",
   "metadata": {
    "execution": {
     "iopub.execute_input": "2023-03-10T03:35:49.301751Z",
     "iopub.status.busy": "2023-03-10T03:35:49.301405Z",
     "iopub.status.idle": "2023-03-10T03:35:51.011236Z",
     "shell.execute_reply": "2023-03-10T03:35:51.002061Z"
    },
    "papermill": {
     "duration": 1.812431,
     "end_time": "2023-03-10T03:35:51.015003",
     "exception": false,
     "start_time": "2023-03-10T03:35:49.202572",
     "status": "completed"
    },
    "tags": []
   },
   "outputs": [
    {
     "name": "stdout",
     "output_type": "stream",
     "text": [
      "294/294 [==============================] - 1s 3ms/step\n",
      "CNN Model Prediction Results\n",
      "              precision    recall  f1-score   support\n",
      "\n",
      "       akiec       1.00      1.00      1.00      1359\n",
      "         bcc       0.99      1.00      1.00      1318\n",
      "         bkl       0.95      0.99      0.97      1262\n",
      "          df       1.00      1.00      1.00      1351\n",
      "          nv       0.99      0.88      0.93      1374\n",
      "        vasc       1.00      1.00      1.00      1358\n",
      "         mel       0.93      0.99      0.96      1365\n",
      "\n",
      "    accuracy                           0.98      9387\n",
      "   macro avg       0.98      0.98      0.98      9387\n",
      "weighted avg       0.98      0.98      0.98      9387\n",
      "\n"
     ]
    }
   ],
   "source": [
    "#predicting\n",
    "y_pred_CNN  = model_CNN.predict(X_test)\n",
    "target_names = [f\"{classes[i]}\" for i in range(7)]\n",
    "y_pred_CNN = list(map(lambda x: np.argmax(x), y_pred_CNN))\n",
    "print(\"CNN Model Prediction Results\")\n",
    "print(classification_report(Y_test , y_pred_CNN,target_names=target_names))"
   ]
  },
  {
   "cell_type": "code",
   "execution_count": 32,
   "id": "6e429561",
   "metadata": {
    "execution": {
     "iopub.execute_input": "2023-03-10T03:35:51.338758Z",
     "iopub.status.busy": "2023-03-10T03:35:51.338159Z",
     "iopub.status.idle": "2023-03-10T03:35:51.345062Z",
     "shell.execute_reply": "2023-03-10T03:35:51.343930Z"
    },
    "papermill": {
     "duration": 0.1636,
     "end_time": "2023-03-10T03:35:51.349181",
     "exception": false,
     "start_time": "2023-03-10T03:35:51.185581",
     "status": "completed"
    },
    "tags": []
   },
   "outputs": [
    {
     "name": "stdout",
     "output_type": "stream",
     "text": [
      "0 <keras.layers.convolutional.conv2d.Conv2D object at 0x7fc69fc93390>\n",
      "1 <keras.layers.normalization.batch_normalization.BatchNormalization object at 0x7fc69fd3d310>\n",
      "2 <keras.layers.pooling.max_pooling2d.MaxPooling2D object at 0x7fc6a00f7b50>\n",
      "3 <keras.layers.convolutional.conv2d.Conv2D object at 0x7fc70e4c4e90>\n",
      "4 <keras.layers.normalization.batch_normalization.BatchNormalization object at 0x7fc6a0113110>\n",
      "5 <keras.layers.pooling.max_pooling2d.MaxPooling2D object at 0x7fc6a00f7950>\n",
      "6 <keras.layers.convolutional.conv2d.Conv2D object at 0x7fc6a010db10>\n",
      "7 <keras.layers.normalization.batch_normalization.BatchNormalization object at 0x7fc6a0105110>\n",
      "8 <keras.layers.pooling.max_pooling2d.MaxPooling2D object at 0x7fc69ff02390>\n",
      "9 <keras.layers.reshaping.flatten.Flatten object at 0x7fc69fef5250>\n",
      "10 <keras.layers.core.dense.Dense object at 0x7fc6a0105e90>\n",
      "11 <keras.layers.normalization.batch_normalization.BatchNormalization object at 0x7fc6a0105690>\n",
      "12 <keras.layers.core.dense.Dense object at 0x7fc69ff16650>\n",
      "13 <keras.layers.core.activation.Activation object at 0x7fc6a04ad450>\n",
      "14 <keras.layers.normalization.batch_normalization.BatchNormalization object at 0x7fc69feec0d0>\n",
      "15 <keras.layers.core.dense.Dense object at 0x7fc69ff0a0d0>\n",
      "16 <keras.layers.core.activation.Activation object at 0x7fc69fef5f10>\n",
      "17 <keras.layers.normalization.batch_normalization.BatchNormalization object at 0x7fc69ff16390>\n",
      "18 <keras.layers.core.dense.Dense object at 0x7fc69ff0fe10>\n",
      "19 <keras.layers.core.activation.Activation object at 0x7fc69ff02e50>\n"
     ]
    }
   ],
   "source": [
    "# Layers definitions\n",
    "from keras import backend as K\n",
    "for l in range(len(model_CNN.layers)):\n",
    "    print(l, model_CNN.layers[l])"
   ]
  },
  {
   "cell_type": "code",
   "execution_count": 33,
   "id": "00b1abd9",
   "metadata": {
    "execution": {
     "iopub.execute_input": "2023-03-10T03:35:51.550833Z",
     "iopub.status.busy": "2023-03-10T03:35:51.549810Z",
     "iopub.status.idle": "2023-03-10T03:35:51.557280Z",
     "shell.execute_reply": "2023-03-10T03:35:51.556073Z"
    },
    "papermill": {
     "duration": 0.111747,
     "end_time": "2023-03-10T03:35:51.560062",
     "exception": false,
     "start_time": "2023-03-10T03:35:51.448315",
     "status": "completed"
    },
    "tags": []
   },
   "outputs": [
    {
     "data": {
      "text/plain": [
       "<keras.layers.core.dense.Dense at 0x7fc69ff0fe10>"
      ]
     },
     "execution_count": 33,
     "metadata": {},
     "output_type": "execute_result"
    }
   ],
   "source": [
    "model_CNN.layers[-2]"
   ]
  },
  {
   "cell_type": "code",
   "execution_count": 34,
   "id": "dc6a6d7f",
   "metadata": {
    "execution": {
     "iopub.execute_input": "2023-03-10T03:35:51.763742Z",
     "iopub.status.busy": "2023-03-10T03:35:51.763145Z",
     "iopub.status.idle": "2023-03-10T03:35:51.769331Z",
     "shell.execute_reply": "2023-03-10T03:35:51.767920Z"
    },
    "papermill": {
     "duration": 0.111196,
     "end_time": "2023-03-10T03:35:51.771908",
     "exception": false,
     "start_time": "2023-03-10T03:35:51.660712",
     "status": "completed"
    },
    "tags": []
   },
   "outputs": [
    {
     "name": "stdout",
     "output_type": "stream",
     "text": [
      "tensorflow\n"
     ]
    }
   ],
   "source": [
    "import os\n",
    "os.environ[\"KERAS_BACKEND\"] = \"tensorflow\"\n",
    "kerasBKED = os.environ[\"KERAS_BACKEND\"] \n",
    "print(kerasBKED)"
   ]
  },
  {
   "cell_type": "markdown",
   "id": "d2704a27",
   "metadata": {
    "papermill": {
     "duration": 0.100196,
     "end_time": "2023-03-10T03:35:51.972235",
     "exception": false,
     "start_time": "2023-03-10T03:35:51.872039",
     "status": "completed"
    },
    "tags": []
   },
   "source": [
    "## Separating Features Layers from the CNN Model"
   ]
  },
  {
   "cell_type": "code",
   "execution_count": 35,
   "id": "19a6b4c0",
   "metadata": {
    "execution": {
     "iopub.execute_input": "2023-03-10T03:35:52.173833Z",
     "iopub.status.busy": "2023-03-10T03:35:52.173119Z",
     "iopub.status.idle": "2023-03-10T03:35:52.183093Z",
     "shell.execute_reply": "2023-03-10T03:35:52.182130Z"
    },
    "papermill": {
     "duration": 0.113293,
     "end_time": "2023-03-10T03:35:52.185198",
     "exception": false,
     "start_time": "2023-03-10T03:35:52.071905",
     "status": "completed"
    },
    "tags": []
   },
   "outputs": [],
   "source": [
    "import tensorflow as tf\n",
    "# feature_extractor = tf.keras.Model(inputs=model_CNN.input, \n",
    "#                                     outputs=model_CNN.get_layer(-2).output)\n",
    "# output_layers_model =tf.keras.Model(inputs=model_CNN.input, outputs=model_CNN.output)\n",
    "# cnn_layer_output = model_CNN.layers[-2].output\n",
    "# cnn_model_features = tf.keras.Model(inputs=model_CNN.input, outputs=cnn_layer_output)\n",
    "cnn_model_features = tf.keras.Model(inputs=model_CNN.input, outputs=model_CNN.layers[-3].output)\n"
   ]
  },
  {
   "cell_type": "markdown",
   "id": "f5c4e1f4",
   "metadata": {
    "papermill": {
     "duration": 0.099744,
     "end_time": "2023-03-10T03:35:52.384272",
     "exception": false,
     "start_time": "2023-03-10T03:35:52.284528",
     "status": "completed"
    },
    "tags": []
   },
   "source": [
    "## Extracting Features from CNN Model"
   ]
  },
  {
   "cell_type": "code",
   "execution_count": 36,
   "id": "c4cd3031",
   "metadata": {
    "execution": {
     "iopub.execute_input": "2023-03-10T03:35:52.586049Z",
     "iopub.status.busy": "2023-03-10T03:35:52.584968Z",
     "iopub.status.idle": "2023-03-10T03:35:58.439656Z",
     "shell.execute_reply": "2023-03-10T03:35:58.438516Z"
    },
    "papermill": {
     "duration": 5.958627,
     "end_time": "2023-03-10T03:35:58.442681",
     "exception": false,
     "start_time": "2023-03-10T03:35:52.484054",
     "status": "completed"
    },
    "tags": []
   },
   "outputs": [
    {
     "name": "stdout",
     "output_type": "stream",
     "text": [
      "1174/1174 [==============================] - 3s 2ms/step\n",
      "294/294 [==============================] - 1s 2ms/step\n"
     ]
    }
   ],
   "source": [
    "# Extract features from input data using the CNN model\n",
    "X_train_cnn = cnn_model_features.predict(X_train)\n",
    "X_test_cnn = cnn_model_features.predict(X_test)"
   ]
  },
  {
   "cell_type": "markdown",
   "id": "c0586e1d",
   "metadata": {
    "papermill": {
     "duration": 0.102687,
     "end_time": "2023-03-10T03:35:58.657380",
     "exception": false,
     "start_time": "2023-03-10T03:35:58.554693",
     "status": "completed"
    },
    "tags": []
   },
   "source": [
    "## Integrating CNN with SVM Classifier using Grid Search for Best Perameters"
   ]
  },
  {
   "cell_type": "code",
   "execution_count": 37,
   "id": "60279679",
   "metadata": {
    "execution": {
     "iopub.execute_input": "2023-03-10T03:35:58.868179Z",
     "iopub.status.busy": "2023-03-10T03:35:58.867233Z",
     "iopub.status.idle": "2023-03-10T03:37:10.170177Z",
     "shell.execute_reply": "2023-03-10T03:37:10.169015Z"
    },
    "papermill": {
     "duration": 71.452094,
     "end_time": "2023-03-10T03:37:10.213812",
     "exception": false,
     "start_time": "2023-03-10T03:35:58.761718",
     "status": "completed"
    },
    "tags": []
   },
   "outputs": [
    {
     "name": "stdout",
     "output_type": "stream",
     "text": [
      "SVM Accuracy: 98.60445296686908\n"
     ]
    }
   ],
   "source": [
    "import numpy as np\n",
    "from sklearn.svm import SVC\n",
    "from sklearn.model_selection import GridSearchCV\n",
    "\n",
    "parameters = {'kernel':['rbf'], \n",
    "              'C':[1, 10, 100, 1000],\n",
    "              'gamma':[1e-3, 1e-4]}\n",
    "clf = GridSearchCV(SVC(), parameters)\n",
    "clf.fit(X_train_cnn, Y_train)\n",
    "# Evaluate the combined CNN-SVM model on a test dataset\n",
    "svm_accuracy = clf.score(X_test_cnn, Y_test)\n",
    "print('SVM Accuracy:', svm_accuracy*100)\n",
    "y_testSVM = clf.predict(X_test_cnn)"
   ]
  },
  {
   "cell_type": "code",
   "execution_count": 38,
   "id": "609079b5",
   "metadata": {
    "execution": {
     "iopub.execute_input": "2023-03-10T03:37:10.423099Z",
     "iopub.status.busy": "2023-03-10T03:37:10.422012Z",
     "iopub.status.idle": "2023-03-10T03:37:11.198205Z",
     "shell.execute_reply": "2023-03-10T03:37:11.197013Z"
    },
    "papermill": {
     "duration": 0.88433,
     "end_time": "2023-03-10T03:37:11.201298",
     "exception": false,
     "start_time": "2023-03-10T03:37:10.316968",
     "status": "completed"
    },
    "tags": []
   },
   "outputs": [
    {
     "name": "stdout",
     "output_type": "stream",
     "text": [
      "SVM Accuracy: 98.60445296686908\n",
      "SVC(C=10, gamma=0.001)\n",
      "Accuracy: 98.60445296686908\n"
     ]
    }
   ],
   "source": [
    "svm_accuracy = clf.score(X_test_cnn, Y_test)\n",
    "print('SVM Accuracy:', svm_accuracy*100)\n",
    "svmclf = clf.best_estimator_\n",
    "print(svmclf)\n",
    "svmclf.fit(X_train_cnn, Y_train)\n",
    "print(\"Accuracy: {0}\".format(accuracy_score(Y_test, y_testSVM)*100))"
   ]
  },
  {
   "cell_type": "code",
   "execution_count": 39,
   "id": "e61dbbeb",
   "metadata": {
    "execution": {
     "iopub.execute_input": "2023-03-10T03:37:11.409707Z",
     "iopub.status.busy": "2023-03-10T03:37:11.409343Z",
     "iopub.status.idle": "2023-03-10T03:37:11.685541Z",
     "shell.execute_reply": "2023-03-10T03:37:11.684123Z"
    },
    "papermill": {
     "duration": 0.384608,
     "end_time": "2023-03-10T03:37:11.689554",
     "exception": false,
     "start_time": "2023-03-10T03:37:11.304946",
     "status": "completed"
    },
    "tags": []
   },
   "outputs": [
    {
     "name": "stdout",
     "output_type": "stream",
     "text": [
      "              precision    recall  f1-score   support\n",
      "\n",
      "       akiec       1.00      1.00      1.00      1359\n",
      "         bcc       0.99      1.00      1.00      1318\n",
      "         bkl       0.97      0.99      0.98      1262\n",
      "          df       1.00      1.00      1.00      1351\n",
      "          nv       0.98      0.93      0.95      1374\n",
      "        vasc       1.00      1.00      1.00      1358\n",
      "         mel       0.96      0.99      0.98      1365\n",
      "\n",
      "    accuracy                           0.99      9387\n",
      "   macro avg       0.99      0.99      0.99      9387\n",
      "weighted avg       0.99      0.99      0.99      9387\n",
      "\n",
      "Accuracy: 98.60445296686908\n"
     ]
    }
   ],
   "source": [
    "y_testSVM = svmclf.predict(X_test_cnn)\n",
    "from sklearn.metrics import confusion_matrix, classification_report, accuracy_score\n",
    "\n",
    "print(classification_report(Y_test, y_testSVM,target_names=target_names))\n",
    "print(\"Accuracy: {0}\".format(accuracy_score(Y_test, y_testSVM)*100))"
   ]
  },
  {
   "cell_type": "code",
   "execution_count": null,
   "id": "d4c7fa1d",
   "metadata": {
    "papermill": {
     "duration": 0.143883,
     "end_time": "2023-03-10T03:37:11.942283",
     "exception": false,
     "start_time": "2023-03-10T03:37:11.798400",
     "status": "completed"
    },
    "tags": []
   },
   "outputs": [],
   "source": []
  },
  {
   "cell_type": "markdown",
   "id": "9150b362",
   "metadata": {
    "papermill": {
     "duration": 0.10377,
     "end_time": "2023-03-10T03:37:12.149050",
     "exception": false,
     "start_time": "2023-03-10T03:37:12.045280",
     "status": "completed"
    },
    "tags": []
   },
   "source": [
    "## Integrating CNN with Random Forest Classifier using Grid Search for Best Perameters"
   ]
  },
  {
   "cell_type": "code",
   "execution_count": 40,
   "id": "40b5ae42",
   "metadata": {
    "execution": {
     "iopub.execute_input": "2023-03-10T03:37:12.356080Z",
     "iopub.status.busy": "2023-03-10T03:37:12.355679Z",
     "iopub.status.idle": "2023-03-10T04:15:13.583304Z",
     "shell.execute_reply": "2023-03-10T04:15:13.582003Z"
    },
    "papermill": {
     "duration": 2281.508092,
     "end_time": "2023-03-10T04:15:13.759924",
     "exception": false,
     "start_time": "2023-03-10T03:37:12.251832",
     "status": "completed"
    },
    "tags": []
   },
   "outputs": [
    {
     "name": "stdout",
     "output_type": "stream",
     "text": [
      "Random Forest Classifier Accuracy: 99.03057419835943\n",
      "Accuracy: 99.03057419835943\n"
     ]
    }
   ],
   "source": [
    "from sklearn.ensemble import RandomForestClassifier\n",
    "from sklearn.model_selection import GridSearchCV\n",
    "\n",
    "parameters = {\"max_depth\": [3, None],\n",
    "              \"max_features\": [1, 3, 10],\n",
    "              \"min_samples_split\": [1.0, 3, 10],\n",
    "              \"min_samples_leaf\": [1, 3, 10],\n",
    "              \"bootstrap\": [True, False],\n",
    "              \"criterion\": [\"gini\", \"entropy\"],\n",
    "              \"n_estimators\": [10, 20, 50]}\n",
    "rclf = RandomForestClassifier()\n",
    "rgclf = GridSearchCV(rclf, param_grid=parameters)\n",
    "rgclf.fit(X_train_cnn, Y_train)\n",
    "RFC_accuracy = rgclf.score(X_test_cnn, Y_test)\n",
    "print('Random Forest Classifier Accuracy:', RFC_accuracy*100)\n",
    "y_test_RF = rgclf.predict(X_test_cnn)\n",
    "print(\"Accuracy: {0}\".format(accuracy_score(Y_test, y_test_RF)*100))"
   ]
  },
  {
   "cell_type": "code",
   "execution_count": 41,
   "id": "a06deffe",
   "metadata": {
    "execution": {
     "iopub.execute_input": "2023-03-10T04:15:14.091244Z",
     "iopub.status.busy": "2023-03-10T04:15:14.090011Z",
     "iopub.status.idle": "2023-03-10T04:15:14.159486Z",
     "shell.execute_reply": "2023-03-10T04:15:14.158149Z"
    },
    "papermill": {
     "duration": 0.242141,
     "end_time": "2023-03-10T04:15:14.161770",
     "exception": false,
     "start_time": "2023-03-10T04:15:13.919629",
     "status": "completed"
    },
    "tags": []
   },
   "outputs": [
    {
     "name": "stdout",
     "output_type": "stream",
     "text": [
      "Accuracy: 99.03057419835943\n",
      "RandomForestClassifier(max_features=10, min_samples_split=3, n_estimators=20)\n",
      "              precision    recall  f1-score   support\n",
      "\n",
      "       akiec       1.00      1.00      1.00      1359\n",
      "         bcc       1.00      1.00      1.00      1318\n",
      "         bkl       0.97      1.00      0.99      1262\n",
      "          df       1.00      1.00      1.00      1351\n",
      "          nv       1.00      0.94      0.97      1374\n",
      "        vasc       1.00      1.00      1.00      1358\n",
      "         mel       0.97      0.99      0.98      1365\n",
      "\n",
      "    accuracy                           0.99      9387\n",
      "   macro avg       0.99      0.99      0.99      9387\n",
      "weighted avg       0.99      0.99      0.99      9387\n",
      "\n",
      "Accuracy: 99.03057419835943\n"
     ]
    }
   ],
   "source": [
    "y_test_RF = rgclf.predict(X_test_cnn)\n",
    "print(\"Accuracy: {0}\".format(accuracy_score(Y_test, y_test_RF)*100))\n",
    "RFclf = rgclf.best_estimator_\n",
    "print(RFclf)\n",
    "y_testRFC = RFclf.predict(X_test_cnn)\n",
    "from sklearn.metrics import confusion_matrix, classification_report, accuracy_score\n",
    "\n",
    "print(classification_report(Y_test, y_testRFC,target_names=target_names))\n",
    "print(\"Accuracy: {0}\".format(accuracy_score(Y_test, y_testRFC)*100))"
   ]
  },
  {
   "cell_type": "markdown",
   "id": "c02213af",
   "metadata": {
    "papermill": {
     "duration": 0.103386,
     "end_time": "2023-03-10T04:15:14.368745",
     "exception": false,
     "start_time": "2023-03-10T04:15:14.265359",
     "status": "completed"
    },
    "tags": []
   },
   "source": [
    "## Integrating CNN with KNN Classifier using Grid Search for Best Perameters"
   ]
  },
  {
   "cell_type": "code",
   "execution_count": 42,
   "id": "e5ab98ae",
   "metadata": {
    "execution": {
     "iopub.execute_input": "2023-03-10T04:15:14.587904Z",
     "iopub.status.busy": "2023-03-10T04:15:14.587539Z",
     "iopub.status.idle": "2023-03-10T04:39:00.901652Z",
     "shell.execute_reply": "2023-03-10T04:39:00.899585Z"
    },
    "papermill": {
     "duration": 1426.537269,
     "end_time": "2023-03-10T04:39:01.009794",
     "exception": false,
     "start_time": "2023-03-10T04:15:14.472525",
     "status": "completed"
    },
    "tags": []
   },
   "outputs": [
    {
     "name": "stdout",
     "output_type": "stream",
     "text": [
      "KNN Classifier Accuracy: 98.68967721316714\n"
     ]
    }
   ],
   "source": [
    "from sklearn.neighbors import KNeighborsClassifier\n",
    "from sklearn.model_selection import GridSearchCV\n",
    "\n",
    "parameters = {\"n_neighbors\": [1, 5, 10,30],\n",
    "              \"weights\": ['uniform', 'distance'],\n",
    "              \"metric\": ['minkowski','euclidean','manhattan'],\n",
    "              \"algorithm\": ['auto', 'ball_tree', 'kd_tree', 'brute']}\n",
    "kclf = KNeighborsClassifier()\n",
    "kgclf = GridSearchCV(kclf, param_grid=parameters)\n",
    "kgclf.fit(X_train_cnn, Y_train)\n",
    "KNN_accuracy = kgclf.score(X_test_cnn, Y_test)\n",
    "print('KNN Classifier Accuracy:', KNN_accuracy*100)"
   ]
  },
  {
   "cell_type": "code",
   "execution_count": 43,
   "id": "20810b4a",
   "metadata": {
    "execution": {
     "iopub.execute_input": "2023-03-10T04:39:01.220643Z",
     "iopub.status.busy": "2023-03-10T04:39:01.220284Z",
     "iopub.status.idle": "2023-03-10T04:39:09.143509Z",
     "shell.execute_reply": "2023-03-10T04:39:09.142250Z"
    },
    "papermill": {
     "duration": 8.031453,
     "end_time": "2023-03-10T04:39:09.145916",
     "exception": false,
     "start_time": "2023-03-10T04:39:01.114463",
     "status": "completed"
    },
    "tags": []
   },
   "outputs": [
    {
     "name": "stdout",
     "output_type": "stream",
     "text": [
      "KNeighborsClassifier(n_neighbors=10, weights='distance')\n",
      "              precision    recall  f1-score   support\n",
      "\n",
      "       akiec       1.00      1.00      1.00      1359\n",
      "         bcc       0.99      1.00      1.00      1318\n",
      "         bkl       0.96      1.00      0.98      1262\n",
      "          df       1.00      1.00      1.00      1351\n",
      "          nv       1.00      0.92      0.96      1374\n",
      "        vasc       1.00      1.00      1.00      1358\n",
      "         mel       0.96      1.00      0.98      1365\n",
      "\n",
      "    accuracy                           0.99      9387\n",
      "   macro avg       0.99      0.99      0.99      9387\n",
      "weighted avg       0.99      0.99      0.99      9387\n",
      "\n",
      "Accuracy Score: 98.68967721316714\n"
     ]
    }
   ],
   "source": [
    "y_testKNN = kgclf.predict(X_test_cnn)\n",
    "KNNclf = kgclf.best_estimator_\n",
    "print(KNNclf)\n",
    "from sklearn.metrics import confusion_matrix, classification_report, accuracy_score\n",
    "\n",
    "print(classification_report(Y_test, y_testKNN,target_names=target_names))\n",
    "print(\"Accuracy Score: {0}\".format(accuracy_score(Y_test, y_testKNN)*100))"
   ]
  },
  {
   "cell_type": "markdown",
   "id": "cd392e49",
   "metadata": {
    "papermill": {
     "duration": 0.102604,
     "end_time": "2023-03-10T04:39:09.354430",
     "exception": false,
     "start_time": "2023-03-10T04:39:09.251826",
     "status": "completed"
    },
    "tags": []
   },
   "source": [
    "## Integrating CNN with Logistic Regression Classifier using Grid Search for Best Perameters"
   ]
  },
  {
   "cell_type": "code",
   "execution_count": 44,
   "id": "1b3a36c0",
   "metadata": {
    "execution": {
     "iopub.execute_input": "2023-03-10T04:39:09.590496Z",
     "iopub.status.busy": "2023-03-10T04:39:09.589471Z",
     "iopub.status.idle": "2023-03-10T04:39:55.046670Z",
     "shell.execute_reply": "2023-03-10T04:39:55.045243Z"
    },
    "papermill": {
     "duration": 45.576508,
     "end_time": "2023-03-10T04:39:55.050677",
     "exception": false,
     "start_time": "2023-03-10T04:39:09.474169",
     "status": "completed"
    },
    "tags": []
   },
   "outputs": [
    {
     "name": "stderr",
     "output_type": "stream",
     "text": [
      "/opt/conda/lib/python3.7/site-packages/sklearn/linear_model/_logistic.py:818: ConvergenceWarning: lbfgs failed to converge (status=1):\n",
      "STOP: TOTAL NO. of ITERATIONS REACHED LIMIT.\n",
      "\n",
      "Increase the number of iterations (max_iter) or scale the data as shown in:\n",
      "    https://scikit-learn.org/stable/modules/preprocessing.html\n",
      "Please also refer to the documentation for alternative solver options:\n",
      "    https://scikit-learn.org/stable/modules/linear_model.html#logistic-regression\n",
      "  extra_warning_msg=_LOGISTIC_SOLVER_CONVERGENCE_MSG,\n",
      "/opt/conda/lib/python3.7/site-packages/sklearn/linear_model/_logistic.py:818: ConvergenceWarning: lbfgs failed to converge (status=1):\n",
      "STOP: TOTAL NO. of ITERATIONS REACHED LIMIT.\n",
      "\n",
      "Increase the number of iterations (max_iter) or scale the data as shown in:\n",
      "    https://scikit-learn.org/stable/modules/preprocessing.html\n",
      "Please also refer to the documentation for alternative solver options:\n",
      "    https://scikit-learn.org/stable/modules/linear_model.html#logistic-regression\n",
      "  extra_warning_msg=_LOGISTIC_SOLVER_CONVERGENCE_MSG,\n",
      "/opt/conda/lib/python3.7/site-packages/sklearn/linear_model/_logistic.py:818: ConvergenceWarning: lbfgs failed to converge (status=1):\n",
      "STOP: TOTAL NO. of ITERATIONS REACHED LIMIT.\n",
      "\n",
      "Increase the number of iterations (max_iter) or scale the data as shown in:\n",
      "    https://scikit-learn.org/stable/modules/preprocessing.html\n",
      "Please also refer to the documentation for alternative solver options:\n",
      "    https://scikit-learn.org/stable/modules/linear_model.html#logistic-regression\n",
      "  extra_warning_msg=_LOGISTIC_SOLVER_CONVERGENCE_MSG,\n",
      "/opt/conda/lib/python3.7/site-packages/sklearn/linear_model/_logistic.py:818: ConvergenceWarning: lbfgs failed to converge (status=1):\n",
      "STOP: TOTAL NO. of ITERATIONS REACHED LIMIT.\n",
      "\n",
      "Increase the number of iterations (max_iter) or scale the data as shown in:\n",
      "    https://scikit-learn.org/stable/modules/preprocessing.html\n",
      "Please also refer to the documentation for alternative solver options:\n",
      "    https://scikit-learn.org/stable/modules/linear_model.html#logistic-regression\n",
      "  extra_warning_msg=_LOGISTIC_SOLVER_CONVERGENCE_MSG,\n",
      "/opt/conda/lib/python3.7/site-packages/sklearn/linear_model/_logistic.py:818: ConvergenceWarning: lbfgs failed to converge (status=1):\n",
      "STOP: TOTAL NO. of ITERATIONS REACHED LIMIT.\n",
      "\n",
      "Increase the number of iterations (max_iter) or scale the data as shown in:\n",
      "    https://scikit-learn.org/stable/modules/preprocessing.html\n",
      "Please also refer to the documentation for alternative solver options:\n",
      "    https://scikit-learn.org/stable/modules/linear_model.html#logistic-regression\n",
      "  extra_warning_msg=_LOGISTIC_SOLVER_CONVERGENCE_MSG,\n",
      "/opt/conda/lib/python3.7/site-packages/sklearn/linear_model/_logistic.py:818: ConvergenceWarning: lbfgs failed to converge (status=1):\n",
      "STOP: TOTAL NO. of ITERATIONS REACHED LIMIT.\n",
      "\n",
      "Increase the number of iterations (max_iter) or scale the data as shown in:\n",
      "    https://scikit-learn.org/stable/modules/preprocessing.html\n",
      "Please also refer to the documentation for alternative solver options:\n",
      "    https://scikit-learn.org/stable/modules/linear_model.html#logistic-regression\n",
      "  extra_warning_msg=_LOGISTIC_SOLVER_CONVERGENCE_MSG,\n",
      "/opt/conda/lib/python3.7/site-packages/sklearn/linear_model/_logistic.py:818: ConvergenceWarning: lbfgs failed to converge (status=1):\n",
      "STOP: TOTAL NO. of ITERATIONS REACHED LIMIT.\n",
      "\n",
      "Increase the number of iterations (max_iter) or scale the data as shown in:\n",
      "    https://scikit-learn.org/stable/modules/preprocessing.html\n",
      "Please also refer to the documentation for alternative solver options:\n",
      "    https://scikit-learn.org/stable/modules/linear_model.html#logistic-regression\n",
      "  extra_warning_msg=_LOGISTIC_SOLVER_CONVERGENCE_MSG,\n",
      "/opt/conda/lib/python3.7/site-packages/sklearn/linear_model/_logistic.py:818: ConvergenceWarning: lbfgs failed to converge (status=1):\n",
      "STOP: TOTAL NO. of ITERATIONS REACHED LIMIT.\n",
      "\n",
      "Increase the number of iterations (max_iter) or scale the data as shown in:\n",
      "    https://scikit-learn.org/stable/modules/preprocessing.html\n",
      "Please also refer to the documentation for alternative solver options:\n",
      "    https://scikit-learn.org/stable/modules/linear_model.html#logistic-regression\n",
      "  extra_warning_msg=_LOGISTIC_SOLVER_CONVERGENCE_MSG,\n",
      "/opt/conda/lib/python3.7/site-packages/sklearn/linear_model/_logistic.py:818: ConvergenceWarning: lbfgs failed to converge (status=1):\n",
      "STOP: TOTAL NO. of ITERATIONS REACHED LIMIT.\n",
      "\n",
      "Increase the number of iterations (max_iter) or scale the data as shown in:\n",
      "    https://scikit-learn.org/stable/modules/preprocessing.html\n",
      "Please also refer to the documentation for alternative solver options:\n",
      "    https://scikit-learn.org/stable/modules/linear_model.html#logistic-regression\n",
      "  extra_warning_msg=_LOGISTIC_SOLVER_CONVERGENCE_MSG,\n",
      "/opt/conda/lib/python3.7/site-packages/sklearn/linear_model/_logistic.py:818: ConvergenceWarning: lbfgs failed to converge (status=1):\n",
      "STOP: TOTAL NO. of ITERATIONS REACHED LIMIT.\n",
      "\n",
      "Increase the number of iterations (max_iter) or scale the data as shown in:\n",
      "    https://scikit-learn.org/stable/modules/preprocessing.html\n",
      "Please also refer to the documentation for alternative solver options:\n",
      "    https://scikit-learn.org/stable/modules/linear_model.html#logistic-regression\n",
      "  extra_warning_msg=_LOGISTIC_SOLVER_CONVERGENCE_MSG,\n",
      "/opt/conda/lib/python3.7/site-packages/sklearn/linear_model/_logistic.py:818: ConvergenceWarning: lbfgs failed to converge (status=1):\n",
      "STOP: TOTAL NO. of ITERATIONS REACHED LIMIT.\n",
      "\n",
      "Increase the number of iterations (max_iter) or scale the data as shown in:\n",
      "    https://scikit-learn.org/stable/modules/preprocessing.html\n",
      "Please also refer to the documentation for alternative solver options:\n",
      "    https://scikit-learn.org/stable/modules/linear_model.html#logistic-regression\n",
      "  extra_warning_msg=_LOGISTIC_SOLVER_CONVERGENCE_MSG,\n",
      "/opt/conda/lib/python3.7/site-packages/sklearn/linear_model/_logistic.py:818: ConvergenceWarning: lbfgs failed to converge (status=1):\n",
      "STOP: TOTAL NO. of ITERATIONS REACHED LIMIT.\n",
      "\n",
      "Increase the number of iterations (max_iter) or scale the data as shown in:\n",
      "    https://scikit-learn.org/stable/modules/preprocessing.html\n",
      "Please also refer to the documentation for alternative solver options:\n",
      "    https://scikit-learn.org/stable/modules/linear_model.html#logistic-regression\n",
      "  extra_warning_msg=_LOGISTIC_SOLVER_CONVERGENCE_MSG,\n",
      "/opt/conda/lib/python3.7/site-packages/sklearn/linear_model/_logistic.py:818: ConvergenceWarning: lbfgs failed to converge (status=1):\n",
      "STOP: TOTAL NO. of ITERATIONS REACHED LIMIT.\n",
      "\n",
      "Increase the number of iterations (max_iter) or scale the data as shown in:\n",
      "    https://scikit-learn.org/stable/modules/preprocessing.html\n",
      "Please also refer to the documentation for alternative solver options:\n",
      "    https://scikit-learn.org/stable/modules/linear_model.html#logistic-regression\n",
      "  extra_warning_msg=_LOGISTIC_SOLVER_CONVERGENCE_MSG,\n",
      "/opt/conda/lib/python3.7/site-packages/sklearn/linear_model/_logistic.py:818: ConvergenceWarning: lbfgs failed to converge (status=1):\n",
      "STOP: TOTAL NO. of ITERATIONS REACHED LIMIT.\n",
      "\n",
      "Increase the number of iterations (max_iter) or scale the data as shown in:\n",
      "    https://scikit-learn.org/stable/modules/preprocessing.html\n",
      "Please also refer to the documentation for alternative solver options:\n",
      "    https://scikit-learn.org/stable/modules/linear_model.html#logistic-regression\n",
      "  extra_warning_msg=_LOGISTIC_SOLVER_CONVERGENCE_MSG,\n",
      "/opt/conda/lib/python3.7/site-packages/sklearn/model_selection/_validation.py:372: FitFailedWarning: \n",
      "30 fits failed out of a total of 60.\n",
      "The score on these train-test partitions for these parameters will be set to nan.\n",
      "If these failures are not expected, you can try to debug them by setting error_score='raise'.\n",
      "\n",
      "Below are more details about the failures:\n",
      "--------------------------------------------------------------------------------\n",
      "30 fits failed with the following error:\n",
      "Traceback (most recent call last):\n",
      "  File \"/opt/conda/lib/python3.7/site-packages/sklearn/model_selection/_validation.py\", line 680, in _fit_and_score\n",
      "    estimator.fit(X_train, y_train, **fit_params)\n",
      "  File \"/opt/conda/lib/python3.7/site-packages/sklearn/linear_model/_logistic.py\", line 1461, in fit\n",
      "    solver = _check_solver(self.solver, self.penalty, self.dual)\n",
      "  File \"/opt/conda/lib/python3.7/site-packages/sklearn/linear_model/_logistic.py\", line 449, in _check_solver\n",
      "    % (solver, penalty)\n",
      "ValueError: Solver lbfgs supports only 'l2' or 'none' penalties, got l1 penalty.\n",
      "\n",
      "  warnings.warn(some_fits_failed_message, FitFailedWarning)\n",
      "/opt/conda/lib/python3.7/site-packages/sklearn/model_selection/_search.py:972: UserWarning: One or more of the test scores are non-finite: [       nan 0.99621788        nan 0.99637768        nan 0.99637768\n",
      "        nan 0.99640432        nan 0.99643095        nan 0.99643095]\n",
      "  category=UserWarning,\n"
     ]
    },
    {
     "name": "stdout",
     "output_type": "stream",
     "text": [
      "Best hyperparameters:  {'C': 10, 'penalty': 'l2'}\n",
      "              precision    recall  f1-score   support\n",
      "\n",
      "       akiec       1.00      1.00      1.00      1359\n",
      "         bcc       0.99      1.00      1.00      1318\n",
      "         bkl       0.97      0.99      0.98      1262\n",
      "          df       1.00      1.00      1.00      1351\n",
      "          nv       0.98      0.92      0.95      1374\n",
      "        vasc       1.00      1.00      1.00      1358\n",
      "         mel       0.96      0.99      0.97      1365\n",
      "\n",
      "    accuracy                           0.99      9387\n",
      "   macro avg       0.99      0.99      0.99      9387\n",
      "weighted avg       0.99      0.99      0.99      9387\n",
      "\n",
      "Accuracy: 98.51922872057101\n"
     ]
    },
    {
     "name": "stderr",
     "output_type": "stream",
     "text": [
      "/opt/conda/lib/python3.7/site-packages/sklearn/linear_model/_logistic.py:818: ConvergenceWarning: lbfgs failed to converge (status=1):\n",
      "STOP: TOTAL NO. of ITERATIONS REACHED LIMIT.\n",
      "\n",
      "Increase the number of iterations (max_iter) or scale the data as shown in:\n",
      "    https://scikit-learn.org/stable/modules/preprocessing.html\n",
      "Please also refer to the documentation for alternative solver options:\n",
      "    https://scikit-learn.org/stable/modules/linear_model.html#logistic-regression\n",
      "  extra_warning_msg=_LOGISTIC_SOLVER_CONVERGENCE_MSG,\n"
     ]
    }
   ],
   "source": [
    "from sklearn.linear_model import LogisticRegression\n",
    "from sklearn.model_selection import GridSearchCV\n",
    "from sklearn.metrics import accuracy_score\n",
    "from sklearn.metrics import confusion_matrix, classification_report, accuracy_score\n",
    "\n",
    "\n",
    "\n",
    "# Create a logistic regression object\n",
    "lr = LogisticRegression()\n",
    "\n",
    "# Define the hyperparameter grid to search over\n",
    "param_grid = {'C': [0.001, 0.01, 0.1, 1, 10, 100], \n",
    "              'penalty': ['l1', 'l2']}\n",
    "\n",
    "# Perform grid search with 5-fold cross-validation\n",
    "grid_search_LR = GridSearchCV(lr, param_grid, cv=5)\n",
    "grid_search_LR.fit(X_train_cnn, Y_train)\n",
    "\n",
    "# Print the best hyperparameters and the corresponding accuracy score\n",
    "print(\"Best hyperparameters: \", grid_search_LR.best_params_)\n",
    "y_test_LR = grid_search_LR.predict(X_test_cnn)\n",
    "\n",
    "print(classification_report(Y_test, y_test_LR,target_names=target_names))\n",
    "print(\"Accuracy: {0}\".format(accuracy_score(Y_test, y_test_LR)*100))\n"
   ]
  },
  {
   "cell_type": "code",
   "execution_count": null,
   "id": "6d507eb9",
   "metadata": {
    "papermill": {
     "duration": 0.104373,
     "end_time": "2023-03-10T04:39:55.313852",
     "exception": false,
     "start_time": "2023-03-10T04:39:55.209479",
     "status": "completed"
    },
    "tags": []
   },
   "outputs": [],
   "source": []
  },
  {
   "cell_type": "code",
   "execution_count": null,
   "id": "9b509202",
   "metadata": {
    "papermill": {
     "duration": 0.103583,
     "end_time": "2023-03-10T04:39:55.521572",
     "exception": false,
     "start_time": "2023-03-10T04:39:55.417989",
     "status": "completed"
    },
    "tags": []
   },
   "outputs": [],
   "source": []
  },
  {
   "cell_type": "code",
   "execution_count": null,
   "id": "52cc586d",
   "metadata": {
    "papermill": {
     "duration": 0.104085,
     "end_time": "2023-03-10T04:39:55.729698",
     "exception": false,
     "start_time": "2023-03-10T04:39:55.625613",
     "status": "completed"
    },
    "tags": []
   },
   "outputs": [],
   "source": []
  },
  {
   "cell_type": "code",
   "execution_count": null,
   "id": "d34347e8",
   "metadata": {
    "papermill": {
     "duration": 0.104327,
     "end_time": "2023-03-10T04:39:55.938390",
     "exception": false,
     "start_time": "2023-03-10T04:39:55.834063",
     "status": "completed"
    },
    "tags": []
   },
   "outputs": [],
   "source": []
  }
 ],
 "metadata": {
  "kernelspec": {
   "display_name": "Python 3",
   "language": "python",
   "name": "python3"
  },
  "language_info": {
   "codemirror_mode": {
    "name": "ipython",
    "version": 3
   },
   "file_extension": ".py",
   "mimetype": "text/x-python",
   "name": "python",
   "nbconvert_exporter": "python",
   "pygments_lexer": "ipython3",
   "version": "3.7.12"
  },
  "papermill": {
   "default_parameters": {},
   "duration": 3991.989763,
   "end_time": "2023-03-10T04:39:59.855514",
   "environment_variables": {},
   "exception": null,
   "input_path": "__notebook__.ipynb",
   "output_path": "__notebook__.ipynb",
   "parameters": {},
   "start_time": "2023-03-10T03:33:27.865751",
   "version": "2.4.0"
  }
 },
 "nbformat": 4,
 "nbformat_minor": 5
}
