{
 "cells": [
  {
   "cell_type": "code",
   "execution_count": null,
   "id": "445e85e5",
   "metadata": {
    "papermill": {
     "duration": 0.011929,
     "end_time": "2023-03-08T17:18:27.538370",
     "exception": false,
     "start_time": "2023-03-08T17:18:27.526441",
     "status": "completed"
    },
    "tags": []
   },
   "outputs": [],
   "source": []
  },
  {
   "cell_type": "markdown",
   "id": "1d65499b",
   "metadata": {
    "papermill": {
     "duration": 0.010981,
     "end_time": "2023-03-08T17:18:27.560366",
     "exception": false,
     "start_time": "2023-03-08T17:18:27.549385",
     "status": "completed"
    },
    "tags": []
   },
   "source": [
    "## Dataset Overview\n",
    "HAM10000 (\"Human Against Machine with 10000 training images\") dataset - a large collection of multi-source dermatoscopic images of pigmented lesions\n",
    "\n",
    "The dermatoscopic images are collected from different populations, acquired and stored by different modalities. The final dataset consists of 10015 dermatoscopic images.\n",
    "\n",
    "It has 7 different classes of skin cancer which are listed below :\n",
    "- Melanocytic nevi\n",
    "- Melanoma\n",
    "- Benign keratosis-like lesions\n",
    "- Basal cell carcinoma\n",
    "- Actinic keratoses\n",
    "- Vascular lesions\n",
    "- Dermatofibroma "
   ]
  },
  {
   "cell_type": "markdown",
   "id": "4a60e4b5",
   "metadata": {
    "papermill": {
     "duration": 0.010715,
     "end_time": "2023-03-08T17:18:27.581536",
     "exception": false,
     "start_time": "2023-03-08T17:18:27.570821",
     "status": "completed"
    },
    "tags": []
   },
   "source": [
    "## Importing libraries"
   ]
  },
  {
   "cell_type": "code",
   "execution_count": 1,
   "id": "291de369",
   "metadata": {
    "_cell_guid": "b1076dfc-b9ad-4769-8c92-a6c4dae69d19",
    "_uuid": "8f2839f25d086af736a60e9eeb907d3b93b6e0e5",
    "execution": {
     "iopub.execute_input": "2023-03-08T17:18:27.605996Z",
     "iopub.status.busy": "2023-03-08T17:18:27.605125Z",
     "iopub.status.idle": "2023-03-08T17:18:35.387808Z",
     "shell.execute_reply": "2023-03-08T17:18:35.386481Z"
    },
    "papermill": {
     "duration": 7.79854,
     "end_time": "2023-03-08T17:18:35.390956",
     "exception": false,
     "start_time": "2023-03-08T17:18:27.592416",
     "status": "completed"
    },
    "tags": []
   },
   "outputs": [],
   "source": [
    "import seaborn as sns\n",
    "import pandas as pd\n",
    "import matplotlib.pyplot as plt\n",
    "from imblearn.over_sampling import RandomOverSampler \n",
    "import numpy as np\n",
    "from sklearn.model_selection import train_test_split\n",
    "import os, cv2\n",
    "import tensorflow as tf\n",
    "from tensorflow.keras.models import Sequential\n",
    "from tensorflow.keras.layers import Conv2D, Flatten, Dense, MaxPool2D, Activation\n",
    "from sklearn.metrics import classification_report, accuracy_score\n"
   ]
  },
  {
   "cell_type": "markdown",
   "id": "15dfdaed",
   "metadata": {
    "papermill": {
     "duration": 0.012829,
     "end_time": "2023-03-08T17:18:35.417484",
     "exception": false,
     "start_time": "2023-03-08T17:18:35.404655",
     "status": "completed"
    },
    "tags": []
   },
   "source": [
    "## Reading the Data"
   ]
  },
  {
   "cell_type": "code",
   "execution_count": 2,
   "id": "8acbc3d7",
   "metadata": {
    "execution": {
     "iopub.execute_input": "2023-03-08T17:18:35.444545Z",
     "iopub.status.busy": "2023-03-08T17:18:35.443326Z",
     "iopub.status.idle": "2023-03-08T17:18:39.259876Z",
     "shell.execute_reply": "2023-03-08T17:18:39.258917Z"
    },
    "papermill": {
     "duration": 3.832565,
     "end_time": "2023-03-08T17:18:39.262392",
     "exception": false,
     "start_time": "2023-03-08T17:18:35.429827",
     "status": "completed"
    },
    "tags": []
   },
   "outputs": [
    {
     "data": {
      "text/html": [
       "<div>\n",
       "<style scoped>\n",
       "    .dataframe tbody tr th:only-of-type {\n",
       "        vertical-align: middle;\n",
       "    }\n",
       "\n",
       "    .dataframe tbody tr th {\n",
       "        vertical-align: top;\n",
       "    }\n",
       "\n",
       "    .dataframe thead th {\n",
       "        text-align: right;\n",
       "    }\n",
       "</style>\n",
       "<table border=\"1\" class=\"dataframe\">\n",
       "  <thead>\n",
       "    <tr style=\"text-align: right;\">\n",
       "      <th></th>\n",
       "      <th>pixel0000</th>\n",
       "      <th>pixel0001</th>\n",
       "      <th>pixel0002</th>\n",
       "      <th>pixel0003</th>\n",
       "      <th>pixel0004</th>\n",
       "      <th>pixel0005</th>\n",
       "      <th>pixel0006</th>\n",
       "      <th>pixel0007</th>\n",
       "      <th>pixel0008</th>\n",
       "      <th>pixel0009</th>\n",
       "      <th>...</th>\n",
       "      <th>pixel2343</th>\n",
       "      <th>pixel2344</th>\n",
       "      <th>pixel2345</th>\n",
       "      <th>pixel2346</th>\n",
       "      <th>pixel2347</th>\n",
       "      <th>pixel2348</th>\n",
       "      <th>pixel2349</th>\n",
       "      <th>pixel2350</th>\n",
       "      <th>pixel2351</th>\n",
       "      <th>label</th>\n",
       "    </tr>\n",
       "  </thead>\n",
       "  <tbody>\n",
       "    <tr>\n",
       "      <th>0</th>\n",
       "      <td>192</td>\n",
       "      <td>153</td>\n",
       "      <td>193</td>\n",
       "      <td>195</td>\n",
       "      <td>155</td>\n",
       "      <td>192</td>\n",
       "      <td>197</td>\n",
       "      <td>154</td>\n",
       "      <td>185</td>\n",
       "      <td>202</td>\n",
       "      <td>...</td>\n",
       "      <td>173</td>\n",
       "      <td>124</td>\n",
       "      <td>138</td>\n",
       "      <td>183</td>\n",
       "      <td>147</td>\n",
       "      <td>166</td>\n",
       "      <td>185</td>\n",
       "      <td>154</td>\n",
       "      <td>177</td>\n",
       "      <td>2</td>\n",
       "    </tr>\n",
       "    <tr>\n",
       "      <th>1</th>\n",
       "      <td>25</td>\n",
       "      <td>14</td>\n",
       "      <td>30</td>\n",
       "      <td>68</td>\n",
       "      <td>48</td>\n",
       "      <td>75</td>\n",
       "      <td>123</td>\n",
       "      <td>93</td>\n",
       "      <td>126</td>\n",
       "      <td>158</td>\n",
       "      <td>...</td>\n",
       "      <td>60</td>\n",
       "      <td>39</td>\n",
       "      <td>55</td>\n",
       "      <td>25</td>\n",
       "      <td>14</td>\n",
       "      <td>28</td>\n",
       "      <td>25</td>\n",
       "      <td>14</td>\n",
       "      <td>27</td>\n",
       "      <td>2</td>\n",
       "    </tr>\n",
       "    <tr>\n",
       "      <th>2</th>\n",
       "      <td>192</td>\n",
       "      <td>138</td>\n",
       "      <td>153</td>\n",
       "      <td>200</td>\n",
       "      <td>145</td>\n",
       "      <td>163</td>\n",
       "      <td>201</td>\n",
       "      <td>142</td>\n",
       "      <td>160</td>\n",
       "      <td>206</td>\n",
       "      <td>...</td>\n",
       "      <td>167</td>\n",
       "      <td>129</td>\n",
       "      <td>143</td>\n",
       "      <td>159</td>\n",
       "      <td>124</td>\n",
       "      <td>142</td>\n",
       "      <td>136</td>\n",
       "      <td>104</td>\n",
       "      <td>117</td>\n",
       "      <td>2</td>\n",
       "    </tr>\n",
       "    <tr>\n",
       "      <th>3</th>\n",
       "      <td>38</td>\n",
       "      <td>19</td>\n",
       "      <td>30</td>\n",
       "      <td>95</td>\n",
       "      <td>59</td>\n",
       "      <td>72</td>\n",
       "      <td>143</td>\n",
       "      <td>103</td>\n",
       "      <td>119</td>\n",
       "      <td>171</td>\n",
       "      <td>...</td>\n",
       "      <td>44</td>\n",
       "      <td>26</td>\n",
       "      <td>36</td>\n",
       "      <td>25</td>\n",
       "      <td>12</td>\n",
       "      <td>17</td>\n",
       "      <td>25</td>\n",
       "      <td>12</td>\n",
       "      <td>15</td>\n",
       "      <td>2</td>\n",
       "    </tr>\n",
       "    <tr>\n",
       "      <th>4</th>\n",
       "      <td>158</td>\n",
       "      <td>113</td>\n",
       "      <td>139</td>\n",
       "      <td>194</td>\n",
       "      <td>144</td>\n",
       "      <td>174</td>\n",
       "      <td>215</td>\n",
       "      <td>162</td>\n",
       "      <td>191</td>\n",
       "      <td>225</td>\n",
       "      <td>...</td>\n",
       "      <td>209</td>\n",
       "      <td>166</td>\n",
       "      <td>185</td>\n",
       "      <td>172</td>\n",
       "      <td>135</td>\n",
       "      <td>149</td>\n",
       "      <td>109</td>\n",
       "      <td>78</td>\n",
       "      <td>92</td>\n",
       "      <td>2</td>\n",
       "    </tr>\n",
       "  </tbody>\n",
       "</table>\n",
       "<p>5 rows × 2353 columns</p>\n",
       "</div>"
      ],
      "text/plain": [
       "   pixel0000  pixel0001  pixel0002  pixel0003  pixel0004  pixel0005  \\\n",
       "0        192        153        193        195        155        192   \n",
       "1         25         14         30         68         48         75   \n",
       "2        192        138        153        200        145        163   \n",
       "3         38         19         30         95         59         72   \n",
       "4        158        113        139        194        144        174   \n",
       "\n",
       "   pixel0006  pixel0007  pixel0008  pixel0009  ...  pixel2343  pixel2344  \\\n",
       "0        197        154        185        202  ...        173        124   \n",
       "1        123         93        126        158  ...         60         39   \n",
       "2        201        142        160        206  ...        167        129   \n",
       "3        143        103        119        171  ...         44         26   \n",
       "4        215        162        191        225  ...        209        166   \n",
       "\n",
       "   pixel2345  pixel2346  pixel2347  pixel2348  pixel2349  pixel2350  \\\n",
       "0        138        183        147        166        185        154   \n",
       "1         55         25         14         28         25         14   \n",
       "2        143        159        124        142        136        104   \n",
       "3         36         25         12         17         25         12   \n",
       "4        185        172        135        149        109         78   \n",
       "\n",
       "   pixel2351  label  \n",
       "0        177      2  \n",
       "1         27      2  \n",
       "2        117      2  \n",
       "3         15      2  \n",
       "4         92      2  \n",
       "\n",
       "[5 rows x 2353 columns]"
      ]
     },
     "execution_count": 2,
     "metadata": {},
     "output_type": "execute_result"
    }
   ],
   "source": [
    "data = pd.read_csv('/kaggle/input/skin-cancer-mnist-ham10000/hmnist_28_28_RGB.csv')\n",
    "data.head()"
   ]
  },
  {
   "cell_type": "markdown",
   "id": "8e7b6920",
   "metadata": {
    "papermill": {
     "duration": 0.010785,
     "end_time": "2023-03-08T17:18:39.284381",
     "exception": false,
     "start_time": "2023-03-08T17:18:39.273596",
     "status": "completed"
    },
    "tags": []
   },
   "source": [
    "## Data Preprocessing\n",
    "## Data Cleaning"
   ]
  },
  {
   "cell_type": "code",
   "execution_count": 3,
   "id": "2f686193",
   "metadata": {
    "execution": {
     "iopub.execute_input": "2023-03-08T17:18:39.307343Z",
     "iopub.status.busy": "2023-03-08T17:18:39.307017Z",
     "iopub.status.idle": "2023-03-08T17:18:39.319058Z",
     "shell.execute_reply": "2023-03-08T17:18:39.317999Z"
    },
    "papermill": {
     "duration": 0.026541,
     "end_time": "2023-03-08T17:18:39.321530",
     "exception": false,
     "start_time": "2023-03-08T17:18:39.294989",
     "status": "completed"
    },
    "tags": []
   },
   "outputs": [
    {
     "data": {
      "text/plain": [
       "array([2, 4, 3, 6, 5, 1, 0])"
      ]
     },
     "execution_count": 3,
     "metadata": {},
     "output_type": "execute_result"
    }
   ],
   "source": [
    "data['label'].unique()"
   ]
  },
  {
   "cell_type": "code",
   "execution_count": 4,
   "id": "a57a3a98",
   "metadata": {
    "execution": {
     "iopub.execute_input": "2023-03-08T17:18:39.344342Z",
     "iopub.status.busy": "2023-03-08T17:18:39.344050Z",
     "iopub.status.idle": "2023-03-08T17:18:39.404831Z",
     "shell.execute_reply": "2023-03-08T17:18:39.403739Z"
    },
    "papermill": {
     "duration": 0.074812,
     "end_time": "2023-03-08T17:18:39.407020",
     "exception": false,
     "start_time": "2023-03-08T17:18:39.332208",
     "status": "completed"
    },
    "tags": []
   },
   "outputs": [],
   "source": [
    "y = data['label']\n",
    "x = data.drop(columns = ['label'])"
   ]
  },
  {
   "cell_type": "code",
   "execution_count": 5,
   "id": "53450048",
   "metadata": {
    "execution": {
     "iopub.execute_input": "2023-03-08T17:18:39.430849Z",
     "iopub.status.busy": "2023-03-08T17:18:39.430274Z",
     "iopub.status.idle": "2023-03-08T17:18:39.467517Z",
     "shell.execute_reply": "2023-03-08T17:18:39.466441Z"
    },
    "papermill": {
     "duration": 0.051704,
     "end_time": "2023-03-08T17:18:39.469768",
     "exception": false,
     "start_time": "2023-03-08T17:18:39.418064",
     "status": "completed"
    },
    "tags": []
   },
   "outputs": [
    {
     "data": {
      "text/plain": [
       "0"
      ]
     },
     "execution_count": 5,
     "metadata": {},
     "output_type": "execute_result"
    }
   ],
   "source": [
    "data.isnull().sum().sum() #no null values present"
   ]
  },
  {
   "cell_type": "code",
   "execution_count": 6,
   "id": "469618a0",
   "metadata": {
    "execution": {
     "iopub.execute_input": "2023-03-08T17:18:39.493026Z",
     "iopub.status.busy": "2023-03-08T17:18:39.492757Z",
     "iopub.status.idle": "2023-03-08T17:18:39.525904Z",
     "shell.execute_reply": "2023-03-08T17:18:39.524951Z"
    },
    "papermill": {
     "duration": 0.047347,
     "end_time": "2023-03-08T17:18:39.528170",
     "exception": false,
     "start_time": "2023-03-08T17:18:39.480823",
     "status": "completed"
    },
    "tags": []
   },
   "outputs": [
    {
     "data": {
      "text/html": [
       "<div>\n",
       "<style scoped>\n",
       "    .dataframe tbody tr th:only-of-type {\n",
       "        vertical-align: middle;\n",
       "    }\n",
       "\n",
       "    .dataframe tbody tr th {\n",
       "        vertical-align: top;\n",
       "    }\n",
       "\n",
       "    .dataframe thead th {\n",
       "        text-align: right;\n",
       "    }\n",
       "</style>\n",
       "<table border=\"1\" class=\"dataframe\">\n",
       "  <thead>\n",
       "    <tr style=\"text-align: right;\">\n",
       "      <th></th>\n",
       "      <th>lesion_id</th>\n",
       "      <th>image_id</th>\n",
       "      <th>dx</th>\n",
       "      <th>dx_type</th>\n",
       "      <th>age</th>\n",
       "      <th>sex</th>\n",
       "      <th>localization</th>\n",
       "    </tr>\n",
       "  </thead>\n",
       "  <tbody>\n",
       "    <tr>\n",
       "      <th>0</th>\n",
       "      <td>HAM_0000118</td>\n",
       "      <td>ISIC_0027419</td>\n",
       "      <td>bkl</td>\n",
       "      <td>histo</td>\n",
       "      <td>80.0</td>\n",
       "      <td>male</td>\n",
       "      <td>scalp</td>\n",
       "    </tr>\n",
       "    <tr>\n",
       "      <th>1</th>\n",
       "      <td>HAM_0000118</td>\n",
       "      <td>ISIC_0025030</td>\n",
       "      <td>bkl</td>\n",
       "      <td>histo</td>\n",
       "      <td>80.0</td>\n",
       "      <td>male</td>\n",
       "      <td>scalp</td>\n",
       "    </tr>\n",
       "    <tr>\n",
       "      <th>2</th>\n",
       "      <td>HAM_0002730</td>\n",
       "      <td>ISIC_0026769</td>\n",
       "      <td>bkl</td>\n",
       "      <td>histo</td>\n",
       "      <td>80.0</td>\n",
       "      <td>male</td>\n",
       "      <td>scalp</td>\n",
       "    </tr>\n",
       "    <tr>\n",
       "      <th>3</th>\n",
       "      <td>HAM_0002730</td>\n",
       "      <td>ISIC_0025661</td>\n",
       "      <td>bkl</td>\n",
       "      <td>histo</td>\n",
       "      <td>80.0</td>\n",
       "      <td>male</td>\n",
       "      <td>scalp</td>\n",
       "    </tr>\n",
       "    <tr>\n",
       "      <th>4</th>\n",
       "      <td>HAM_0001466</td>\n",
       "      <td>ISIC_0031633</td>\n",
       "      <td>bkl</td>\n",
       "      <td>histo</td>\n",
       "      <td>75.0</td>\n",
       "      <td>male</td>\n",
       "      <td>ear</td>\n",
       "    </tr>\n",
       "  </tbody>\n",
       "</table>\n",
       "</div>"
      ],
      "text/plain": [
       "     lesion_id      image_id   dx dx_type   age   sex localization\n",
       "0  HAM_0000118  ISIC_0027419  bkl   histo  80.0  male        scalp\n",
       "1  HAM_0000118  ISIC_0025030  bkl   histo  80.0  male        scalp\n",
       "2  HAM_0002730  ISIC_0026769  bkl   histo  80.0  male        scalp\n",
       "3  HAM_0002730  ISIC_0025661  bkl   histo  80.0  male        scalp\n",
       "4  HAM_0001466  ISIC_0031633  bkl   histo  75.0  male          ear"
      ]
     },
     "execution_count": 6,
     "metadata": {},
     "output_type": "execute_result"
    }
   ],
   "source": [
    "meta_data = pd.read_csv('/kaggle/input/skin-cancer-mnist-ham10000/HAM10000_metadata.csv')\n",
    "meta_data.head()"
   ]
  },
  {
   "cell_type": "code",
   "execution_count": 7,
   "id": "5a4cf613",
   "metadata": {
    "execution": {
     "iopub.execute_input": "2023-03-08T17:18:39.553221Z",
     "iopub.status.busy": "2023-03-08T17:18:39.552939Z",
     "iopub.status.idle": "2023-03-08T17:18:39.559897Z",
     "shell.execute_reply": "2023-03-08T17:18:39.558838Z"
    },
    "papermill": {
     "duration": 0.0226,
     "end_time": "2023-03-08T17:18:39.563281",
     "exception": false,
     "start_time": "2023-03-08T17:18:39.540681",
     "status": "completed"
    },
    "tags": []
   },
   "outputs": [
    {
     "data": {
      "text/plain": [
       "array(['bkl', 'nv', 'df', 'mel', 'vasc', 'bcc', 'akiec'], dtype=object)"
      ]
     },
     "execution_count": 7,
     "metadata": {},
     "output_type": "execute_result"
    }
   ],
   "source": [
    "meta_data['dx'].unique()"
   ]
  },
  {
   "cell_type": "code",
   "execution_count": 8,
   "id": "2d360328",
   "metadata": {
    "execution": {
     "iopub.execute_input": "2023-03-08T17:18:39.586907Z",
     "iopub.status.busy": "2023-03-08T17:18:39.586642Z",
     "iopub.status.idle": "2023-03-08T17:18:39.647360Z",
     "shell.execute_reply": "2023-03-08T17:18:39.646359Z"
    },
    "papermill": {
     "duration": 0.075145,
     "end_time": "2023-03-08T17:18:39.649573",
     "exception": false,
     "start_time": "2023-03-08T17:18:39.574428",
     "status": "completed"
    },
    "tags": []
   },
   "outputs": [],
   "source": [
    "y = data['label']\n",
    "x = data.drop(columns = ['label'])"
   ]
  },
  {
   "cell_type": "code",
   "execution_count": 9,
   "id": "6aae1cf3",
   "metadata": {
    "execution": {
     "iopub.execute_input": "2023-03-08T17:18:39.674052Z",
     "iopub.status.busy": "2023-03-08T17:18:39.673363Z",
     "iopub.status.idle": "2023-03-08T17:18:39.710423Z",
     "shell.execute_reply": "2023-03-08T17:18:39.709337Z"
    },
    "papermill": {
     "duration": 0.051535,
     "end_time": "2023-03-08T17:18:39.712731",
     "exception": false,
     "start_time": "2023-03-08T17:18:39.661196",
     "status": "completed"
    },
    "tags": []
   },
   "outputs": [
    {
     "data": {
      "text/plain": [
       "0"
      ]
     },
     "execution_count": 9,
     "metadata": {},
     "output_type": "execute_result"
    }
   ],
   "source": [
    "data.isnull().sum().sum() #no null values present"
   ]
  },
  {
   "cell_type": "code",
   "execution_count": 10,
   "id": "e982a35f",
   "metadata": {
    "execution": {
     "iopub.execute_input": "2023-03-08T17:18:39.736935Z",
     "iopub.status.busy": "2023-03-08T17:18:39.736650Z",
     "iopub.status.idle": "2023-03-08T17:18:39.761154Z",
     "shell.execute_reply": "2023-03-08T17:18:39.759832Z"
    },
    "papermill": {
     "duration": 0.03911,
     "end_time": "2023-03-08T17:18:39.763551",
     "exception": false,
     "start_time": "2023-03-08T17:18:39.724441",
     "status": "completed"
    },
    "tags": []
   },
   "outputs": [
    {
     "data": {
      "text/html": [
       "<div>\n",
       "<style scoped>\n",
       "    .dataframe tbody tr th:only-of-type {\n",
       "        vertical-align: middle;\n",
       "    }\n",
       "\n",
       "    .dataframe tbody tr th {\n",
       "        vertical-align: top;\n",
       "    }\n",
       "\n",
       "    .dataframe thead th {\n",
       "        text-align: right;\n",
       "    }\n",
       "</style>\n",
       "<table border=\"1\" class=\"dataframe\">\n",
       "  <thead>\n",
       "    <tr style=\"text-align: right;\">\n",
       "      <th></th>\n",
       "      <th>lesion_id</th>\n",
       "      <th>image_id</th>\n",
       "      <th>dx</th>\n",
       "      <th>dx_type</th>\n",
       "      <th>age</th>\n",
       "      <th>sex</th>\n",
       "      <th>localization</th>\n",
       "    </tr>\n",
       "  </thead>\n",
       "  <tbody>\n",
       "    <tr>\n",
       "      <th>0</th>\n",
       "      <td>HAM_0000118</td>\n",
       "      <td>ISIC_0027419</td>\n",
       "      <td>bkl</td>\n",
       "      <td>histo</td>\n",
       "      <td>80.0</td>\n",
       "      <td>male</td>\n",
       "      <td>scalp</td>\n",
       "    </tr>\n",
       "    <tr>\n",
       "      <th>1</th>\n",
       "      <td>HAM_0000118</td>\n",
       "      <td>ISIC_0025030</td>\n",
       "      <td>bkl</td>\n",
       "      <td>histo</td>\n",
       "      <td>80.0</td>\n",
       "      <td>male</td>\n",
       "      <td>scalp</td>\n",
       "    </tr>\n",
       "    <tr>\n",
       "      <th>2</th>\n",
       "      <td>HAM_0002730</td>\n",
       "      <td>ISIC_0026769</td>\n",
       "      <td>bkl</td>\n",
       "      <td>histo</td>\n",
       "      <td>80.0</td>\n",
       "      <td>male</td>\n",
       "      <td>scalp</td>\n",
       "    </tr>\n",
       "    <tr>\n",
       "      <th>3</th>\n",
       "      <td>HAM_0002730</td>\n",
       "      <td>ISIC_0025661</td>\n",
       "      <td>bkl</td>\n",
       "      <td>histo</td>\n",
       "      <td>80.0</td>\n",
       "      <td>male</td>\n",
       "      <td>scalp</td>\n",
       "    </tr>\n",
       "    <tr>\n",
       "      <th>4</th>\n",
       "      <td>HAM_0001466</td>\n",
       "      <td>ISIC_0031633</td>\n",
       "      <td>bkl</td>\n",
       "      <td>histo</td>\n",
       "      <td>75.0</td>\n",
       "      <td>male</td>\n",
       "      <td>ear</td>\n",
       "    </tr>\n",
       "  </tbody>\n",
       "</table>\n",
       "</div>"
      ],
      "text/plain": [
       "     lesion_id      image_id   dx dx_type   age   sex localization\n",
       "0  HAM_0000118  ISIC_0027419  bkl   histo  80.0  male        scalp\n",
       "1  HAM_0000118  ISIC_0025030  bkl   histo  80.0  male        scalp\n",
       "2  HAM_0002730  ISIC_0026769  bkl   histo  80.0  male        scalp\n",
       "3  HAM_0002730  ISIC_0025661  bkl   histo  80.0  male        scalp\n",
       "4  HAM_0001466  ISIC_0031633  bkl   histo  75.0  male          ear"
      ]
     },
     "execution_count": 10,
     "metadata": {},
     "output_type": "execute_result"
    }
   ],
   "source": [
    "meta_data = pd.read_csv('/kaggle/input/skin-cancer-mnist-ham10000/HAM10000_metadata.csv')\n",
    "meta_data.head()"
   ]
  },
  {
   "cell_type": "code",
   "execution_count": 11,
   "id": "7262788c",
   "metadata": {
    "execution": {
     "iopub.execute_input": "2023-03-08T17:18:39.788793Z",
     "iopub.status.busy": "2023-03-08T17:18:39.788485Z",
     "iopub.status.idle": "2023-03-08T17:18:39.796199Z",
     "shell.execute_reply": "2023-03-08T17:18:39.795168Z"
    },
    "papermill": {
     "duration": 0.022918,
     "end_time": "2023-03-08T17:18:39.798352",
     "exception": false,
     "start_time": "2023-03-08T17:18:39.775434",
     "status": "completed"
    },
    "tags": []
   },
   "outputs": [
    {
     "data": {
      "text/plain": [
       "array(['bkl', 'nv', 'df', 'mel', 'vasc', 'bcc', 'akiec'], dtype=object)"
      ]
     },
     "execution_count": 11,
     "metadata": {},
     "output_type": "execute_result"
    }
   ],
   "source": [
    "meta_data['dx'].unique()"
   ]
  },
  {
   "cell_type": "markdown",
   "id": "419ccbfc",
   "metadata": {
    "papermill": {
     "duration": 0.011558,
     "end_time": "2023-03-08T17:18:39.821651",
     "exception": false,
     "start_time": "2023-03-08T17:18:39.810093",
     "status": "completed"
    },
    "tags": []
   },
   "source": [
    "## Exploratory Data Analysis"
   ]
  },
  {
   "cell_type": "code",
   "execution_count": 12,
   "id": "938d182a",
   "metadata": {
    "execution": {
     "iopub.execute_input": "2023-03-08T17:18:39.846331Z",
     "iopub.status.busy": "2023-03-08T17:18:39.846005Z",
     "iopub.status.idle": "2023-03-08T17:18:40.198359Z",
     "shell.execute_reply": "2023-03-08T17:18:40.197408Z"
    },
    "papermill": {
     "duration": 0.368117,
     "end_time": "2023-03-08T17:18:40.201377",
     "exception": false,
     "start_time": "2023-03-08T17:18:39.833260",
     "status": "completed"
    },
    "tags": []
   },
   "outputs": [
    {
     "data": {
      "text/plain": [
       "Text(0.5, 1.0, 'Frequency Distribution of Classes')"
      ]
     },
     "execution_count": 12,
     "metadata": {},
     "output_type": "execute_result"
    },
    {
     "data": {
      "image/png": "[encoded data removed]",
      "text/plain": [
       "<Figure size 640x480 with 1 Axes>"
      ]
     },
     "metadata": {},
     "output_type": "display_data"
    }
   ],
   "source": [
    "sns.countplot(x = 'dx', data = meta_data)\n",
    "plt.xlabel('Disease(Classes)', size=12)\n",
    "plt.ylabel('Frequency', size=12)\n",
    "plt.title('Frequency Distribution of Classes')\n"
   ]
  },
  {
   "cell_type": "code",
   "execution_count": 13,
   "id": "e066b2ee",
   "metadata": {
    "execution": {
     "iopub.execute_input": "2023-03-08T17:18:40.239714Z",
     "iopub.status.busy": "2023-03-08T17:18:40.239379Z",
     "iopub.status.idle": "2023-03-08T17:18:40.493568Z",
     "shell.execute_reply": "2023-03-08T17:18:40.492463Z"
    },
    "papermill": {
     "duration": 0.275926,
     "end_time": "2023-03-08T17:18:40.496600",
     "exception": false,
     "start_time": "2023-03-08T17:18:40.220674",
     "status": "completed"
    },
    "tags": []
   },
   "outputs": [
    {
     "data": {
      "image/png": "[encoded data removed]",
      "text/plain": [
       "<Figure size 800x800 with 1 Axes>"
      ]
     },
     "metadata": {},
     "output_type": "display_data"
    }
   ],
   "source": [
    "sns.set_style('whitegrid')\n",
    "colors = ['#87ace8','#e3784d', 'green']\n",
    "fig,axes = plt.subplots(figsize=(8,8))\n",
    "\n",
    "ax = sns.countplot(x='sex',data=meta_data, palette = 'Paired')\n",
    "for container in ax.containers:\n",
    "    ax.bar_label(container)\n",
    "plt.title('Gender-wise Distribution')\n",
    "plt.xticks(rotation=45)\n",
    "plt.show()"
   ]
  },
  {
   "cell_type": "code",
   "execution_count": 14,
   "id": "5f882ba4",
   "metadata": {
    "execution": {
     "iopub.execute_input": "2023-03-08T17:18:40.546150Z",
     "iopub.status.busy": "2023-03-08T17:18:40.545462Z",
     "iopub.status.idle": "2023-03-08T17:18:40.837042Z",
     "shell.execute_reply": "2023-03-08T17:18:40.835974Z"
    },
    "papermill": {
     "duration": 0.321852,
     "end_time": "2023-03-08T17:18:40.839507",
     "exception": false,
     "start_time": "2023-03-08T17:18:40.517655",
     "status": "completed"
    },
    "tags": []
   },
   "outputs": [
    {
     "data": {
      "image/png": "[encoded data removed]",
      "text/plain": [
       "<Figure size 1200x800 with 1 Axes>"
      ]
     },
     "metadata": {},
     "output_type": "display_data"
    }
   ],
   "source": [
    "sns.set_style('whitegrid')\n",
    "fig,axes = plt.subplots(figsize=(12,8))\n",
    "ax = sns.countplot(x='dx',data=meta_data, order = meta_data['dx'].value_counts().index, palette = 'Paired')\n",
    "for container in ax.containers:\n",
    "    ax.bar_label(container)\n",
    "plt.title('Cell Types Skin Cancer Affected patients')\n",
    "plt.xticks(rotation=45)\n",
    "plt.show()"
   ]
  },
  {
   "cell_type": "code",
   "execution_count": null,
   "id": "e24d5b4b",
   "metadata": {
    "papermill": {
     "duration": 0.013227,
     "end_time": "2023-03-08T17:18:40.866328",
     "exception": false,
     "start_time": "2023-03-08T17:18:40.853101",
     "status": "completed"
    },
    "tags": []
   },
   "outputs": [],
   "source": []
  },
  {
   "cell_type": "code",
   "execution_count": 15,
   "id": "2a3d04e4",
   "metadata": {
    "execution": {
     "iopub.execute_input": "2023-03-08T17:18:40.894570Z",
     "iopub.status.busy": "2023-03-08T17:18:40.894248Z",
     "iopub.status.idle": "2023-03-08T17:18:40.900938Z",
     "shell.execute_reply": "2023-03-08T17:18:40.899775Z"
    },
    "papermill": {
     "duration": 0.023475,
     "end_time": "2023-03-08T17:18:40.903397",
     "exception": false,
     "start_time": "2023-03-08T17:18:40.879922",
     "status": "completed"
    },
    "tags": []
   },
   "outputs": [
    {
     "name": "stdout",
     "output_type": "stream",
     "text": [
      "[2, 4, 3, 6, 5, 1, 0]\n"
     ]
    }
   ],
   "source": [
    "classes = {2:'bkl', 4:'nv', 3:'df', 6:'mel', 5:'vasc', 1:'bcc', 0:'akiec'}\n",
    "\n",
    "classes_labels=[]\n",
    "for key in classes.keys():\n",
    "    classes_labels.append(key)\n",
    "print(classes_labels)"
   ]
  },
  {
   "cell_type": "code",
   "execution_count": 16,
   "id": "323395e4",
   "metadata": {
    "execution": {
     "iopub.execute_input": "2023-03-08T17:18:40.932812Z",
     "iopub.status.busy": "2023-03-08T17:18:40.931789Z",
     "iopub.status.idle": "2023-03-08T17:18:41.330342Z",
     "shell.execute_reply": "2023-03-08T17:18:41.329232Z"
    },
    "papermill": {
     "duration": 0.415825,
     "end_time": "2023-03-08T17:18:41.332564",
     "exception": false,
     "start_time": "2023-03-08T17:18:40.916739",
     "status": "completed"
    },
    "tags": []
   },
   "outputs": [
    {
     "data": {
      "image/png": "[encoded data removed]",
      "text/plain": [
       "<Figure size 1200x800 with 1 Axes>"
      ]
     },
     "metadata": {},
     "output_type": "display_data"
    }
   ],
   "source": [
    "sns.set_style('whitegrid')\n",
    "fig,axes = plt.subplots(figsize=(12,8))\n",
    "ax = sns.countplot(x='dx',hue='sex', data=meta_data, order = meta_data['dx'].value_counts().index, palette = 'Paired')\n",
    "for container in ax.containers:\n",
    "    ax.bar_label(container)\n",
    "plt.title('Cell Types Frequencies')\n",
    "plt.xticks(rotation=45)\n",
    "plt.show()"
   ]
  },
  {
   "cell_type": "code",
   "execution_count": 17,
   "id": "f4c2cdd3",
   "metadata": {
    "execution": {
     "iopub.execute_input": "2023-03-08T17:18:41.361787Z",
     "iopub.status.busy": "2023-03-08T17:18:41.361164Z",
     "iopub.status.idle": "2023-03-08T17:18:41.761456Z",
     "shell.execute_reply": "2023-03-08T17:18:41.760281Z"
    },
    "papermill": {
     "duration": 0.417078,
     "end_time": "2023-03-08T17:18:41.763693",
     "exception": false,
     "start_time": "2023-03-08T17:18:41.346615",
     "status": "completed"
    },
    "tags": []
   },
   "outputs": [
    {
     "data": {
      "image/png": "[encoded data removed]",
      "text/plain": [
       "<Figure size 1200x800 with 1 Axes>"
      ]
     },
     "metadata": {},
     "output_type": "display_data"
    }
   ],
   "source": [
    "sns.set_style('whitegrid')\n",
    "fig,axes = plt.subplots(figsize=(12,8))\n",
    "ax = sns.countplot(x='localization',data=meta_data, order = meta_data['localization'].value_counts().index, palette = 'crest')\n",
    "for container in ax.containers:\n",
    "    ax.bar_label(container)\n",
    "plt.title('Localization Area Frequencies')\n",
    "plt.xticks(rotation=45)\n",
    "plt.show()"
   ]
  },
  {
   "cell_type": "code",
   "execution_count": 18,
   "id": "c783129e",
   "metadata": {
    "execution": {
     "iopub.execute_input": "2023-03-08T17:18:41.793913Z",
     "iopub.status.busy": "2023-03-08T17:18:41.793611Z",
     "iopub.status.idle": "2023-03-08T17:18:42.120366Z",
     "shell.execute_reply": "2023-03-08T17:18:42.119398Z"
    },
    "papermill": {
     "duration": 0.34474,
     "end_time": "2023-03-08T17:18:42.122844",
     "exception": false,
     "start_time": "2023-03-08T17:18:41.778104",
     "status": "completed"
    },
    "tags": []
   },
   "outputs": [
    {
     "data": {
      "image/png": "[encoded data removed]",
      "text/plain": [
       "<Figure size 1200x800 with 1 Axes>"
      ]
     },
     "metadata": {},
     "output_type": "display_data"
    }
   ],
   "source": [
    "sns.set_style('whitegrid')\n",
    "fig,axes = plt.subplots(figsize=(12,8))\n",
    "ax = sns.histplot(data=meta_data, x='age')\n",
    "plt.title('Age Histogram')\n",
    "plt.show()"
   ]
  },
  {
   "cell_type": "code",
   "execution_count": 19,
   "id": "ae3c9e06",
   "metadata": {
    "execution": {
     "iopub.execute_input": "2023-03-08T17:18:42.154637Z",
     "iopub.status.busy": "2023-03-08T17:18:42.154139Z",
     "iopub.status.idle": "2023-03-08T17:18:42.665594Z",
     "shell.execute_reply": "2023-03-08T17:18:42.664579Z"
    },
    "papermill": {
     "duration": 0.530072,
     "end_time": "2023-03-08T17:18:42.667881",
     "exception": false,
     "start_time": "2023-03-08T17:18:42.137809",
     "status": "completed"
    },
    "tags": []
   },
   "outputs": [
    {
     "data": {
      "image/png": "[encoded data removed]",
      "text/plain": [
       "<Figure size 1200x800 with 1 Axes>"
      ]
     },
     "metadata": {},
     "output_type": "display_data"
    }
   ],
   "source": [
    "sns.set_style('whitegrid')\n",
    "fig,axes = plt.subplots(figsize=(12,8))\n",
    "ax = sns.histplot(data=meta_data, x='age',hue='sex',multiple='stack')\n",
    "plt.title('Age Histogram Gender Wise')\n",
    "plt.show()"
   ]
  },
  {
   "cell_type": "markdown",
   "id": "24fb3b07",
   "metadata": {
    "papermill": {
     "duration": 0.01484,
     "end_time": "2023-03-08T17:18:42.698220",
     "exception": false,
     "start_time": "2023-03-08T17:18:42.683380",
     "status": "completed"
    },
    "tags": []
   },
   "source": []
  },
  {
   "cell_type": "code",
   "execution_count": 20,
   "id": "b08469c7",
   "metadata": {
    "execution": {
     "iopub.execute_input": "2023-03-08T17:18:42.730240Z",
     "iopub.status.busy": "2023-03-08T17:18:42.729617Z",
     "iopub.status.idle": "2023-03-08T17:18:44.935460Z",
     "shell.execute_reply": "2023-03-08T17:18:44.934206Z"
    },
    "papermill": {
     "duration": 2.224904,
     "end_time": "2023-03-08T17:18:44.938330",
     "exception": false,
     "start_time": "2023-03-08T17:18:42.713426",
     "status": "completed"
    },
    "tags": []
   },
   "outputs": [
    {
     "name": "stdout",
     "output_type": "stream",
     "text": [
      "(10015, 2352) (10015,)\n",
      "(46935, 2352) (46935,)\n"
     ]
    }
   ],
   "source": [
    "print(x.shape,y.shape)\n",
    "# To overcome class imbalace\n",
    "oversample = RandomOverSampler()\n",
    "x,y  = oversample.fit_resample(x,y)\n",
    "print(x.shape,y.shape)"
   ]
  },
  {
   "cell_type": "code",
   "execution_count": 21,
   "id": "bd7f8844",
   "metadata": {
    "execution": {
     "iopub.execute_input": "2023-03-08T17:18:44.971480Z",
     "iopub.status.busy": "2023-03-08T17:18:44.971117Z",
     "iopub.status.idle": "2023-03-08T17:18:45.868845Z",
     "shell.execute_reply": "2023-03-08T17:18:45.867669Z"
    },
    "papermill": {
     "duration": 0.919431,
     "end_time": "2023-03-08T17:18:45.873921",
     "exception": false,
     "start_time": "2023-03-08T17:18:44.954490",
     "status": "completed"
    },
    "tags": []
   },
   "outputs": [
    {
     "name": "stdout",
     "output_type": "stream",
     "text": [
      "Shape of X : (46935, 28, 28, 3)\n",
      "Shape of y : (46935,)\n"
     ]
    }
   ],
   "source": [
    "# reshaping the data so that it can be taken by convolution neural network(without disturbing the no. of samples)\n",
    "x = np.array(x).reshape(-1,28,28,3)\n",
    "print('Shape of X :',x.shape)\n",
    "print('Shape of y :',y.shape)"
   ]
  },
  {
   "cell_type": "code",
   "execution_count": 22,
   "id": "5ed8da91",
   "metadata": {
    "execution": {
     "iopub.execute_input": "2023-03-08T17:18:45.911102Z",
     "iopub.status.busy": "2023-03-08T17:18:45.910803Z",
     "iopub.status.idle": "2023-03-08T17:18:47.159714Z",
     "shell.execute_reply": "2023-03-08T17:18:47.158454Z"
    },
    "papermill": {
     "duration": 1.269477,
     "end_time": "2023-03-08T17:18:47.162312",
     "exception": false,
     "start_time": "2023-03-08T17:18:45.892835",
     "status": "completed"
    },
    "tags": []
   },
   "outputs": [
    {
     "name": "stdout",
     "output_type": "stream",
     "text": [
      "(37548, 28, 28, 3) (37548,)\n",
      "(9387, 28, 28, 3) (9387,)\n"
     ]
    }
   ],
   "source": [
    "# Splitting Data\n",
    "X_train, X_test, Y_train, Y_test = train_test_split(x,y, test_size=0.2, random_state=1)\n",
    "print(X_train.shape,Y_train.shape)\n",
    "print(X_test.shape , Y_test.shape)"
   ]
  },
  {
   "cell_type": "code",
   "execution_count": 23,
   "id": "8778ef63",
   "metadata": {
    "execution": {
     "iopub.execute_input": "2023-03-08T17:18:47.195177Z",
     "iopub.status.busy": "2023-03-08T17:18:47.194344Z",
     "iopub.status.idle": "2023-03-08T17:18:49.723440Z",
     "shell.execute_reply": "2023-03-08T17:18:49.722522Z"
    },
    "papermill": {
     "duration": 2.583821,
     "end_time": "2023-03-08T17:18:49.761672",
     "exception": false,
     "start_time": "2023-03-08T17:18:47.177851",
     "status": "completed"
    },
    "tags": []
   },
   "outputs": [
    {
     "name": "stdout",
     "output_type": "stream",
     "text": [
      "Model: \"sequential\"\n",
      "_________________________________________________________________\n",
      " Layer (type)                Output Shape              Param #   \n",
      "=================================================================\n",
      " conv2d (Conv2D)             (None, 28, 28, 16)        448       \n",
      "                                                                 \n",
      " max_pooling2d (MaxPooling2D  (None, 14, 14, 16)       0         \n",
      " )                                                               \n",
      "                                                                 \n",
      " conv2d_1 (Conv2D)           (None, 14, 14, 32)        4640      \n",
      "                                                                 \n",
      " max_pooling2d_1 (MaxPooling  (None, 7, 7, 32)         0         \n",
      " 2D)                                                             \n",
      "                                                                 \n",
      " conv2d_2 (Conv2D)           (None, 7, 7, 64)          18496     \n",
      "                                                                 \n",
      " max_pooling2d_2 (MaxPooling  (None, 4, 4, 64)         0         \n",
      " 2D)                                                             \n",
      "                                                                 \n",
      " conv2d_3 (Conv2D)           (None, 4, 4, 128)         73856     \n",
      "                                                                 \n",
      " max_pooling2d_3 (MaxPooling  (None, 2, 2, 128)        0         \n",
      " 2D)                                                             \n",
      "                                                                 \n",
      " flatten (Flatten)           (None, 512)               0         \n",
      "                                                                 \n",
      " dense (Dense)               (None, 64)                32832     \n",
      "                                                                 \n",
      " dense_1 (Dense)             (None, 32)                2080      \n",
      "                                                                 \n",
      " activation (Activation)     (None, 32)                0         \n",
      "                                                                 \n",
      " dense_2 (Dense)             (None, 16)                528       \n",
      "                                                                 \n",
      " activation_1 (Activation)   (None, 16)                0         \n",
      "                                                                 \n",
      " dense_3 (Dense)             (None, 7)                 119       \n",
      "                                                                 \n",
      " activation_2 (Activation)   (None, 7)                 0         \n",
      "                                                                 \n",
      "=================================================================\n",
      "Total params: 132,999\n",
      "Trainable params: 132,999\n",
      "Non-trainable params: 0\n",
      "_________________________________________________________________\n",
      "None\n"
     ]
    }
   ],
   "source": [
    "model_CNN = Sequential()\n",
    "model_CNN.add(Conv2D(16, kernel_size = (3,3), input_shape = (28, 28, 3), activation = 'relu', padding = 'same'))\n",
    "model_CNN.add(MaxPool2D(pool_size = (2,2)))\n",
    "\n",
    "model_CNN.add(Conv2D(32, kernel_size = (3,3), activation = 'relu', padding = 'same'))\n",
    "model_CNN.add(MaxPool2D(pool_size = (2,2), padding = 'same'))\n",
    "\n",
    "model_CNN.add(Conv2D(64, kernel_size = (3,3), activation = 'relu', padding = 'same'))\n",
    "model_CNN.add(MaxPool2D(pool_size = (2,2), padding = 'same'))\n",
    "model_CNN.add(Conv2D(128, kernel_size = (3,3), activation = 'relu', padding = 'same'))\n",
    "model_CNN.add(MaxPool2D(pool_size = (2,2), padding = 'same'))\n",
    "\n",
    "model_CNN.add(Flatten())\n",
    "model_CNN.add(Dense(64, activation = 'relu'))\n",
    "model_CNN.add(Dense(32))\n",
    "model_CNN.add(Activation(activation='relu'))\n",
    "model_CNN.add(Dense(16))\n",
    "model_CNN.add(Activation(activation='relu'))\n",
    "model_CNN.add(Dense(7))\n",
    "model_CNN.add(Activation(activation='softmax'))\n",
    "\n",
    "optimizer = tf.keras.optimizers.Adam(learning_rate = 0.001)\n",
    "\n",
    "model_CNN.compile(loss = 'sparse_categorical_crossentropy',\n",
    "                 optimizer = optimizer,\n",
    "                  metrics = ['accuracy'])\n",
    "print(model_CNN.summary())\n"
   ]
  },
  {
   "cell_type": "code",
   "execution_count": 24,
   "id": "9e4c6da2",
   "metadata": {
    "execution": {
     "iopub.execute_input": "2023-03-08T17:18:49.801263Z",
     "iopub.status.busy": "2023-03-08T17:18:49.800899Z",
     "iopub.status.idle": "2023-03-08T17:20:19.262269Z",
     "shell.execute_reply": "2023-03-08T17:20:19.260730Z"
    },
    "papermill": {
     "duration": 89.483665,
     "end_time": "2023-03-08T17:20:19.265250",
     "exception": false,
     "start_time": "2023-03-08T17:18:49.781585",
     "status": "completed"
    },
    "tags": []
   },
   "outputs": [
    {
     "name": "stdout",
     "output_type": "stream",
     "text": [
      "Epoch 1/50\n",
      "470/470 [==============================] - 11s 7ms/step - loss: 1.7157 - accuracy: 0.3471 - val_loss: 1.2781 - val_accuracy: 0.4830 - lr: 0.0010\n",
      "Epoch 2/50\n",
      "470/470 [==============================] - 3s 6ms/step - loss: 1.0987 - accuracy: 0.5657 - val_loss: 0.9553 - val_accuracy: 0.6338 - lr: 0.0010\n",
      "Epoch 3/50\n",
      "470/470 [==============================] - 3s 7ms/step - loss: 0.8349 - accuracy: 0.6819 - val_loss: 0.6886 - val_accuracy: 0.7507 - lr: 0.0010\n",
      "Epoch 4/50\n",
      "470/470 [==============================] - 3s 6ms/step - loss: 0.6062 - accuracy: 0.7712 - val_loss: 0.7442 - val_accuracy: 0.7342 - lr: 0.0010\n",
      "Epoch 5/50\n",
      "470/470 [==============================] - 3s 6ms/step - loss: 0.4719 - accuracy: 0.8209 - val_loss: 0.4136 - val_accuracy: 0.8529 - lr: 0.0010\n",
      "Epoch 6/50\n",
      "470/470 [==============================] - 3s 6ms/step - loss: 0.3896 - accuracy: 0.8535 - val_loss: 0.3984 - val_accuracy: 0.8538 - lr: 0.0010\n",
      "Epoch 7/50\n",
      "470/470 [==============================] - 3s 6ms/step - loss: 0.3245 - accuracy: 0.8803 - val_loss: 0.3157 - val_accuracy: 0.8830 - lr: 0.0010\n",
      "Epoch 8/50\n",
      "470/470 [==============================] - 3s 6ms/step - loss: 0.2754 - accuracy: 0.8990 - val_loss: 0.3076 - val_accuracy: 0.8850 - lr: 0.0010\n",
      "Epoch 9/50\n",
      "470/470 [==============================] - 3s 7ms/step - loss: 0.2296 - accuracy: 0.9164 - val_loss: 0.2591 - val_accuracy: 0.9055 - lr: 0.0010\n",
      "Epoch 10/50\n",
      "470/470 [==============================] - 3s 6ms/step - loss: 0.2079 - accuracy: 0.9241 - val_loss: 0.2411 - val_accuracy: 0.9144 - lr: 0.0010\n",
      "Epoch 11/50\n",
      "470/470 [==============================] - 3s 6ms/step - loss: 0.2018 - accuracy: 0.9287 - val_loss: 0.2200 - val_accuracy: 0.9252 - lr: 0.0010\n",
      "Epoch 12/50\n",
      "470/470 [==============================] - 3s 6ms/step - loss: 0.2000 - accuracy: 0.9314 - val_loss: 0.4627 - val_accuracy: 0.8383 - lr: 0.0010\n",
      "Epoch 13/50\n",
      "470/470 [==============================] - 3s 6ms/step - loss: 0.1490 - accuracy: 0.9469 - val_loss: 0.1622 - val_accuracy: 0.9431 - lr: 0.0010\n",
      "Epoch 14/50\n",
      "470/470 [==============================] - 3s 6ms/step - loss: 0.1144 - accuracy: 0.9603 - val_loss: 0.1858 - val_accuracy: 0.9395 - lr: 0.0010\n",
      "Epoch 15/50\n",
      "470/470 [==============================] - 3s 6ms/step - loss: 0.1433 - accuracy: 0.9494 - val_loss: 0.2750 - val_accuracy: 0.9096 - lr: 0.0010\n",
      "Epoch 16/50\n",
      "468/470 [============================>.] - ETA: 0s - loss: 0.1072 - accuracy: 0.9618\n",
      "Epoch 16: ReduceLROnPlateau reducing learning rate to 0.00010000000474974513.\n",
      "470/470 [==============================] - 3s 6ms/step - loss: 0.1076 - accuracy: 0.9617 - val_loss: 0.1838 - val_accuracy: 0.9466 - lr: 0.0010\n",
      "Epoch 17/50\n",
      "470/470 [==============================] - 3s 6ms/step - loss: 0.0338 - accuracy: 0.9904 - val_loss: 0.1023 - val_accuracy: 0.9727 - lr: 1.0000e-04\n",
      "Epoch 18/50\n",
      "470/470 [==============================] - 3s 7ms/step - loss: 0.0184 - accuracy: 0.9956 - val_loss: 0.0986 - val_accuracy: 0.9751 - lr: 1.0000e-04\n",
      "Epoch 19/50\n",
      "470/470 [==============================] - 3s 6ms/step - loss: 0.0134 - accuracy: 0.9970 - val_loss: 0.1018 - val_accuracy: 0.9770 - lr: 1.0000e-04\n",
      "Epoch 20/50\n",
      "470/470 [==============================] - 3s 6ms/step - loss: 0.0102 - accuracy: 0.9980 - val_loss: 0.1041 - val_accuracy: 0.9760 - lr: 1.0000e-04\n",
      "Epoch 21/50\n",
      "462/470 [============================>.] - ETA: 0s - loss: 0.0078 - accuracy: 0.9987\n",
      "Epoch 21: ReduceLROnPlateau reducing learning rate to 1.0000000474974514e-05.\n",
      "470/470 [==============================] - 3s 6ms/step - loss: 0.0077 - accuracy: 0.9988 - val_loss: 0.1009 - val_accuracy: 0.9787 - lr: 1.0000e-04\n",
      "Epoch 22/50\n",
      "470/470 [==============================] - 3s 6ms/step - loss: 0.0054 - accuracy: 0.9993 - val_loss: 0.1002 - val_accuracy: 0.9792 - lr: 1.0000e-05\n",
      "Epoch 23/50\n",
      "470/470 [==============================] - 3s 6ms/step - loss: 0.0050 - accuracy: 0.9994 - val_loss: 0.1014 - val_accuracy: 0.9790 - lr: 1.0000e-05\n",
      "Epoch 24/50\n",
      "469/470 [============================>.] - ETA: 0s - loss: 0.0048 - accuracy: 0.9994\n",
      "Epoch 24: ReduceLROnPlateau reducing learning rate to 1.0000000656873453e-06.\n",
      "470/470 [==============================] - 3s 6ms/step - loss: 0.0047 - accuracy: 0.9994 - val_loss: 0.1005 - val_accuracy: 0.9790 - lr: 1.0000e-05\n",
      "Epoch 25/50\n",
      "470/470 [==============================] - 3s 7ms/step - loss: 0.0045 - accuracy: 0.9995 - val_loss: 0.1013 - val_accuracy: 0.9787 - lr: 1.0000e-06\n",
      "Epoch 26/50\n",
      "470/470 [==============================] - 3s 6ms/step - loss: 0.0044 - accuracy: 0.9995 - val_loss: 0.1013 - val_accuracy: 0.9787 - lr: 1.0000e-06\n",
      "Epoch 27/50\n",
      "462/470 [============================>.] - ETA: 0s - loss: 0.0044 - accuracy: 0.9995\n",
      "Epoch 27: ReduceLROnPlateau reducing learning rate to 1.0000001111620805e-07.\n",
      "470/470 [==============================] - 3s 6ms/step - loss: 0.0044 - accuracy: 0.9995 - val_loss: 0.1013 - val_accuracy: 0.9788 - lr: 1.0000e-06\n",
      "Epoch 28/50\n",
      "470/470 [==============================] - 3s 6ms/step - loss: 0.0044 - accuracy: 0.9995 - val_loss: 0.1013 - val_accuracy: 0.9787 - lr: 1.0000e-07\n",
      "Epoch 28: early stopping\n"
     ]
    }
   ],
   "source": [
    "from tensorflow.keras.callbacks import ReduceLROnPlateau, EarlyStopping\n",
    "early_stop = EarlyStopping(monitor='val_loss', patience=10, verbose=1, mode='auto')\n",
    "reduce_lr = ReduceLROnPlateau(monitor='val_loss', factor=0.1, patience=3, verbose=1, mode='auto')\n",
    "history = model_CNN.fit(X_train,\n",
    "                    Y_train,\n",
    "                    validation_split=0.2,\n",
    "                    batch_size = 64,\n",
    "                    epochs = 50,\n",
    "                    callbacks = [reduce_lr, early_stop])"
   ]
  },
  {
   "cell_type": "code",
   "execution_count": 25,
   "id": "8f7d9755",
   "metadata": {
    "execution": {
     "iopub.execute_input": "2023-03-08T17:20:19.522101Z",
     "iopub.status.busy": "2023-03-08T17:20:19.521741Z",
     "iopub.status.idle": "2023-03-08T17:21:15.320455Z",
     "shell.execute_reply": "2023-03-08T17:21:15.319356Z"
    },
    "papermill": {
     "duration": 56.007032,
     "end_time": "2023-03-08T17:21:15.409700",
     "exception": false,
     "start_time": "2023-03-08T17:20:19.402668",
     "status": "completed"
    },
    "tags": []
   },
   "outputs": [
    {
     "name": "stdout",
     "output_type": "stream",
     "text": [
      "CNN Model Test Results\n",
      "        Test Loss: 0.10943\n",
      "    Test Accuracy: 97.72%\n"
     ]
    }
   ],
   "source": [
    "results = model_CNN.evaluate(X_test , Y_test, verbose=0)\n",
    "\n",
    "print(\"CNN Model Test Results\")\n",
    "print(\"        Test Loss: {:.5f}\".format(results[0]))\n",
    "print(\"    Test Accuracy: {:.2f}%\".format(results[1] * 100))"
   ]
  },
  {
   "cell_type": "code",
   "execution_count": 26,
   "id": "a3ee57d3",
   "metadata": {
    "execution": {
     "iopub.execute_input": "2023-03-08T17:21:15.585590Z",
     "iopub.status.busy": "2023-03-08T17:21:15.585209Z",
     "iopub.status.idle": "2023-03-08T17:21:15.847033Z",
     "shell.execute_reply": "2023-03-08T17:21:15.846091Z"
    },
    "papermill": {
     "duration": 0.352476,
     "end_time": "2023-03-08T17:21:15.849198",
     "exception": false,
     "start_time": "2023-03-08T17:21:15.496722",
     "status": "completed"
    },
    "tags": []
   },
   "outputs": [
    {
     "data": {
      "image/png": "[encoded data removed]",
      "text/plain": [
       "<Figure size 640x480 with 1 Axes>"
      ]
     },
     "metadata": {},
     "output_type": "display_data"
    }
   ],
   "source": [
    "plt.plot(history.history['accuracy'])\n",
    "plt.plot(history.history['val_accuracy'])\n",
    "plt.title('model accuracy')\n",
    "plt.ylabel('accuracy')\n",
    "plt.xlabel('epoch')\n",
    "plt.legend(['train', 'val'], loc='upper left')\n",
    "plt.show()"
   ]
  },
  {
   "cell_type": "code",
   "execution_count": 27,
   "id": "338f9908",
   "metadata": {
    "execution": {
     "iopub.execute_input": "2023-03-08T17:21:16.025215Z",
     "iopub.status.busy": "2023-03-08T17:21:16.024867Z",
     "iopub.status.idle": "2023-03-08T17:21:16.270407Z",
     "shell.execute_reply": "2023-03-08T17:21:16.269356Z"
    },
    "papermill": {
     "duration": 0.335831,
     "end_time": "2023-03-08T17:21:16.272575",
     "exception": false,
     "start_time": "2023-03-08T17:21:15.936744",
     "status": "completed"
    },
    "tags": []
   },
   "outputs": [
    {
     "data": {
      "image/png": "[encoded data removed]",
      "text/plain": [
       "<Figure size 640x480 with 1 Axes>"
      ]
     },
     "metadata": {},
     "output_type": "display_data"
    }
   ],
   "source": [
    "plt.plot(history.history['loss'])\n",
    "plt.plot(history.history['val_loss'])\n",
    "plt.title('model loss')\n",
    "plt.ylabel('loss')\n",
    "plt.xlabel('epoch')\n",
    "plt.legend(['train', 'val'], loc='upper right')\n",
    "plt.show()"
   ]
  },
  {
   "cell_type": "code",
   "execution_count": 28,
   "id": "8d3bbee2",
   "metadata": {
    "execution": {
     "iopub.execute_input": "2023-03-08T17:21:16.449645Z",
     "iopub.status.busy": "2023-03-08T17:21:16.449302Z",
     "iopub.status.idle": "2023-03-08T17:21:17.763733Z",
     "shell.execute_reply": "2023-03-08T17:21:17.762314Z"
    },
    "papermill": {
     "duration": 1.40578,
     "end_time": "2023-03-08T17:21:17.766039",
     "exception": false,
     "start_time": "2023-03-08T17:21:16.360259",
     "status": "completed"
    },
    "tags": []
   },
   "outputs": [
    {
     "name": "stdout",
     "output_type": "stream",
     "text": [
      "294/294 [==============================] - 1s 2ms/step\n",
      "Predicting First Ten Rows:\n",
      "Y Actual Values : [5, 1, 4, 0, 5, 0, 2, 0, 3, 2]\n",
      "Y Predicted Values : [5, 1, 4, 0, 5, 0, 2, 0, 3, 2]\n"
     ]
    }
   ],
   "source": [
    "from sklearn.metrics import confusion_matrix , classification_report\n",
    "\n",
    "y_true_CNN = list(Y_test)\n",
    "y_pred_CNN = model_CNN.predict(X_test)\n",
    "y_pred_CNN = list(map(lambda x: np.argmax(x), y_pred_CNN))\n",
    "print(\"Predicting First Ten Rows:\")\n",
    "print('Y Actual Values :' , y_true_CNN[0:10])\n",
    "print('Y Predicted Values :' , y_pred_CNN[0:10])"
   ]
  },
  {
   "cell_type": "code",
   "execution_count": 29,
   "id": "a208f1b6",
   "metadata": {
    "execution": {
     "iopub.execute_input": "2023-03-08T17:21:17.948657Z",
     "iopub.status.busy": "2023-03-08T17:21:17.947929Z",
     "iopub.status.idle": "2023-03-08T17:21:18.444907Z",
     "shell.execute_reply": "2023-03-08T17:21:18.443895Z"
    },
    "papermill": {
     "duration": 0.590803,
     "end_time": "2023-03-08T17:21:18.447246",
     "exception": false,
     "start_time": "2023-03-08T17:21:17.856443",
     "status": "completed"
    },
    "tags": []
   },
   "outputs": [
    {
     "name": "stdout",
     "output_type": "stream",
     "text": [
      "[[1246    5    0    6    0    0    5]\n",
      " [  57 1199    4   88    6   11    9]\n",
      " [   0    0 1351    0    0    0    0]\n",
      " [   3   19    0 1342    1    0    0]\n",
      " [   0    0    0    0 1358    0    0]\n",
      " [   0    0    0    0    0 1318    0]\n",
      " [   0    0    0    0    0    0 1359]]\n"
     ]
    },
    {
     "data": {
      "text/plain": [
       "<AxesSubplot:>"
      ]
     },
     "execution_count": 29,
     "metadata": {},
     "output_type": "execute_result"
    },
    {
     "data": {
      "image/png": "[encoded data removed]",
      "text/plain": [
       "<Figure size 640x480 with 2 Axes>"
      ]
     },
     "metadata": {},
     "output_type": "display_data"
    }
   ],
   "source": [
    "cm_CNN = confusion_matrix(y_true_CNN,y_pred_CNN,labels=classes_labels)\n",
    "print(confusion_matrix(y_true_CNN,y_pred_CNN,labels=classes_labels))\n",
    "sns.heatmap(cm_CNN, annot = True, fmt='')"
   ]
  },
  {
   "cell_type": "code",
   "execution_count": 30,
   "id": "1bbaab12",
   "metadata": {
    "execution": {
     "iopub.execute_input": "2023-03-08T17:21:18.627254Z",
     "iopub.status.busy": "2023-03-08T17:21:18.626895Z",
     "iopub.status.idle": "2023-03-08T17:21:18.875167Z",
     "shell.execute_reply": "2023-03-08T17:21:18.874217Z"
    },
    "papermill": {
     "duration": 0.341141,
     "end_time": "2023-03-08T17:21:18.877387",
     "exception": false,
     "start_time": "2023-03-08T17:21:18.536246",
     "status": "completed"
    },
    "tags": []
   },
   "outputs": [
    {
     "data": {
      "image/png": "[encoded data removed]",
      "text/plain": [
       "<Figure size 640x480 with 1 Axes>"
      ]
     },
     "metadata": {},
     "output_type": "display_data"
    }
   ],
   "source": [
    "#training acc vs testing acc graph\n",
    "plt.plot(history.history[\"accuracy\"] , 'ro-' , label = \"Training Accuracy\")\n",
    "plt.plot(history.history[\"val_accuracy\"] , 'go-' , label = \"Testing Accuracy\")\n",
    "plt.legend()\n",
    "plt.show()"
   ]
  },
  {
   "cell_type": "code",
   "execution_count": 31,
   "id": "47d723a9",
   "metadata": {
    "execution": {
     "iopub.execute_input": "2023-03-08T17:21:19.059363Z",
     "iopub.status.busy": "2023-03-08T17:21:19.058988Z",
     "iopub.status.idle": "2023-03-08T17:21:20.738306Z",
     "shell.execute_reply": "2023-03-08T17:21:20.736428Z"
    },
    "papermill": {
     "duration": 1.774762,
     "end_time": "2023-03-08T17:21:20.742025",
     "exception": false,
     "start_time": "2023-03-08T17:21:18.967263",
     "status": "completed"
    },
    "tags": []
   },
   "outputs": [
    {
     "name": "stdout",
     "output_type": "stream",
     "text": [
      "294/294 [==============================] - 1s 2ms/step\n",
      "CNN Model Prediction Results\n",
      "              precision    recall  f1-score   support\n",
      "\n",
      "       akiec       0.99      1.00      0.99      1359\n",
      "         bcc       0.99      1.00      1.00      1318\n",
      "         bkl       0.95      0.99      0.97      1262\n",
      "          df       1.00      1.00      1.00      1351\n",
      "          nv       0.98      0.87      0.92      1374\n",
      "        vasc       0.99      1.00      1.00      1358\n",
      "         mel       0.93      0.98      0.96      1365\n",
      "\n",
      "    accuracy                           0.98      9387\n",
      "   macro avg       0.98      0.98      0.98      9387\n",
      "weighted avg       0.98      0.98      0.98      9387\n",
      "\n"
     ]
    }
   ],
   "source": [
    "#predicting\n",
    "y_pred_CNN  = model_CNN.predict(X_test)\n",
    "target_names = [f\"{classes[i]}\" for i in range(7)]\n",
    "y_pred_CNN = list(map(lambda x: np.argmax(x), y_pred_CNN))\n",
    "print(\"CNN Model Prediction Results\")\n",
    "print(classification_report(Y_test , y_pred_CNN,target_names=target_names))"
   ]
  },
  {
   "cell_type": "code",
   "execution_count": 32,
   "id": "0bcfdd57",
   "metadata": {
    "execution": {
     "iopub.execute_input": "2023-03-08T17:21:20.990222Z",
     "iopub.status.busy": "2023-03-08T17:21:20.989025Z",
     "iopub.status.idle": "2023-03-08T17:21:20.996399Z",
     "shell.execute_reply": "2023-03-08T17:21:20.995351Z"
    },
    "papermill": {
     "duration": 0.163202,
     "end_time": "2023-03-08T17:21:20.999664",
     "exception": false,
     "start_time": "2023-03-08T17:21:20.836462",
     "status": "completed"
    },
    "tags": []
   },
   "outputs": [
    {
     "name": "stdout",
     "output_type": "stream",
     "text": [
      "0 <keras.layers.convolutional.conv2d.Conv2D object at 0x7f242e2fa2d0>\n",
      "1 <keras.layers.pooling.max_pooling2d.MaxPooling2D object at 0x7f23c003a090>\n",
      "2 <keras.layers.convolutional.conv2d.Conv2D object at 0x7f23bfc5e0d0>\n",
      "3 <keras.layers.pooling.max_pooling2d.MaxPooling2D object at 0x7f23bfc5e4d0>\n",
      "4 <keras.layers.convolutional.conv2d.Conv2D object at 0x7f242e078590>\n",
      "5 <keras.layers.pooling.max_pooling2d.MaxPooling2D object at 0x7f23bfc7ebd0>\n",
      "6 <keras.layers.convolutional.conv2d.Conv2D object at 0x7f23bfc778d0>\n",
      "7 <keras.layers.pooling.max_pooling2d.MaxPooling2D object at 0x7f23bfc85090>\n",
      "8 <keras.layers.reshaping.flatten.Flatten object at 0x7f23bfa4b9d0>\n",
      "9 <keras.layers.core.dense.Dense object at 0x7f23bfa4b250>\n",
      "10 <keras.layers.core.dense.Dense object at 0x7f242e0b3b50>\n",
      "11 <keras.layers.core.activation.Activation object at 0x7f23bfc69c10>\n",
      "12 <keras.layers.core.dense.Dense object at 0x7f23bfc5e150>\n",
      "13 <keras.layers.core.activation.Activation object at 0x7f242e0fd2d0>\n",
      "14 <keras.layers.core.dense.Dense object at 0x7f23bfc77190>\n",
      "15 <keras.layers.core.activation.Activation object at 0x7f23bfa4bcd0>\n"
     ]
    }
   ],
   "source": [
    "# Layers definitions\n",
    "from keras import backend as K\n",
    "for l in range(len(model_CNN.layers)):\n",
    "    print(l, model_CNN.layers[l])"
   ]
  },
  {
   "cell_type": "code",
   "execution_count": 33,
   "id": "ad65f4d4",
   "metadata": {
    "execution": {
     "iopub.execute_input": "2023-03-08T17:21:21.184089Z",
     "iopub.status.busy": "2023-03-08T17:21:21.183763Z",
     "iopub.status.idle": "2023-03-08T17:21:21.191306Z",
     "shell.execute_reply": "2023-03-08T17:21:21.190303Z"
    },
    "papermill": {
     "duration": 0.10235,
     "end_time": "2023-03-08T17:21:21.193435",
     "exception": false,
     "start_time": "2023-03-08T17:21:21.091085",
     "status": "completed"
    },
    "tags": []
   },
   "outputs": [
    {
     "data": {
      "text/plain": [
       "<keras.layers.core.dense.Dense at 0x7f23bfc77190>"
      ]
     },
     "execution_count": 33,
     "metadata": {},
     "output_type": "execute_result"
    }
   ],
   "source": [
    "model_CNN.layers[-2]"
   ]
  },
  {
   "cell_type": "code",
   "execution_count": 34,
   "id": "143c3a19",
   "metadata": {
    "execution": {
     "iopub.execute_input": "2023-03-08T17:21:21.376614Z",
     "iopub.status.busy": "2023-03-08T17:21:21.376255Z",
     "iopub.status.idle": "2023-03-08T17:21:21.381888Z",
     "shell.execute_reply": "2023-03-08T17:21:21.380758Z"
    },
    "papermill": {
     "duration": 0.099527,
     "end_time": "2023-03-08T17:21:21.384130",
     "exception": false,
     "start_time": "2023-03-08T17:21:21.284603",
     "status": "completed"
    },
    "tags": []
   },
   "outputs": [
    {
     "name": "stdout",
     "output_type": "stream",
     "text": [
      "tensorflow\n"
     ]
    }
   ],
   "source": [
    "import os\n",
    "os.environ[\"KERAS_BACKEND\"] = \"tensorflow\"\n",
    "kerasBKED = os.environ[\"KERAS_BACKEND\"] \n",
    "print(kerasBKED)"
   ]
  },
  {
   "cell_type": "markdown",
   "id": "cd6a135b",
   "metadata": {
    "papermill": {
     "duration": 0.09013,
     "end_time": "2023-03-08T17:21:21.564964",
     "exception": false,
     "start_time": "2023-03-08T17:21:21.474834",
     "status": "completed"
    },
    "tags": []
   },
   "source": [
    "## Separating Features Layers from the CNN Model"
   ]
  },
  {
   "cell_type": "code",
   "execution_count": 35,
   "id": "caafb18d",
   "metadata": {
    "execution": {
     "iopub.execute_input": "2023-03-08T17:21:21.749614Z",
     "iopub.status.busy": "2023-03-08T17:21:21.748644Z",
     "iopub.status.idle": "2023-03-08T17:21:21.758549Z",
     "shell.execute_reply": "2023-03-08T17:21:21.757622Z"
    },
    "papermill": {
     "duration": 0.10562,
     "end_time": "2023-03-08T17:21:21.760836",
     "exception": false,
     "start_time": "2023-03-08T17:21:21.655216",
     "status": "completed"
    },
    "tags": []
   },
   "outputs": [],
   "source": [
    "import tensorflow as tf\n",
    "# feature_extractor = tf.keras.Model(inputs=model_CNN.input, \n",
    "#                                     outputs=model_CNN.get_layer(-2).output)\n",
    "# output_layers_model =tf.keras.Model(inputs=model_CNN.input, outputs=model_CNN.output)\n",
    "# cnn_layer_output = model_CNN.layers[-2].output\n",
    "# cnn_model_features = tf.keras.Model(inputs=model_CNN.input, outputs=cnn_layer_output)\n",
    "cnn_model_features = tf.keras.Model(inputs=model_CNN.input, outputs=model_CNN.layers[-3].output)\n"
   ]
  },
  {
   "cell_type": "markdown",
   "id": "3ae4d1a0",
   "metadata": {
    "papermill": {
     "duration": 0.091884,
     "end_time": "2023-03-08T17:21:21.945940",
     "exception": false,
     "start_time": "2023-03-08T17:21:21.854056",
     "status": "completed"
    },
    "tags": []
   },
   "source": [
    "## Extracting Features from CNN Model"
   ]
  },
  {
   "cell_type": "code",
   "execution_count": 36,
   "id": "113ab2d9",
   "metadata": {
    "execution": {
     "iopub.execute_input": "2023-03-08T17:21:22.128242Z",
     "iopub.status.busy": "2023-03-08T17:21:22.127894Z",
     "iopub.status.idle": "2023-03-08T17:21:27.774045Z",
     "shell.execute_reply": "2023-03-08T17:21:27.772980Z"
    },
    "papermill": {
     "duration": 5.740853,
     "end_time": "2023-03-08T17:21:27.777116",
     "exception": false,
     "start_time": "2023-03-08T17:21:22.036263",
     "status": "completed"
    },
    "tags": []
   },
   "outputs": [
    {
     "name": "stdout",
     "output_type": "stream",
     "text": [
      "1174/1174 [==============================] - 3s 2ms/step\n",
      "294/294 [==============================] - 1s 2ms/step\n"
     ]
    }
   ],
   "source": [
    "# Extract features from input data using the CNN model\n",
    "X_train_cnn = cnn_model_features.predict(X_train)\n",
    "X_test_cnn = cnn_model_features.predict(X_test)"
   ]
  },
  {
   "cell_type": "markdown",
   "id": "4ab90514",
   "metadata": {
    "papermill": {
     "duration": 0.094894,
     "end_time": "2023-03-08T17:21:27.967885",
     "exception": false,
     "start_time": "2023-03-08T17:21:27.872991",
     "status": "completed"
    },
    "tags": []
   },
   "source": [
    "## Integrating CNN with SVM Classifier using Grid Search for Best Perameters"
   ]
  },
  {
   "cell_type": "code",
   "execution_count": 37,
   "id": "008dfa6f",
   "metadata": {
    "execution": {
     "iopub.execute_input": "2023-03-08T17:21:28.164621Z",
     "iopub.status.busy": "2023-03-08T17:21:28.163940Z",
     "iopub.status.idle": "2023-03-08T17:22:32.608204Z",
     "shell.execute_reply": "2023-03-08T17:22:32.607128Z"
    },
    "papermill": {
     "duration": 64.548512,
     "end_time": "2023-03-08T17:22:32.610895",
     "exception": false,
     "start_time": "2023-03-08T17:21:28.062383",
     "status": "completed"
    },
    "tags": []
   },
   "outputs": [
    {
     "name": "stdout",
     "output_type": "stream",
     "text": [
      "SVM Accuracy: 98.22094385852776\n"
     ]
    }
   ],
   "source": [
    "import numpy as np\n",
    "from sklearn.svm import SVC\n",
    "from sklearn.model_selection import GridSearchCV\n",
    "\n",
    "parameters = {'kernel':['rbf'], \n",
    "              'C':[1, 10, 100, 1000],\n",
    "              'gamma':[1e-3, 1e-4]}\n",
    "clf = GridSearchCV(SVC(), parameters)\n",
    "clf.fit(X_train_cnn, Y_train)\n",
    "# Evaluate the combined CNN-SVM model on a test dataset\n",
    "svm_accuracy = clf.score(X_test_cnn, Y_test)\n",
    "print('SVM Accuracy:', svm_accuracy*100)\n",
    "y_testSVM = clf.predict(X_test_cnn)"
   ]
  },
  {
   "cell_type": "code",
   "execution_count": 38,
   "id": "b997a684",
   "metadata": {
    "execution": {
     "iopub.execute_input": "2023-03-08T17:22:32.810516Z",
     "iopub.status.busy": "2023-03-08T17:22:32.810090Z",
     "iopub.status.idle": "2023-03-08T17:22:34.693569Z",
     "shell.execute_reply": "2023-03-08T17:22:34.692361Z"
    },
    "papermill": {
     "duration": 1.987389,
     "end_time": "2023-03-08T17:22:34.696777",
     "exception": false,
     "start_time": "2023-03-08T17:22:32.709388",
     "status": "completed"
    },
    "tags": []
   },
   "outputs": [
    {
     "name": "stdout",
     "output_type": "stream",
     "text": [
      "SVM Accuracy: 98.22094385852776\n",
      "SVC(C=10, gamma=0.001)\n",
      "Accuracy: 98.22094385852776\n"
     ]
    }
   ],
   "source": [
    "svm_accuracy = clf.score(X_test_cnn, Y_test)\n",
    "print('SVM Accuracy:', svm_accuracy*100)\n",
    "svmclf = clf.best_estimator_\n",
    "print(svmclf)\n",
    "svmclf.fit(X_train_cnn, Y_train)\n",
    "print(\"Accuracy: {0}\".format(accuracy_score(Y_test, y_testSVM)*100))"
   ]
  },
  {
   "cell_type": "code",
   "execution_count": 39,
   "id": "63ae2d06",
   "metadata": {
    "execution": {
     "iopub.execute_input": "2023-03-08T17:22:34.889856Z",
     "iopub.status.busy": "2023-03-08T17:22:34.889161Z",
     "iopub.status.idle": "2023-03-08T17:22:35.373566Z",
     "shell.execute_reply": "2023-03-08T17:22:35.372365Z"
    },
    "papermill": {
     "duration": 0.584389,
     "end_time": "2023-03-08T17:22:35.376913",
     "exception": false,
     "start_time": "2023-03-08T17:22:34.792524",
     "status": "completed"
    },
    "tags": []
   },
   "outputs": [
    {
     "name": "stdout",
     "output_type": "stream",
     "text": [
      "              precision    recall  f1-score   support\n",
      "\n",
      "       akiec       0.99      1.00      1.00      1359\n",
      "         bcc       0.99      1.00      1.00      1318\n",
      "         bkl       0.97      0.99      0.98      1262\n",
      "          df       1.00      1.00      1.00      1351\n",
      "          nv       0.98      0.90      0.94      1374\n",
      "        vasc       1.00      1.00      1.00      1358\n",
      "         mel       0.95      0.99      0.97      1365\n",
      "\n",
      "    accuracy                           0.98      9387\n",
      "   macro avg       0.98      0.98      0.98      9387\n",
      "weighted avg       0.98      0.98      0.98      9387\n",
      "\n",
      "Accuracy: 98.22094385852776\n"
     ]
    }
   ],
   "source": [
    "y_testSVM = svmclf.predict(X_test_cnn)\n",
    "from sklearn.metrics import confusion_matrix, classification_report, accuracy_score\n",
    "\n",
    "print(classification_report(Y_test, y_testSVM,target_names=target_names))\n",
    "print(\"Accuracy: {0}\".format(accuracy_score(Y_test, y_testSVM)*100))"
   ]
  },
  {
   "cell_type": "code",
   "execution_count": null,
   "id": "620832fd",
   "metadata": {
    "papermill": {
     "duration": 0.092749,
     "end_time": "2023-03-08T17:22:35.565812",
     "exception": false,
     "start_time": "2023-03-08T17:22:35.473063",
     "status": "completed"
    },
    "tags": []
   },
   "outputs": [],
   "source": []
  },
  {
   "cell_type": "markdown",
   "id": "25f1b685",
   "metadata": {
    "papermill": {
     "duration": 0.094695,
     "end_time": "2023-03-08T17:22:35.754414",
     "exception": false,
     "start_time": "2023-03-08T17:22:35.659719",
     "status": "completed"
    },
    "tags": []
   },
   "source": [
    "## Integrating CNN with Random Forest Classifier using Grid Search for Best Perameters"
   ]
  },
  {
   "cell_type": "code",
   "execution_count": 40,
   "id": "32751500",
   "metadata": {
    "execution": {
     "iopub.execute_input": "2023-03-08T17:22:36.015609Z",
     "iopub.status.busy": "2023-03-08T17:22:36.015231Z",
     "iopub.status.idle": "2023-03-08T18:02:53.035907Z",
     "shell.execute_reply": "2023-03-08T18:02:53.034792Z"
    },
    "papermill": {
     "duration": 2417.269577,
     "end_time": "2023-03-08T18:02:53.134951",
     "exception": false,
     "start_time": "2023-03-08T17:22:35.865374",
     "status": "completed"
    },
    "tags": []
   },
   "outputs": [
    {
     "name": "stdout",
     "output_type": "stream",
     "text": [
      "Random Forest Classifier Accuracy: 98.46596356663471\n",
      "Accuracy: 98.46596356663471\n"
     ]
    }
   ],
   "source": [
    "from sklearn.ensemble import RandomForestClassifier\n",
    "from sklearn.model_selection import GridSearchCV\n",
    "\n",
    "parameters = {\"max_depth\": [3, None],\n",
    "              \"max_features\": [1, 3, 10],\n",
    "              \"min_samples_split\": [1.0, 3, 10],\n",
    "              \"min_samples_leaf\": [1, 3, 10],\n",
    "              \"bootstrap\": [True, False],\n",
    "              \"criterion\": [\"gini\", \"entropy\"],\n",
    "              \"n_estimators\": [10, 20, 50]}\n",
    "rclf = RandomForestClassifier()\n",
    "rgclf = GridSearchCV(rclf, param_grid=parameters)\n",
    "rgclf.fit(X_train_cnn, Y_train)\n",
    "RFC_accuracy = rgclf.score(X_test_cnn, Y_test)\n",
    "print('Random Forest Classifier Accuracy:', RFC_accuracy*100)\n",
    "y_test_RF = rgclf.predict(X_test_cnn)\n",
    "print(\"Accuracy: {0}\".format(accuracy_score(Y_test, y_test_RF)*100))"
   ]
  },
  {
   "cell_type": "code",
   "execution_count": 41,
   "id": "5067596d",
   "metadata": {
    "execution": {
     "iopub.execute_input": "2023-03-08T18:02:53.325226Z",
     "iopub.status.busy": "2023-03-08T18:02:53.324878Z",
     "iopub.status.idle": "2023-03-08T18:02:54.046240Z",
     "shell.execute_reply": "2023-03-08T18:02:54.043595Z"
    },
    "papermill": {
     "duration": 0.819652,
     "end_time": "2023-03-08T18:02:54.048568",
     "exception": false,
     "start_time": "2023-03-08T18:02:53.228916",
     "status": "completed"
    },
    "tags": []
   },
   "outputs": [
    {
     "name": "stdout",
     "output_type": "stream",
     "text": [
      "Accuracy: 98.46596356663471\n",
      "RandomForestClassifier(bootstrap=False, criterion='entropy', max_features=1,\n",
      "                       min_samples_split=3, n_estimators=50)\n",
      "              precision    recall  f1-score   support\n",
      "\n",
      "       akiec       1.00      1.00      1.00      1359\n",
      "         bcc       1.00      1.00      1.00      1318\n",
      "         bkl       1.00      1.00      1.00      1262\n",
      "          df       1.00      1.00      1.00      1351\n",
      "          nv       1.00      1.00      1.00      1374\n",
      "        vasc       1.00      1.00      1.00      1358\n",
      "         mel       1.00      1.00      1.00      1365\n",
      "\n",
      "    accuracy                           1.00      9387\n",
      "   macro avg       1.00      1.00      1.00      9387\n",
      "weighted avg       1.00      1.00      1.00      9387\n",
      "\n",
      "Accuracy: 100.0\n"
     ]
    }
   ],
   "source": [
    "y_test_RF = rgclf.predict(X_test_cnn)\n",
    "print(\"Accuracy: {0}\".format(accuracy_score(Y_test, y_test_RF)*100))\n",
    "RFclf = rgclf.best_estimator_\n",
    "RFclf.fit(X_test_cnn, Y_test)\n",
    "print(RFclf)\n",
    "y_testRFC = RFclf.predict(X_test_cnn)\n",
    "from sklearn.metrics import confusion_matrix, classification_report, accuracy_score\n",
    "\n",
    "print(classification_report(Y_test, y_testRFC,target_names=target_names))\n",
    "print(\"Accuracy: {0}\".format(accuracy_score(Y_test, y_testRFC)*100))"
   ]
  },
  {
   "cell_type": "markdown",
   "id": "4477a1be",
   "metadata": {
    "papermill": {
     "duration": 0.093912,
     "end_time": "2023-03-08T18:02:54.237151",
     "exception": false,
     "start_time": "2023-03-08T18:02:54.143239",
     "status": "completed"
    },
    "tags": []
   },
   "source": [
    "## Integrating CNN with KNN Classifier using Grid Search for Best Perameters"
   ]
  },
  {
   "cell_type": "code",
   "execution_count": 42,
   "id": "09ace27b",
   "metadata": {
    "execution": {
     "iopub.execute_input": "2023-03-08T18:02:54.430081Z",
     "iopub.status.busy": "2023-03-08T18:02:54.428038Z",
     "iopub.status.idle": "2023-03-08T18:25:39.440169Z",
     "shell.execute_reply": "2023-03-08T18:25:39.438760Z"
    },
    "papermill": {
     "duration": 1365.251882,
     "end_time": "2023-03-08T18:25:39.583512",
     "exception": false,
     "start_time": "2023-03-08T18:02:54.331630",
     "status": "completed"
    },
    "tags": []
   },
   "outputs": [
    {
     "name": "stdout",
     "output_type": "stream",
     "text": [
      "KNN Classifier Accuracy: 98.50857568978374\n"
     ]
    }
   ],
   "source": [
    "from sklearn.neighbors import KNeighborsClassifier\n",
    "from sklearn.model_selection import GridSearchCV\n",
    "\n",
    "parameters = {\"n_neighbors\": [1, 5, 10,30],\n",
    "              \"weights\": ['uniform', 'distance'],\n",
    "              \"metric\": ['minkowski','euclidean','manhattan'],\n",
    "              \"algorithm\": ['auto', 'ball_tree', 'kd_tree', 'brute']}\n",
    "kclf = KNeighborsClassifier()\n",
    "kgclf = GridSearchCV(kclf, param_grid=parameters)\n",
    "kgclf.fit(X_train_cnn, Y_train)\n",
    "KNN_accuracy = kgclf.score(X_test_cnn, Y_test)\n",
    "print('KNN Classifier Accuracy:', KNN_accuracy*100)"
   ]
  },
  {
   "cell_type": "code",
   "execution_count": 43,
   "id": "9eecb2e8",
   "metadata": {
    "execution": {
     "iopub.execute_input": "2023-03-08T18:25:39.956666Z",
     "iopub.status.busy": "2023-03-08T18:25:39.956215Z",
     "iopub.status.idle": "2023-03-08T18:25:45.950647Z",
     "shell.execute_reply": "2023-03-08T18:25:45.948882Z"
    },
    "papermill": {
     "duration": 6.214671,
     "end_time": "2023-03-08T18:25:45.954211",
     "exception": false,
     "start_time": "2023-03-08T18:25:39.739540",
     "status": "completed"
    },
    "tags": []
   },
   "outputs": [
    {
     "name": "stdout",
     "output_type": "stream",
     "text": [
      "KNeighborsClassifier(n_neighbors=1)\n",
      "              precision    recall  f1-score   support\n",
      "\n",
      "       akiec       0.99      1.00      1.00      1359\n",
      "         bcc       0.99      1.00      1.00      1318\n",
      "         bkl       0.96      1.00      0.98      1262\n",
      "          df       1.00      1.00      1.00      1351\n",
      "          nv       0.99      0.91      0.95      1374\n",
      "        vasc       1.00      1.00      1.00      1358\n",
      "         mel       0.95      0.99      0.97      1365\n",
      "\n",
      "    accuracy                           0.99      9387\n",
      "   macro avg       0.99      0.99      0.98      9387\n",
      "weighted avg       0.99      0.99      0.98      9387\n",
      "\n",
      "Accuracy Score: 98.50857568978374\n"
     ]
    }
   ],
   "source": [
    "y_testKNN = kgclf.predict(X_test_cnn)\n",
    "KNNclf = kgclf.best_estimator_\n",
    "print(KNNclf)\n",
    "from sklearn.metrics import confusion_matrix, classification_report, accuracy_score\n",
    "\n",
    "print(classification_report(Y_test, y_testKNN,target_names=target_names))\n",
    "print(\"Accuracy Score: {0}\".format(accuracy_score(Y_test, y_testKNN)*100))"
   ]
  },
  {
   "cell_type": "markdown",
   "id": "1ac6cfef",
   "metadata": {
    "papermill": {
     "duration": 0.141206,
     "end_time": "2023-03-08T18:25:46.253929",
     "exception": false,
     "start_time": "2023-03-08T18:25:46.112723",
     "status": "completed"
    },
    "tags": []
   },
   "source": [
    "## Integrating CNN with Logistic Regression Classifier using Grid Search for Best Perameters"
   ]
  },
  {
   "cell_type": "code",
   "execution_count": 44,
   "id": "0b148b82",
   "metadata": {
    "execution": {
     "iopub.execute_input": "2023-03-08T18:25:46.521044Z",
     "iopub.status.busy": "2023-03-08T18:25:46.520688Z",
     "iopub.status.idle": "2023-03-08T18:26:48.998837Z",
     "shell.execute_reply": "2023-03-08T18:26:48.996876Z"
    },
    "papermill": {
     "duration": 62.753543,
     "end_time": "2023-03-08T18:26:49.148545",
     "exception": false,
     "start_time": "2023-03-08T18:25:46.395002",
     "status": "completed"
    },
    "tags": []
   },
   "outputs": [
    {
     "name": "stderr",
     "output_type": "stream",
     "text": [
      "/opt/conda/lib/python3.7/site-packages/sklearn/linear_model/_logistic.py:818: ConvergenceWarning: lbfgs failed to converge (status=1):\n",
      "STOP: TOTAL NO. of ITERATIONS REACHED LIMIT.\n",
      "\n",
      "Increase the number of iterations (max_iter) or scale the data as shown in:\n",
      "    https://scikit-learn.org/stable/modules/preprocessing.html\n",
      "Please also refer to the documentation for alternative solver options:\n",
      "    https://scikit-learn.org/stable/modules/linear_model.html#logistic-regression\n",
      "  extra_warning_msg=_LOGISTIC_SOLVER_CONVERGENCE_MSG,\n",
      "/opt/conda/lib/python3.7/site-packages/sklearn/linear_model/_logistic.py:818: ConvergenceWarning: lbfgs failed to converge (status=1):\n",
      "STOP: TOTAL NO. of ITERATIONS REACHED LIMIT.\n",
      "\n",
      "Increase the number of iterations (max_iter) or scale the data as shown in:\n",
      "    https://scikit-learn.org/stable/modules/preprocessing.html\n",
      "Please also refer to the documentation for alternative solver options:\n",
      "    https://scikit-learn.org/stable/modules/linear_model.html#logistic-regression\n",
      "  extra_warning_msg=_LOGISTIC_SOLVER_CONVERGENCE_MSG,\n",
      "/opt/conda/lib/python3.7/site-packages/sklearn/linear_model/_logistic.py:818: ConvergenceWarning: lbfgs failed to converge (status=1):\n",
      "STOP: TOTAL NO. of ITERATIONS REACHED LIMIT.\n",
      "\n",
      "Increase the number of iterations (max_iter) or scale the data as shown in:\n",
      "    https://scikit-learn.org/stable/modules/preprocessing.html\n",
      "Please also refer to the documentation for alternative solver options:\n",
      "    https://scikit-learn.org/stable/modules/linear_model.html#logistic-regression\n",
      "  extra_warning_msg=_LOGISTIC_SOLVER_CONVERGENCE_MSG,\n",
      "/opt/conda/lib/python3.7/site-packages/sklearn/linear_model/_logistic.py:818: ConvergenceWarning: lbfgs failed to converge (status=1):\n",
      "STOP: TOTAL NO. of ITERATIONS REACHED LIMIT.\n",
      "\n",
      "Increase the number of iterations (max_iter) or scale the data as shown in:\n",
      "    https://scikit-learn.org/stable/modules/preprocessing.html\n",
      "Please also refer to the documentation for alternative solver options:\n",
      "    https://scikit-learn.org/stable/modules/linear_model.html#logistic-regression\n",
      "  extra_warning_msg=_LOGISTIC_SOLVER_CONVERGENCE_MSG,\n",
      "/opt/conda/lib/python3.7/site-packages/sklearn/linear_model/_logistic.py:818: ConvergenceWarning: lbfgs failed to converge (status=1):\n",
      "STOP: TOTAL NO. of ITERATIONS REACHED LIMIT.\n",
      "\n",
      "Increase the number of iterations (max_iter) or scale the data as shown in:\n",
      "    https://scikit-learn.org/stable/modules/preprocessing.html\n",
      "Please also refer to the documentation for alternative solver options:\n",
      "    https://scikit-learn.org/stable/modules/linear_model.html#logistic-regression\n",
      "  extra_warning_msg=_LOGISTIC_SOLVER_CONVERGENCE_MSG,\n",
      "/opt/conda/lib/python3.7/site-packages/sklearn/linear_model/_logistic.py:818: ConvergenceWarning: lbfgs failed to converge (status=1):\n",
      "STOP: TOTAL NO. of ITERATIONS REACHED LIMIT.\n",
      "\n",
      "Increase the number of iterations (max_iter) or scale the data as shown in:\n",
      "    https://scikit-learn.org/stable/modules/preprocessing.html\n",
      "Please also refer to the documentation for alternative solver options:\n",
      "    https://scikit-learn.org/stable/modules/linear_model.html#logistic-regression\n",
      "  extra_warning_msg=_LOGISTIC_SOLVER_CONVERGENCE_MSG,\n",
      "/opt/conda/lib/python3.7/site-packages/sklearn/linear_model/_logistic.py:818: ConvergenceWarning: lbfgs failed to converge (status=1):\n",
      "STOP: TOTAL NO. of ITERATIONS REACHED LIMIT.\n",
      "\n",
      "Increase the number of iterations (max_iter) or scale the data as shown in:\n",
      "    https://scikit-learn.org/stable/modules/preprocessing.html\n",
      "Please also refer to the documentation for alternative solver options:\n",
      "    https://scikit-learn.org/stable/modules/linear_model.html#logistic-regression\n",
      "  extra_warning_msg=_LOGISTIC_SOLVER_CONVERGENCE_MSG,\n",
      "/opt/conda/lib/python3.7/site-packages/sklearn/linear_model/_logistic.py:818: ConvergenceWarning: lbfgs failed to converge (status=1):\n",
      "STOP: TOTAL NO. of ITERATIONS REACHED LIMIT.\n",
      "\n",
      "Increase the number of iterations (max_iter) or scale the data as shown in:\n",
      "    https://scikit-learn.org/stable/modules/preprocessing.html\n",
      "Please also refer to the documentation for alternative solver options:\n",
      "    https://scikit-learn.org/stable/modules/linear_model.html#logistic-regression\n",
      "  extra_warning_msg=_LOGISTIC_SOLVER_CONVERGENCE_MSG,\n",
      "/opt/conda/lib/python3.7/site-packages/sklearn/linear_model/_logistic.py:818: ConvergenceWarning: lbfgs failed to converge (status=1):\n",
      "STOP: TOTAL NO. of ITERATIONS REACHED LIMIT.\n",
      "\n",
      "Increase the number of iterations (max_iter) or scale the data as shown in:\n",
      "    https://scikit-learn.org/stable/modules/preprocessing.html\n",
      "Please also refer to the documentation for alternative solver options:\n",
      "    https://scikit-learn.org/stable/modules/linear_model.html#logistic-regression\n",
      "  extra_warning_msg=_LOGISTIC_SOLVER_CONVERGENCE_MSG,\n",
      "/opt/conda/lib/python3.7/site-packages/sklearn/linear_model/_logistic.py:818: ConvergenceWarning: lbfgs failed to converge (status=1):\n",
      "STOP: TOTAL NO. of ITERATIONS REACHED LIMIT.\n",
      "\n",
      "Increase the number of iterations (max_iter) or scale the data as shown in:\n",
      "    https://scikit-learn.org/stable/modules/preprocessing.html\n",
      "Please also refer to the documentation for alternative solver options:\n",
      "    https://scikit-learn.org/stable/modules/linear_model.html#logistic-regression\n",
      "  extra_warning_msg=_LOGISTIC_SOLVER_CONVERGENCE_MSG,\n",
      "/opt/conda/lib/python3.7/site-packages/sklearn/linear_model/_logistic.py:818: ConvergenceWarning: lbfgs failed to converge (status=1):\n",
      "STOP: TOTAL NO. of ITERATIONS REACHED LIMIT.\n",
      "\n",
      "Increase the number of iterations (max_iter) or scale the data as shown in:\n",
      "    https://scikit-learn.org/stable/modules/preprocessing.html\n",
      "Please also refer to the documentation for alternative solver options:\n",
      "    https://scikit-learn.org/stable/modules/linear_model.html#logistic-regression\n",
      "  extra_warning_msg=_LOGISTIC_SOLVER_CONVERGENCE_MSG,\n",
      "/opt/conda/lib/python3.7/site-packages/sklearn/linear_model/_logistic.py:818: ConvergenceWarning: lbfgs failed to converge (status=1):\n",
      "STOP: TOTAL NO. of ITERATIONS REACHED LIMIT.\n",
      "\n",
      "Increase the number of iterations (max_iter) or scale the data as shown in:\n",
      "    https://scikit-learn.org/stable/modules/preprocessing.html\n",
      "Please also refer to the documentation for alternative solver options:\n",
      "    https://scikit-learn.org/stable/modules/linear_model.html#logistic-regression\n",
      "  extra_warning_msg=_LOGISTIC_SOLVER_CONVERGENCE_MSG,\n",
      "/opt/conda/lib/python3.7/site-packages/sklearn/linear_model/_logistic.py:818: ConvergenceWarning: lbfgs failed to converge (status=1):\n",
      "STOP: TOTAL NO. of ITERATIONS REACHED LIMIT.\n",
      "\n",
      "Increase the number of iterations (max_iter) or scale the data as shown in:\n",
      "    https://scikit-learn.org/stable/modules/preprocessing.html\n",
      "Please also refer to the documentation for alternative solver options:\n",
      "    https://scikit-learn.org/stable/modules/linear_model.html#logistic-regression\n",
      "  extra_warning_msg=_LOGISTIC_SOLVER_CONVERGENCE_MSG,\n",
      "/opt/conda/lib/python3.7/site-packages/sklearn/linear_model/_logistic.py:818: ConvergenceWarning: lbfgs failed to converge (status=1):\n",
      "STOP: TOTAL NO. of ITERATIONS REACHED LIMIT.\n",
      "\n",
      "Increase the number of iterations (max_iter) or scale the data as shown in:\n",
      "    https://scikit-learn.org/stable/modules/preprocessing.html\n",
      "Please also refer to the documentation for alternative solver options:\n",
      "    https://scikit-learn.org/stable/modules/linear_model.html#logistic-regression\n",
      "  extra_warning_msg=_LOGISTIC_SOLVER_CONVERGENCE_MSG,\n",
      "/opt/conda/lib/python3.7/site-packages/sklearn/linear_model/_logistic.py:818: ConvergenceWarning: lbfgs failed to converge (status=1):\n",
      "STOP: TOTAL NO. of ITERATIONS REACHED LIMIT.\n",
      "\n",
      "Increase the number of iterations (max_iter) or scale the data as shown in:\n",
      "    https://scikit-learn.org/stable/modules/preprocessing.html\n",
      "Please also refer to the documentation for alternative solver options:\n",
      "    https://scikit-learn.org/stable/modules/linear_model.html#logistic-regression\n",
      "  extra_warning_msg=_LOGISTIC_SOLVER_CONVERGENCE_MSG,\n",
      "/opt/conda/lib/python3.7/site-packages/sklearn/linear_model/_logistic.py:818: ConvergenceWarning: lbfgs failed to converge (status=1):\n",
      "STOP: TOTAL NO. of ITERATIONS REACHED LIMIT.\n",
      "\n",
      "Increase the number of iterations (max_iter) or scale the data as shown in:\n",
      "    https://scikit-learn.org/stable/modules/preprocessing.html\n",
      "Please also refer to the documentation for alternative solver options:\n",
      "    https://scikit-learn.org/stable/modules/linear_model.html#logistic-regression\n",
      "  extra_warning_msg=_LOGISTIC_SOLVER_CONVERGENCE_MSG,\n",
      "/opt/conda/lib/python3.7/site-packages/sklearn/linear_model/_logistic.py:818: ConvergenceWarning: lbfgs failed to converge (status=1):\n",
      "STOP: TOTAL NO. of ITERATIONS REACHED LIMIT.\n",
      "\n",
      "Increase the number of iterations (max_iter) or scale the data as shown in:\n",
      "    https://scikit-learn.org/stable/modules/preprocessing.html\n",
      "Please also refer to the documentation for alternative solver options:\n",
      "    https://scikit-learn.org/stable/modules/linear_model.html#logistic-regression\n",
      "  extra_warning_msg=_LOGISTIC_SOLVER_CONVERGENCE_MSG,\n",
      "/opt/conda/lib/python3.7/site-packages/sklearn/linear_model/_logistic.py:818: ConvergenceWarning: lbfgs failed to converge (status=1):\n",
      "STOP: TOTAL NO. of ITERATIONS REACHED LIMIT.\n",
      "\n",
      "Increase the number of iterations (max_iter) or scale the data as shown in:\n",
      "    https://scikit-learn.org/stable/modules/preprocessing.html\n",
      "Please also refer to the documentation for alternative solver options:\n",
      "    https://scikit-learn.org/stable/modules/linear_model.html#logistic-regression\n",
      "  extra_warning_msg=_LOGISTIC_SOLVER_CONVERGENCE_MSG,\n",
      "/opt/conda/lib/python3.7/site-packages/sklearn/linear_model/_logistic.py:818: ConvergenceWarning: lbfgs failed to converge (status=1):\n",
      "STOP: TOTAL NO. of ITERATIONS REACHED LIMIT.\n",
      "\n",
      "Increase the number of iterations (max_iter) or scale the data as shown in:\n",
      "    https://scikit-learn.org/stable/modules/preprocessing.html\n",
      "Please also refer to the documentation for alternative solver options:\n",
      "    https://scikit-learn.org/stable/modules/linear_model.html#logistic-regression\n",
      "  extra_warning_msg=_LOGISTIC_SOLVER_CONVERGENCE_MSG,\n",
      "/opt/conda/lib/python3.7/site-packages/sklearn/linear_model/_logistic.py:818: ConvergenceWarning: lbfgs failed to converge (status=1):\n",
      "STOP: TOTAL NO. of ITERATIONS REACHED LIMIT.\n",
      "\n",
      "Increase the number of iterations (max_iter) or scale the data as shown in:\n",
      "    https://scikit-learn.org/stable/modules/preprocessing.html\n",
      "Please also refer to the documentation for alternative solver options:\n",
      "    https://scikit-learn.org/stable/modules/linear_model.html#logistic-regression\n",
      "  extra_warning_msg=_LOGISTIC_SOLVER_CONVERGENCE_MSG,\n",
      "/opt/conda/lib/python3.7/site-packages/sklearn/linear_model/_logistic.py:818: ConvergenceWarning: lbfgs failed to converge (status=1):\n",
      "STOP: TOTAL NO. of ITERATIONS REACHED LIMIT.\n",
      "\n",
      "Increase the number of iterations (max_iter) or scale the data as shown in:\n",
      "    https://scikit-learn.org/stable/modules/preprocessing.html\n",
      "Please also refer to the documentation for alternative solver options:\n",
      "    https://scikit-learn.org/stable/modules/linear_model.html#logistic-regression\n",
      "  extra_warning_msg=_LOGISTIC_SOLVER_CONVERGENCE_MSG,\n",
      "/opt/conda/lib/python3.7/site-packages/sklearn/linear_model/_logistic.py:818: ConvergenceWarning: lbfgs failed to converge (status=1):\n",
      "STOP: TOTAL NO. of ITERATIONS REACHED LIMIT.\n",
      "\n",
      "Increase the number of iterations (max_iter) or scale the data as shown in:\n",
      "    https://scikit-learn.org/stable/modules/preprocessing.html\n",
      "Please also refer to the documentation for alternative solver options:\n",
      "    https://scikit-learn.org/stable/modules/linear_model.html#logistic-regression\n",
      "  extra_warning_msg=_LOGISTIC_SOLVER_CONVERGENCE_MSG,\n",
      "/opt/conda/lib/python3.7/site-packages/sklearn/linear_model/_logistic.py:818: ConvergenceWarning: lbfgs failed to converge (status=1):\n",
      "STOP: TOTAL NO. of ITERATIONS REACHED LIMIT.\n",
      "\n",
      "Increase the number of iterations (max_iter) or scale the data as shown in:\n",
      "    https://scikit-learn.org/stable/modules/preprocessing.html\n",
      "Please also refer to the documentation for alternative solver options:\n",
      "    https://scikit-learn.org/stable/modules/linear_model.html#logistic-regression\n",
      "  extra_warning_msg=_LOGISTIC_SOLVER_CONVERGENCE_MSG,\n",
      "/opt/conda/lib/python3.7/site-packages/sklearn/linear_model/_logistic.py:818: ConvergenceWarning: lbfgs failed to converge (status=1):\n",
      "STOP: TOTAL NO. of ITERATIONS REACHED LIMIT.\n",
      "\n",
      "Increase the number of iterations (max_iter) or scale the data as shown in:\n",
      "    https://scikit-learn.org/stable/modules/preprocessing.html\n",
      "Please also refer to the documentation for alternative solver options:\n",
      "    https://scikit-learn.org/stable/modules/linear_model.html#logistic-regression\n",
      "  extra_warning_msg=_LOGISTIC_SOLVER_CONVERGENCE_MSG,\n",
      "/opt/conda/lib/python3.7/site-packages/sklearn/linear_model/_logistic.py:818: ConvergenceWarning: lbfgs failed to converge (status=1):\n",
      "STOP: TOTAL NO. of ITERATIONS REACHED LIMIT.\n",
      "\n",
      "Increase the number of iterations (max_iter) or scale the data as shown in:\n",
      "    https://scikit-learn.org/stable/modules/preprocessing.html\n",
      "Please also refer to the documentation for alternative solver options:\n",
      "    https://scikit-learn.org/stable/modules/linear_model.html#logistic-regression\n",
      "  extra_warning_msg=_LOGISTIC_SOLVER_CONVERGENCE_MSG,\n",
      "/opt/conda/lib/python3.7/site-packages/sklearn/linear_model/_logistic.py:818: ConvergenceWarning: lbfgs failed to converge (status=1):\n",
      "STOP: TOTAL NO. of ITERATIONS REACHED LIMIT.\n",
      "\n",
      "Increase the number of iterations (max_iter) or scale the data as shown in:\n",
      "    https://scikit-learn.org/stable/modules/preprocessing.html\n",
      "Please also refer to the documentation for alternative solver options:\n",
      "    https://scikit-learn.org/stable/modules/linear_model.html#logistic-regression\n",
      "  extra_warning_msg=_LOGISTIC_SOLVER_CONVERGENCE_MSG,\n",
      "/opt/conda/lib/python3.7/site-packages/sklearn/linear_model/_logistic.py:818: ConvergenceWarning: lbfgs failed to converge (status=1):\n",
      "STOP: TOTAL NO. of ITERATIONS REACHED LIMIT.\n",
      "\n",
      "Increase the number of iterations (max_iter) or scale the data as shown in:\n",
      "    https://scikit-learn.org/stable/modules/preprocessing.html\n",
      "Please also refer to the documentation for alternative solver options:\n",
      "    https://scikit-learn.org/stable/modules/linear_model.html#logistic-regression\n",
      "  extra_warning_msg=_LOGISTIC_SOLVER_CONVERGENCE_MSG,\n",
      "/opt/conda/lib/python3.7/site-packages/sklearn/linear_model/_logistic.py:818: ConvergenceWarning: lbfgs failed to converge (status=1):\n",
      "STOP: TOTAL NO. of ITERATIONS REACHED LIMIT.\n",
      "\n",
      "Increase the number of iterations (max_iter) or scale the data as shown in:\n",
      "    https://scikit-learn.org/stable/modules/preprocessing.html\n",
      "Please also refer to the documentation for alternative solver options:\n",
      "    https://scikit-learn.org/stable/modules/linear_model.html#logistic-regression\n",
      "  extra_warning_msg=_LOGISTIC_SOLVER_CONVERGENCE_MSG,\n",
      "/opt/conda/lib/python3.7/site-packages/sklearn/linear_model/_logistic.py:818: ConvergenceWarning: lbfgs failed to converge (status=1):\n",
      "STOP: TOTAL NO. of ITERATIONS REACHED LIMIT.\n",
      "\n",
      "Increase the number of iterations (max_iter) or scale the data as shown in:\n",
      "    https://scikit-learn.org/stable/modules/preprocessing.html\n",
      "Please also refer to the documentation for alternative solver options:\n",
      "    https://scikit-learn.org/stable/modules/linear_model.html#logistic-regression\n",
      "  extra_warning_msg=_LOGISTIC_SOLVER_CONVERGENCE_MSG,\n",
      "/opt/conda/lib/python3.7/site-packages/sklearn/linear_model/_logistic.py:818: ConvergenceWarning: lbfgs failed to converge (status=1):\n",
      "STOP: TOTAL NO. of ITERATIONS REACHED LIMIT.\n",
      "\n",
      "Increase the number of iterations (max_iter) or scale the data as shown in:\n",
      "    https://scikit-learn.org/stable/modules/preprocessing.html\n",
      "Please also refer to the documentation for alternative solver options:\n",
      "    https://scikit-learn.org/stable/modules/linear_model.html#logistic-regression\n",
      "  extra_warning_msg=_LOGISTIC_SOLVER_CONVERGENCE_MSG,\n",
      "/opt/conda/lib/python3.7/site-packages/sklearn/model_selection/_validation.py:372: FitFailedWarning: \n",
      "30 fits failed out of a total of 60.\n",
      "The score on these train-test partitions for these parameters will be set to nan.\n",
      "If these failures are not expected, you can try to debug them by setting error_score='raise'.\n",
      "\n",
      "Below are more details about the failures:\n",
      "--------------------------------------------------------------------------------\n",
      "30 fits failed with the following error:\n",
      "Traceback (most recent call last):\n",
      "  File \"/opt/conda/lib/python3.7/site-packages/sklearn/model_selection/_validation.py\", line 680, in _fit_and_score\n",
      "    estimator.fit(X_train, y_train, **fit_params)\n",
      "  File \"/opt/conda/lib/python3.7/site-packages/sklearn/linear_model/_logistic.py\", line 1461, in fit\n",
      "    solver = _check_solver(self.solver, self.penalty, self.dual)\n",
      "  File \"/opt/conda/lib/python3.7/site-packages/sklearn/linear_model/_logistic.py\", line 449, in _check_solver\n",
      "    % (solver, penalty)\n",
      "ValueError: Solver lbfgs supports only 'l2' or 'none' penalties, got l1 penalty.\n",
      "\n",
      "  warnings.warn(some_fits_failed_message, FitFailedWarning)\n",
      "/opt/conda/lib/python3.7/site-packages/sklearn/model_selection/_search.py:972: UserWarning: One or more of the test scores are non-finite: [       nan 0.99432689        nan 0.99533896        nan 0.99579175\n",
      "        nan 0.99573848        nan 0.99584502        nan 0.99595156]\n",
      "  category=UserWarning,\n"
     ]
    },
    {
     "name": "stdout",
     "output_type": "stream",
     "text": [
      "Best hyperparameters:  {'C': 100, 'penalty': 'l2'}\n",
      "              precision    recall  f1-score   support\n",
      "\n",
      "       akiec       0.99      1.00      1.00      1359\n",
      "         bcc       0.99      1.00      1.00      1318\n",
      "         bkl       0.96      0.98      0.97      1262\n",
      "          df       1.00      1.00      1.00      1351\n",
      "          nv       0.98      0.90      0.94      1374\n",
      "        vasc       1.00      1.00      1.00      1358\n",
      "         mel       0.94      0.98      0.96      1365\n",
      "\n",
      "    accuracy                           0.98      9387\n",
      "   macro avg       0.98      0.98      0.98      9387\n",
      "weighted avg       0.98      0.98      0.98      9387\n",
      "\n",
      "Accuracy: 98.07180142750612\n"
     ]
    },
    {
     "name": "stderr",
     "output_type": "stream",
     "text": [
      "/opt/conda/lib/python3.7/site-packages/sklearn/linear_model/_logistic.py:818: ConvergenceWarning: lbfgs failed to converge (status=1):\n",
      "STOP: TOTAL NO. of ITERATIONS REACHED LIMIT.\n",
      "\n",
      "Increase the number of iterations (max_iter) or scale the data as shown in:\n",
      "    https://scikit-learn.org/stable/modules/preprocessing.html\n",
      "Please also refer to the documentation for alternative solver options:\n",
      "    https://scikit-learn.org/stable/modules/linear_model.html#logistic-regression\n",
      "  extra_warning_msg=_LOGISTIC_SOLVER_CONVERGENCE_MSG,\n"
     ]
    }
   ],
   "source": [
    "from sklearn.linear_model import LogisticRegression\n",
    "from sklearn.model_selection import GridSearchCV\n",
    "from sklearn.metrics import accuracy_score\n",
    "from sklearn.metrics import confusion_matrix, classification_report, accuracy_score\n",
    "\n",
    "\n",
    "\n",
    "# Create a logistic regression object\n",
    "lr = LogisticRegression()\n",
    "\n",
    "# Define the hyperparameter grid to search over\n",
    "param_grid = {'C': [0.001, 0.01, 0.1, 1, 10, 100], \n",
    "              'penalty': ['l1', 'l2']}\n",
    "\n",
    "# Perform grid search with 5-fold cross-validation\n",
    "grid_search_LR = GridSearchCV(lr, param_grid, cv=5)\n",
    "grid_search_LR.fit(X_train_cnn, Y_train)\n",
    "\n",
    "# Print the best hyperparameters and the corresponding accuracy score\n",
    "print(\"Best hyperparameters: \", grid_search_LR.best_params_)\n",
    "y_test_LR = grid_search_LR.predict(X_test_cnn)\n",
    "\n",
    "print(classification_report(Y_test, y_test_LR,target_names=target_names))\n",
    "print(\"Accuracy: {0}\".format(accuracy_score(Y_test, y_test_LR)*100))\n"
   ]
  },
  {
   "cell_type": "code",
   "execution_count": null,
   "id": "71ec62f7",
   "metadata": {
    "papermill": {
     "duration": 0.095401,
     "end_time": "2023-03-08T18:26:49.339156",
     "exception": false,
     "start_time": "2023-03-08T18:26:49.243755",
     "status": "completed"
    },
    "tags": []
   },
   "outputs": [],
   "source": []
  },
  {
   "cell_type": "code",
   "execution_count": null,
   "id": "bb1a98e6",
   "metadata": {
    "papermill": {
     "duration": 0.095598,
     "end_time": "2023-03-08T18:26:49.530423",
     "exception": false,
     "start_time": "2023-03-08T18:26:49.434825",
     "status": "completed"
    },
    "tags": []
   },
   "outputs": [],
   "source": []
  },
  {
   "cell_type": "code",
   "execution_count": null,
   "id": "384de697",
   "metadata": {
    "papermill": {
     "duration": 0.095416,
     "end_time": "2023-03-08T18:26:49.721332",
     "exception": false,
     "start_time": "2023-03-08T18:26:49.625916",
     "status": "completed"
    },
    "tags": []
   },
   "outputs": [],
   "source": []
  },
  {
   "cell_type": "code",
   "execution_count": null,
   "id": "dd24976e",
   "metadata": {
    "papermill": {
     "duration": 0.095297,
     "end_time": "2023-03-08T18:26:49.913496",
     "exception": false,
     "start_time": "2023-03-08T18:26:49.818199",
     "status": "completed"
    },
    "tags": []
   },
   "outputs": [],
   "source": []
  }
 ],
 "metadata": {
  "kernelspec": {
   "display_name": "Python 3",
   "language": "python",
   "name": "python3"
  },
  "language_info": {
   "codemirror_mode": {
    "name": "ipython",
    "version": 3
   },
   "file_extension": ".py",
   "mimetype": "text/x-python",
   "name": "python",
   "nbconvert_exporter": "python",
   "pygments_lexer": "ipython3",
   "version": "3.7.12"
  },
  "papermill": {
   "default_parameters": {},
   "duration": 4114.955724,
   "end_time": "2023-03-08T18:26:53.818225",
   "environment_variables": {},
   "exception": null,
   "input_path": "__notebook__.ipynb",
   "output_path": "__notebook__.ipynb",
   "parameters": {},
   "start_time": "2023-03-08T17:18:18.862501",
   "version": "2.4.0"
  }
 },
 "nbformat": 4,
 "nbformat_minor": 5
}
