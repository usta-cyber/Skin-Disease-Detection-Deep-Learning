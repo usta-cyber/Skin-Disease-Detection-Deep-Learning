{
 "cells": [
  {
   "cell_type": "code",
   "execution_count": 1,
   "id": "e09c8007",
   "metadata": {
    "_cell_guid": "b1076dfc-b9ad-4769-8c92-a6c4dae69d19",
    "_uuid": "8f2839f25d086af736a60e9eeb907d3b93b6e0e5",
    "execution": {
     "iopub.execute_input": "2023-03-01T17:47:34.103470Z",
     "iopub.status.busy": "2023-03-01T17:47:34.102875Z",
     "iopub.status.idle": "2023-03-01T17:47:51.063028Z",
     "shell.execute_reply": "2023-03-01T17:47:51.061786Z"
    },
    "papermill": {
     "duration": 16.96919,
     "end_time": "2023-03-01T17:47:51.066021",
     "exception": false,
     "start_time": "2023-03-01T17:47:34.096831",
     "status": "completed"
    },
    "tags": []
   },
   "outputs": [],
   "source": [
    "# This Python 3 environment comes with many helpful analytics libraries installed\n",
    "# It is defined by the kaggle/python Docker image: https://github.com/kaggle/docker-python\n",
    "# For example, here's several helpful packages to load\n",
    "\n",
    "import numpy as np # linear algebra\n",
    "import pandas as pd # data processing, CSV file I/O (e.g. pd.read_csv)\n",
    "\n",
    "# Input data files are available in the read-only \"../input/\" directory\n",
    "# For example, running this (by clicking run or pressing Shift+Enter) will list all files under the input directory\n",
    "\n",
    "import os\n",
    "for dirname, _, filenames in os.walk('/kaggle/input'):\n",
    "    for filename in filenames:\n",
    "        os.path.join(dirname, filename)\n",
    "\n",
    "# You can write up to 20GB to the current directory (/kaggle/working/) that gets preserved as output when you create a version using \"Save & Run All\" \n",
    "# You can also write temporary files to /kaggle/temp/, but they won't be saved outside of the current session"
   ]
  },
  {
   "cell_type": "code",
   "execution_count": 2,
   "id": "7da9a947",
   "metadata": {
    "execution": {
     "iopub.execute_input": "2023-03-01T17:47:51.074804Z",
     "iopub.status.busy": "2023-03-01T17:47:51.074485Z",
     "iopub.status.idle": "2023-03-01T17:48:03.448146Z",
     "shell.execute_reply": "2023-03-01T17:48:03.446894Z"
    },
    "papermill": {
     "duration": 12.381269,
     "end_time": "2023-03-01T17:48:03.451111",
     "exception": false,
     "start_time": "2023-03-01T17:47:51.069842",
     "status": "completed"
    },
    "tags": []
   },
   "outputs": [
    {
     "name": "stdout",
     "output_type": "stream",
     "text": [
      "Collecting keras-drop-block\r\n",
      "  Downloading keras-drop-block-0.7.0.tar.gz (4.5 kB)\r\n",
      "  Preparing metadata (setup.py) ... \u001b[?25l-\b \bdone\r\n",
      "\u001b[?25hBuilding wheels for collected packages: keras-drop-block\r\n",
      "  Building wheel for keras-drop-block (setup.py) ... \u001b[?25l-\b \b\\\b \bdone\r\n",
      "\u001b[?25h  Created wheel for keras-drop-block: filename=keras_drop_block-0.7.0-py3-none-any.whl size=6253 sha256=6e1b5588ffa683ed71a18a4a243bc3c89c08a1b67a9085ca6a85527cd35ff4ab\r\n",
      "  Stored in directory: /root/.cache/pip/wheels/7a/5b/37/ffe0a1505f67d295bfec16f93115fc5d114bb7c164fa83d16d\r\n",
      "Successfully built keras-drop-block\r\n",
      "Installing collected packages: keras-drop-block\r\n",
      "Successfully installed keras-drop-block-0.7.0\r\n",
      "\u001b[33mWARNING: Running pip as the 'root' user can result in broken permissions and conflicting behaviour with the system package manager. It is recommended to use a virtual environment instead: https://pip.pypa.io/warnings/venv\u001b[0m\u001b[33m\r\n",
      "\u001b[0m"
     ]
    }
   ],
   "source": [
    "!pip install keras-drop-block"
   ]
  },
  {
   "cell_type": "code",
   "execution_count": 3,
   "id": "4faf1ab2",
   "metadata": {
    "execution": {
     "iopub.execute_input": "2023-03-01T17:48:03.461054Z",
     "iopub.status.busy": "2023-03-01T17:48:03.460715Z",
     "iopub.status.idle": "2023-03-01T17:48:11.554730Z",
     "shell.execute_reply": "2023-03-01T17:48:11.553593Z"
    },
    "papermill": {
     "duration": 8.102459,
     "end_time": "2023-03-01T17:48:11.558033",
     "exception": false,
     "start_time": "2023-03-01T17:48:03.455574",
     "status": "completed"
    },
    "tags": []
   },
   "outputs": [
    {
     "name": "stdout",
     "output_type": "stream",
     "text": [
      "done\n"
     ]
    }
   ],
   "source": [
    "from numpy.random import seed\n",
    "seed(1)\n",
    "import matplotlib.pyplot as plt\n",
    "import numpy as np\n",
    "import pandas as pd\n",
    "import os\n",
    "from glob import glob\n",
    "import seaborn as sns\n",
    "from PIL import Image\n",
    "from sklearn.preprocessing import label_binarize\n",
    "from sklearn.metrics import confusion_matrix\n",
    "from sklearn.model_selection import GridSearchCV\n",
    "from sklearn.model_selection import train_test_split\n",
    "from sklearn.metrics import f1_score\n",
    "import itertools\n",
    "import tensorflow\n",
    "import tensorflow.keras\n",
    "from tensorflow.keras.applications import ResNet152, Xception,VGG16,EfficientNetB4\n",
    "from tensorflow.keras.models import Sequential, Model\n",
    "#from tensorflow.keras.layers import Activation,Dense, Dropout, Flatten, Conv2D, MaxPool2D,AveragePooling2D,GlobalMaxPooling2D\n",
    "from tensorflow.keras.layers import Activation,Dense, Dropout, Flatten, Conv2D, MaxPool2D,AveragePooling2D,GlobalMaxPooling2D,GlobalAveragePooling2D\n",
    "from tensorflow.keras import backend as K\n",
    "from tensorflow.keras.wrappers.scikit_learn import KerasClassifier\n",
    "from tensorflow.keras import regularizers\n",
    "from tensorflow.keras.optimizers import Adam, SGD\n",
    "from tensorflow.keras.preprocessing.image import ImageDataGenerator\n",
    "from tensorflow.keras.callbacks import ReduceLROnPlateau, EarlyStopping\n",
    "np.random.seed(123)\n",
    "print(\"done\")"
   ]
  },
  {
   "cell_type": "code",
   "execution_count": 4,
   "id": "504e83d1",
   "metadata": {
    "execution": {
     "iopub.execute_input": "2023-03-01T17:48:11.568811Z",
     "iopub.status.busy": "2023-03-01T17:48:11.567834Z",
     "iopub.status.idle": "2023-03-01T17:48:11.746741Z",
     "shell.execute_reply": "2023-03-01T17:48:11.745654Z"
    },
    "papermill": {
     "duration": 0.186406,
     "end_time": "2023-03-01T17:48:11.749055",
     "exception": false,
     "start_time": "2023-03-01T17:48:11.562649",
     "status": "completed"
    },
    "tags": []
   },
   "outputs": [
    {
     "data": {
      "text/html": [
       "<div>\n",
       "<style scoped>\n",
       "    .dataframe tbody tr th:only-of-type {\n",
       "        vertical-align: middle;\n",
       "    }\n",
       "\n",
       "    .dataframe tbody tr th {\n",
       "        vertical-align: top;\n",
       "    }\n",
       "\n",
       "    .dataframe thead th {\n",
       "        text-align: right;\n",
       "    }\n",
       "</style>\n",
       "<table border=\"1\" class=\"dataframe\">\n",
       "  <thead>\n",
       "    <tr style=\"text-align: right;\">\n",
       "      <th></th>\n",
       "      <th>lesion_id</th>\n",
       "      <th>image_id</th>\n",
       "      <th>dx_type</th>\n",
       "      <th>age</th>\n",
       "      <th>sex</th>\n",
       "      <th>localization</th>\n",
       "      <th>path</th>\n",
       "      <th>cell_type</th>\n",
       "      <th>cell_type_idx</th>\n",
       "    </tr>\n",
       "    <tr>\n",
       "      <th>dx</th>\n",
       "      <th></th>\n",
       "      <th></th>\n",
       "      <th></th>\n",
       "      <th></th>\n",
       "      <th></th>\n",
       "      <th></th>\n",
       "      <th></th>\n",
       "      <th></th>\n",
       "      <th></th>\n",
       "    </tr>\n",
       "  </thead>\n",
       "  <tbody>\n",
       "    <tr>\n",
       "      <th>akiec</th>\n",
       "      <td>327</td>\n",
       "      <td>327</td>\n",
       "      <td>327</td>\n",
       "      <td>327</td>\n",
       "      <td>327</td>\n",
       "      <td>327</td>\n",
       "      <td>327</td>\n",
       "      <td>327</td>\n",
       "      <td>327</td>\n",
       "    </tr>\n",
       "    <tr>\n",
       "      <th>bcc</th>\n",
       "      <td>514</td>\n",
       "      <td>514</td>\n",
       "      <td>514</td>\n",
       "      <td>514</td>\n",
       "      <td>514</td>\n",
       "      <td>514</td>\n",
       "      <td>514</td>\n",
       "      <td>514</td>\n",
       "      <td>514</td>\n",
       "    </tr>\n",
       "    <tr>\n",
       "      <th>bkl</th>\n",
       "      <td>1099</td>\n",
       "      <td>1099</td>\n",
       "      <td>1099</td>\n",
       "      <td>1089</td>\n",
       "      <td>1099</td>\n",
       "      <td>1099</td>\n",
       "      <td>1099</td>\n",
       "      <td>1099</td>\n",
       "      <td>1099</td>\n",
       "    </tr>\n",
       "    <tr>\n",
       "      <th>df</th>\n",
       "      <td>115</td>\n",
       "      <td>115</td>\n",
       "      <td>115</td>\n",
       "      <td>115</td>\n",
       "      <td>115</td>\n",
       "      <td>115</td>\n",
       "      <td>115</td>\n",
       "      <td>115</td>\n",
       "      <td>115</td>\n",
       "    </tr>\n",
       "    <tr>\n",
       "      <th>mel</th>\n",
       "      <td>1113</td>\n",
       "      <td>1113</td>\n",
       "      <td>1113</td>\n",
       "      <td>1111</td>\n",
       "      <td>1113</td>\n",
       "      <td>1113</td>\n",
       "      <td>1113</td>\n",
       "      <td>1113</td>\n",
       "      <td>1113</td>\n",
       "    </tr>\n",
       "    <tr>\n",
       "      <th>nv</th>\n",
       "      <td>6705</td>\n",
       "      <td>6705</td>\n",
       "      <td>6705</td>\n",
       "      <td>6660</td>\n",
       "      <td>6705</td>\n",
       "      <td>6705</td>\n",
       "      <td>6705</td>\n",
       "      <td>6705</td>\n",
       "      <td>6705</td>\n",
       "    </tr>\n",
       "    <tr>\n",
       "      <th>vasc</th>\n",
       "      <td>142</td>\n",
       "      <td>142</td>\n",
       "      <td>142</td>\n",
       "      <td>142</td>\n",
       "      <td>142</td>\n",
       "      <td>142</td>\n",
       "      <td>142</td>\n",
       "      <td>142</td>\n",
       "      <td>142</td>\n",
       "    </tr>\n",
       "  </tbody>\n",
       "</table>\n",
       "</div>"
      ],
      "text/plain": [
       "       lesion_id  image_id  dx_type   age   sex  localization  path  \\\n",
       "dx                                                                    \n",
       "akiec        327       327      327   327   327           327   327   \n",
       "bcc          514       514      514   514   514           514   514   \n",
       "bkl         1099      1099     1099  1089  1099          1099  1099   \n",
       "df           115       115      115   115   115           115   115   \n",
       "mel         1113      1113     1113  1111  1113          1113  1113   \n",
       "nv          6705      6705     6705  6660  6705          6705  6705   \n",
       "vasc         142       142      142   142   142           142   142   \n",
       "\n",
       "       cell_type  cell_type_idx  \n",
       "dx                               \n",
       "akiec        327            327  \n",
       "bcc          514            514  \n",
       "bkl         1099           1099  \n",
       "df           115            115  \n",
       "mel         1113           1113  \n",
       "nv          6705           6705  \n",
       "vasc         142            142  "
      ]
     },
     "execution_count": 4,
     "metadata": {},
     "output_type": "execute_result"
    }
   ],
   "source": [
    "lesion_type_dict = {'akiec': 'Actinic keratoses',\n",
    "                    'bcc': 'Basal cell carcinoma',\n",
    "                    'bkl': 'Benign keratosis-like lesions ',\n",
    "                    'df': 'Dermatofibroma',\n",
    "                    'nv': 'Melanocytic nevi',\n",
    "                    'mel': 'Melanoma',\n",
    "                    'vasc': 'Vascular lesions'}\n",
    "\n",
    "base_skin_dir = os.path.join('..', 'input')\n",
    "imageid_path_dict = {os.path.splitext(os.path.basename(x))[0]: x for x in glob(os.path.join(base_skin_dir, '*','*', '*.jpg'))}\n",
    "skin_df = pd.read_csv('../input/skin-cancer-mnist-ham10000/HAM10000_metadata.csv')\n",
    "skin_df['path'] = skin_df['image_id'].map(imageid_path_dict.get)\n",
    "skin_df['cell_type'] = skin_df['dx'].map(lesion_type_dict.get) \n",
    "skin_df['cell_type_idx'] = pd.Categorical(skin_df['cell_type']).codes\n",
    "skin_df.groupby(['dx']).count()"
   ]
  },
  {
   "cell_type": "code",
   "execution_count": 5,
   "id": "4de00d87",
   "metadata": {
    "execution": {
     "iopub.execute_input": "2023-03-01T17:48:11.760930Z",
     "iopub.status.busy": "2023-03-01T17:48:11.759182Z",
     "iopub.status.idle": "2023-03-01T17:51:18.708172Z",
     "shell.execute_reply": "2023-03-01T17:51:18.707089Z"
    },
    "papermill": {
     "duration": 186.957234,
     "end_time": "2023-03-01T17:51:18.711141",
     "exception": false,
     "start_time": "2023-03-01T17:48:11.753907",
     "status": "completed"
    },
    "tags": []
   },
   "outputs": [],
   "source": [
    "skin_df['image'] = skin_df['path'].map(lambda x: np.asarray(Image.open(x).resize((75,100))))\n",
    "features=skin_df.drop(columns=['cell_type_idx'],axis=1)\n",
    "target=skin_df['cell_type_idx']"
   ]
  },
  {
   "cell_type": "code",
   "execution_count": 6,
   "id": "2e44cf18",
   "metadata": {
    "execution": {
     "iopub.execute_input": "2023-03-01T17:51:18.721566Z",
     "iopub.status.busy": "2023-03-01T17:51:18.721203Z",
     "iopub.status.idle": "2023-03-01T17:51:21.032608Z",
     "shell.execute_reply": "2023-03-01T17:51:21.031546Z"
    },
    "papermill": {
     "duration": 2.319537,
     "end_time": "2023-03-01T17:51:21.035371",
     "exception": false,
     "start_time": "2023-03-01T17:51:18.715834",
     "status": "completed"
    },
    "tags": []
   },
   "outputs": [],
   "source": [
    "from tensorflow.keras.utils import to_categorical\n",
    "x_train_o, x_test_o, y_train_o, y_test_o = train_test_split(features, target, test_size=0.2,random_state=666)\n",
    "x_train = np.asarray(x_train_o['image'].tolist())\n",
    "x_test = np.asarray(x_test_o['image'].tolist())\n",
    "x_train_mean = np.mean(x_train)\n",
    "x_train_std = np.std(x_train)\n",
    "x_test_mean = np.mean(x_test)\n",
    "x_test_std = np.std(x_test)\n",
    "x_train = (x_train - x_train_mean)/x_train_std\n",
    "x_test = (x_test - x_test_mean)/x_test_std\n",
    "y_train = to_categorical(y_train_o, num_classes = 7)\n",
    "y_test = to_categorical(y_test_o, num_classes = 7)\n",
    "x_train, x_validate, y_train, y_validate = train_test_split(x_train, y_train, test_size = 0.1, random_state = 999)"
   ]
  },
  {
   "cell_type": "code",
   "execution_count": 7,
   "id": "4ff88f46",
   "metadata": {
    "execution": {
     "iopub.execute_input": "2023-03-01T17:51:21.045521Z",
     "iopub.status.busy": "2023-03-01T17:51:21.045209Z",
     "iopub.status.idle": "2023-03-01T17:51:21.050943Z",
     "shell.execute_reply": "2023-03-01T17:51:21.049990Z"
    },
    "papermill": {
     "duration": 0.013254,
     "end_time": "2023-03-01T17:51:21.053101",
     "exception": false,
     "start_time": "2023-03-01T17:51:21.039847",
     "status": "completed"
    },
    "tags": []
   },
   "outputs": [],
   "source": [
    "#Reshaping the Images into 3 channels (RGB)\n",
    "x_train = x_train.reshape(x_train.shape[0], *(75, 100, 3))\n",
    "x_test = x_test.reshape(x_test.shape[0], *(75, 100, 3))\n",
    "x_validate = x_validate.reshape(x_validate.shape[0], *(75, 100, 3))"
   ]
  },
  {
   "cell_type": "code",
   "execution_count": 8,
   "id": "ed13a2eb",
   "metadata": {
    "execution": {
     "iopub.execute_input": "2023-03-01T17:51:21.062782Z",
     "iopub.status.busy": "2023-03-01T17:51:21.062506Z",
     "iopub.status.idle": "2023-03-01T17:51:24.121912Z",
     "shell.execute_reply": "2023-03-01T17:51:24.120821Z"
    },
    "papermill": {
     "duration": 3.067419,
     "end_time": "2023-03-01T17:51:24.124716",
     "exception": false,
     "start_time": "2023-03-01T17:51:21.057297",
     "status": "completed"
    },
    "tags": []
   },
   "outputs": [],
   "source": [
    "input_shape = (75, 100, 3)\n",
    "num_classes = 7\n",
    "optimizer = Adam(learning_rate=0.001, beta_1=0.9, beta_2=0.999, epsilon=None, amsgrad=False)\n",
    "learning_rate_reduction = ReduceLROnPlateau(monitor='val_acc', patience=4, verbose=1, factor=0.5, min_learning_rate=0.00001)\n",
    "\n",
    "#Data Generation\n",
    "datagen = ImageDataGenerator(\n",
    "        featurewise_center=False, \n",
    "        samplewise_center=False, \n",
    "        featurewise_std_normalization=False,\n",
    "        samplewise_std_normalization=False,\n",
    "        zca_whitening=False,\n",
    "        rotation_range=90,\n",
    "        zoom_range = 0.1,\n",
    "        width_shift_range=0.1,\n",
    "        height_shift_range=0.1,\n",
    "        horizontal_flip=True,\n",
    "        vertical_flip=True,\n",
    "        shear_range = 10) \n",
    "datagen.fit(x_train)"
   ]
  },
  {
   "cell_type": "code",
   "execution_count": 9,
   "id": "0c3935d6",
   "metadata": {
    "execution": {
     "iopub.execute_input": "2023-03-01T17:51:24.137666Z",
     "iopub.status.busy": "2023-03-01T17:51:24.136009Z",
     "iopub.status.idle": "2023-03-01T17:51:24.142162Z",
     "shell.execute_reply": "2023-03-01T17:51:24.141261Z"
    },
    "papermill": {
     "duration": 0.014011,
     "end_time": "2023-03-01T17:51:24.144012",
     "exception": false,
     "start_time": "2023-03-01T17:51:24.130001",
     "status": "completed"
    },
    "tags": []
   },
   "outputs": [],
   "source": [
    "import keras\n",
    "EarlyStop = keras.callbacks.EarlyStopping(\n",
    "               min_delta = 0.001,\n",
    "               patience = 10 ,\n",
    "               verbose = 0)"
   ]
  },
  {
   "cell_type": "code",
   "execution_count": 10,
   "id": "fded181b",
   "metadata": {
    "execution": {
     "iopub.execute_input": "2023-03-01T17:51:24.154860Z",
     "iopub.status.busy": "2023-03-01T17:51:24.153270Z",
     "iopub.status.idle": "2023-03-01T17:51:25.350028Z",
     "shell.execute_reply": "2023-03-01T17:51:25.349131Z"
    },
    "papermill": {
     "duration": 1.251458,
     "end_time": "2023-03-01T17:51:25.399487",
     "exception": false,
     "start_time": "2023-03-01T17:51:24.148029",
     "status": "completed"
    },
    "tags": []
   },
   "outputs": [
    {
     "name": "stdout",
     "output_type": "stream",
     "text": [
      "Downloading data from https://storage.googleapis.com/tensorflow/keras-applications/vgg16/vgg16_weights_tf_dim_ordering_tf_kernels_notop.h5\n",
      "58889256/58889256 [==============================] - 0s 0us/step\n",
      "Model: \"model\"\n",
      "_________________________________________________________________\n",
      " Layer (type)                Output Shape              Param #   \n",
      "=================================================================\n",
      " input_1 (InputLayer)        [(None, 75, 100, 3)]      0         \n",
      "                                                                 \n",
      " block1_conv1 (Conv2D)       (None, 75, 100, 64)       1792      \n",
      "                                                                 \n",
      " block1_conv2 (Conv2D)       (None, 75, 100, 64)       36928     \n",
      "                                                                 \n",
      " block1_pool (MaxPooling2D)  (None, 37, 50, 64)        0         \n",
      "                                                                 \n",
      " block2_conv1 (Conv2D)       (None, 37, 50, 128)       73856     \n",
      "                                                                 \n",
      " block2_conv2 (Conv2D)       (None, 37, 50, 128)       147584    \n",
      "                                                                 \n",
      " block2_pool (MaxPooling2D)  (None, 18, 25, 128)       0         \n",
      "                                                                 \n",
      " block3_conv1 (Conv2D)       (None, 18, 25, 256)       295168    \n",
      "                                                                 \n",
      " block3_conv2 (Conv2D)       (None, 18, 25, 256)       590080    \n",
      "                                                                 \n",
      " block3_conv3 (Conv2D)       (None, 18, 25, 256)       590080    \n",
      "                                                                 \n",
      " block3_pool (MaxPooling2D)  (None, 9, 12, 256)        0         \n",
      "                                                                 \n",
      " block4_conv1 (Conv2D)       (None, 9, 12, 512)        1180160   \n",
      "                                                                 \n",
      " block4_conv2 (Conv2D)       (None, 9, 12, 512)        2359808   \n",
      "                                                                 \n",
      " block4_conv3 (Conv2D)       (None, 9, 12, 512)        2359808   \n",
      "                                                                 \n",
      " block4_pool (MaxPooling2D)  (None, 4, 6, 512)         0         \n",
      "                                                                 \n",
      " block5_conv1 (Conv2D)       (None, 4, 6, 512)         2359808   \n",
      "                                                                 \n",
      " block5_conv2 (Conv2D)       (None, 4, 6, 512)         2359808   \n",
      "                                                                 \n",
      " block5_conv3 (Conv2D)       (None, 4, 6, 512)         2359808   \n",
      "                                                                 \n",
      " block5_pool (MaxPooling2D)  (None, 2, 3, 512)         0         \n",
      "                                                                 \n",
      " dropout (Dropout)           (None, 2, 3, 512)         0         \n",
      "                                                                 \n",
      " batch_normalization (BatchN  (None, 2, 3, 512)        2048      \n",
      " ormalization)                                                   \n",
      "                                                                 \n",
      " average_pooling2d (AverageP  (None, 1, 1, 512)        0         \n",
      " ooling2D)                                                       \n",
      "                                                                 \n",
      " flatten (Flatten)           (None, 512)               0         \n",
      "                                                                 \n",
      " dense (Dense)               (None, 64)                32832     \n",
      "                                                                 \n",
      " dropout_1 (Dropout)         (None, 64)                0         \n",
      "                                                                 \n",
      " dense_1 (Dense)             (None, 7)                 455       \n",
      "                                                                 \n",
      "=================================================================\n",
      "Total params: 14,750,023\n",
      "Trainable params: 34,311\n",
      "Non-trainable params: 14,715,712\n",
      "_________________________________________________________________\n"
     ]
    }
   ],
   "source": [
    "from tensorflow.keras.layers import SpatialDropout2D\n",
    "from tensorflow.keras.layers import BatchNormalization\n",
    "from keras_drop_block import DropBlock2D\n",
    "baseModel = VGG16(weights='imagenet', include_top=False, input_shape=input_shape)\n",
    "headModel = baseModel.output\n",
    "\n",
    "headModel_DO = Dropout(0.5)(headModel)\n",
    "headModel_DO = BatchNormalization()(headModel_DO)\n",
    "headModel_DO = AveragePooling2D()(headModel_DO)\n",
    "headModel_DO = Flatten(name=\"flatten\")(headModel_DO)\n",
    "headModel_DO = Dense(64, activation=\"relu\")(headModel_DO)\n",
    "headModel_DO = Dropout(0.5)(headModel_DO)\n",
    "headModel_DO = Dense(7, activation=\"softmax\")(headModel_DO)\n",
    "model_DO = Model(inputs=baseModel.input, outputs=headModel_DO)\n",
    "for layer in baseModel.layers:\n",
    "    layer.trainable = False\n",
    "    \n",
    "model_DO.summary()"
   ]
  },
  {
   "cell_type": "code",
   "execution_count": 11,
   "id": "0921ffe1",
   "metadata": {
    "execution": {
     "iopub.execute_input": "2023-03-01T17:51:25.416988Z",
     "iopub.status.busy": "2023-03-01T17:51:25.416607Z",
     "iopub.status.idle": "2023-03-01T17:51:25.421687Z",
     "shell.execute_reply": "2023-03-01T17:51:25.420609Z"
    },
    "papermill": {
     "duration": 0.016308,
     "end_time": "2023-03-01T17:51:25.423767",
     "exception": false,
     "start_time": "2023-03-01T17:51:25.407459",
     "status": "completed"
    },
    "tags": []
   },
   "outputs": [],
   "source": [
    "import keras\n",
    "EarlyStop = keras.callbacks.EarlyStopping(\n",
    "               min_delta = 0.0001,\n",
    "               patience = 20 ,\n",
    "               verbose = 0)"
   ]
  },
  {
   "cell_type": "code",
   "execution_count": 12,
   "id": "dd65eb87",
   "metadata": {
    "execution": {
     "iopub.execute_input": "2023-03-01T17:51:25.442568Z",
     "iopub.status.busy": "2023-03-01T17:51:25.440727Z",
     "iopub.status.idle": "2023-03-01T17:53:50.253034Z",
     "shell.execute_reply": "2023-03-01T17:53:50.251942Z"
    },
    "papermill": {
     "duration": 144.87263,
     "end_time": "2023-03-01T17:53:50.304211",
     "exception": false,
     "start_time": "2023-03-01T17:51:25.431581",
     "status": "completed"
    },
    "tags": []
   },
   "outputs": [
    {
     "name": "stdout",
     "output_type": "stream",
     "text": [
      "Epoch 1/20\n"
     ]
    },
    {
     "name": "stderr",
     "output_type": "stream",
     "text": [
      "2023-03-01 17:51:27.995517: E tensorflow/core/grappler/optimizers/meta_optimizer.cc:954] layout failed: INVALID_ARGUMENT: Size of values 0 does not match size of permutation 4 @ fanin shape inmodel/dropout/dropout/SelectV2-2-TransposeNHWCToNCHW-LayoutOptimizer\n"
     ]
    },
    {
     "name": "stdout",
     "output_type": "stream",
     "text": [
      "73/73 [==============================] - 13s 62ms/step - loss: 1.2484 - accuracy: 0.5888 - val_loss: 1.0444 - val_accuracy: 0.6708\n",
      "Epoch 2/20\n",
      "73/73 [==============================] - 4s 52ms/step - loss: 0.9814 - accuracy: 0.6750 - val_loss: 0.9869 - val_accuracy: 0.6820\n",
      "Epoch 3/20\n",
      "73/73 [==============================] - 4s 52ms/step - loss: 0.9357 - accuracy: 0.6852 - val_loss: 0.9343 - val_accuracy: 0.6920\n",
      "Epoch 4/20\n",
      "73/73 [==============================] - 4s 51ms/step - loss: 0.9031 - accuracy: 0.6935 - val_loss: 0.8985 - val_accuracy: 0.6933\n",
      "Epoch 5/20\n",
      "73/73 [==============================] - 4s 51ms/step - loss: 0.8875 - accuracy: 0.6972 - val_loss: 0.8771 - val_accuracy: 0.6995\n",
      "Epoch 6/20\n",
      "73/73 [==============================] - 4s 56ms/step - loss: 0.8763 - accuracy: 0.6979 - val_loss: 0.8614 - val_accuracy: 0.7007\n",
      "Epoch 7/20\n",
      "73/73 [==============================] - 4s 52ms/step - loss: 0.8494 - accuracy: 0.7039 - val_loss: 0.8419 - val_accuracy: 0.6995\n",
      "Epoch 8/20\n",
      "73/73 [==============================] - 4s 53ms/step - loss: 0.8579 - accuracy: 0.7060 - val_loss: 0.8352 - val_accuracy: 0.7020\n",
      "Epoch 9/20\n",
      "73/73 [==============================] - 4s 52ms/step - loss: 0.8404 - accuracy: 0.7057 - val_loss: 0.8313 - val_accuracy: 0.7057\n",
      "Epoch 10/20\n",
      "73/73 [==============================] - 4s 56ms/step - loss: 0.8349 - accuracy: 0.7111 - val_loss: 0.8265 - val_accuracy: 0.7070\n",
      "Epoch 11/20\n",
      "73/73 [==============================] - 4s 51ms/step - loss: 0.8398 - accuracy: 0.7069 - val_loss: 0.8230 - val_accuracy: 0.7020\n",
      "Epoch 12/20\n",
      "73/73 [==============================] - 4s 52ms/step - loss: 0.8285 - accuracy: 0.7082 - val_loss: 0.8208 - val_accuracy: 0.7032\n",
      "Epoch 13/20\n",
      "73/73 [==============================] - 4s 51ms/step - loss: 0.8134 - accuracy: 0.7093 - val_loss: 0.8181 - val_accuracy: 0.7095\n",
      "Epoch 14/20\n",
      "73/73 [==============================] - 4s 52ms/step - loss: 0.8187 - accuracy: 0.7125 - val_loss: 0.8198 - val_accuracy: 0.7157\n",
      "Epoch 15/20\n",
      "73/73 [==============================] - 4s 52ms/step - loss: 0.8077 - accuracy: 0.7189 - val_loss: 0.8140 - val_accuracy: 0.7095\n",
      "Epoch 16/20\n",
      "73/73 [==============================] - 4s 58ms/step - loss: 0.8129 - accuracy: 0.7183 - val_loss: 0.8101 - val_accuracy: 0.7082\n",
      "Epoch 17/20\n",
      "73/73 [==============================] - 4s 56ms/step - loss: 0.8084 - accuracy: 0.7136 - val_loss: 0.8106 - val_accuracy: 0.7082\n",
      "Epoch 18/20\n",
      "73/73 [==============================] - 4s 52ms/step - loss: 0.8026 - accuracy: 0.7173 - val_loss: 0.8095 - val_accuracy: 0.7057\n",
      "Epoch 19/20\n",
      "73/73 [==============================] - 4s 56ms/step - loss: 0.7916 - accuracy: 0.7208 - val_loss: 0.8114 - val_accuracy: 0.7070\n",
      "Epoch 20/20\n",
      "73/73 [==============================] - 4s 57ms/step - loss: 0.8003 - accuracy: 0.7219 - val_loss: 0.8089 - val_accuracy: 0.7070\n"
     ]
    },
    {
     "data": {
      "image/png": "[encoded data removed]",
      "text/plain": [
       "<Figure size 640x480 with 1 Axes>"
      ]
     },
     "metadata": {},
     "output_type": "display_data"
    }
   ],
   "source": [
    "# model_DO.compile(loss=\"categorical_crossentropy\", optimizer=optimizer,\n",
    "#     metrics=[\"accuracy\"])\n",
    "model_DO.compile(\n",
    "    optimizer ='adam',\n",
    "    loss = 'categorical_crossentropy',\n",
    "    metrics = ['accuracy']\n",
    ")\n",
    "# H_DO = model_DO.fit(datagen.flow(x_train,y_train, batch_size=20),\n",
    "#                              epochs = 50, validation_data = (x_validate,y_validate), callbacks=[learning_rate_reduction])\n",
    "# history = model_DO.fit(x_train ,\n",
    "#                     y_train ,\n",
    "#                     epochs=25 ,\n",
    "#                     batch_size=128,\n",
    "#                     validation_data=(x_validate,y_validate))\n",
    "train = model_DO.fit(x_train,\n",
    "          y_train,\n",
    "          batch_size = 100,\n",
    "          epochs= 20,\n",
    "          callbacks=[EarlyStop],\n",
    "          validation_data=(x_validate,y_validate) )\n",
    "history_df = pd.DataFrame(train.history)\n",
    "history_df.loc[:, ['loss', 'val_loss']].plot();"
   ]
  },
  {
   "cell_type": "code",
   "execution_count": 13,
   "id": "3cb57c38",
   "metadata": {
    "execution": {
     "iopub.execute_input": "2023-03-01T17:53:50.408676Z",
     "iopub.status.busy": "2023-03-01T17:53:50.407622Z",
     "iopub.status.idle": "2023-03-01T17:56:14.994918Z",
     "shell.execute_reply": "2023-03-01T17:56:14.993854Z"
    },
    "papermill": {
     "duration": 144.642236,
     "end_time": "2023-03-01T17:56:14.997219",
     "exception": false,
     "start_time": "2023-03-01T17:53:50.354983",
     "status": "completed"
    },
    "tags": []
   },
   "outputs": [
    {
     "name": "stdout",
     "output_type": "stream",
     "text": [
      "Epoch 1/30\n"
     ]
    },
    {
     "name": "stderr",
     "output_type": "stream",
     "text": [
      "2023-03-01 17:53:52.780588: E tensorflow/core/grappler/optimizers/meta_optimizer.cc:954] layout failed: INVALID_ARGUMENT: Size of values 0 does not match size of permutation 4 @ fanin shape inmodel/dropout/dropout/SelectV2-2-TransposeNHWCToNCHW-LayoutOptimizer\n"
     ]
    },
    {
     "name": "stdout",
     "output_type": "stream",
     "text": [
      "73/73 [==============================] - 6s 62ms/step - loss: 0.7910 - accuracy: 0.7226 - val_loss: 0.8106 - val_accuracy: 0.7057\n",
      "Epoch 2/30\n",
      "73/73 [==============================] - 4s 52ms/step - loss: 0.7857 - accuracy: 0.7208 - val_loss: 0.8139 - val_accuracy: 0.7070\n",
      "Epoch 3/30\n",
      "73/73 [==============================] - 4s 52ms/step - loss: 0.7781 - accuracy: 0.7229 - val_loss: 0.8174 - val_accuracy: 0.7132\n",
      "Epoch 4/30\n",
      "73/73 [==============================] - 4s 52ms/step - loss: 0.7730 - accuracy: 0.7275 - val_loss: 0.8085 - val_accuracy: 0.7082\n",
      "Epoch 5/30\n",
      "73/73 [==============================] - 4s 54ms/step - loss: 0.7778 - accuracy: 0.7179 - val_loss: 0.8192 - val_accuracy: 0.7032\n",
      "Epoch 6/30\n",
      "73/73 [==============================] - 4s 56ms/step - loss: 0.7764 - accuracy: 0.7209 - val_loss: 0.8096 - val_accuracy: 0.7020\n",
      "Epoch 7/30\n",
      "73/73 [==============================] - 4s 56ms/step - loss: 0.7756 - accuracy: 0.7221 - val_loss: 0.8122 - val_accuracy: 0.7082\n",
      "Epoch 8/30\n",
      "73/73 [==============================] - 4s 52ms/step - loss: 0.7720 - accuracy: 0.7237 - val_loss: 0.8126 - val_accuracy: 0.7070\n",
      "Epoch 9/30\n",
      "73/73 [==============================] - 4s 56ms/step - loss: 0.7664 - accuracy: 0.7270 - val_loss: 0.8058 - val_accuracy: 0.7057\n",
      "Epoch 10/30\n",
      "73/73 [==============================] - 4s 56ms/step - loss: 0.7611 - accuracy: 0.7268 - val_loss: 0.8051 - val_accuracy: 0.7057\n",
      "Epoch 11/30\n",
      "73/73 [==============================] - 4s 55ms/step - loss: 0.7609 - accuracy: 0.7287 - val_loss: 0.8113 - val_accuracy: 0.7070\n",
      "Epoch 12/30\n",
      "73/73 [==============================] - 4s 56ms/step - loss: 0.7639 - accuracy: 0.7294 - val_loss: 0.8078 - val_accuracy: 0.7082\n",
      "Epoch 13/30\n",
      "73/73 [==============================] - 4s 57ms/step - loss: 0.7638 - accuracy: 0.7265 - val_loss: 0.8035 - val_accuracy: 0.7082\n",
      "Epoch 14/30\n",
      "73/73 [==============================] - 4s 51ms/step - loss: 0.7520 - accuracy: 0.7272 - val_loss: 0.8016 - val_accuracy: 0.7007\n",
      "Epoch 15/30\n",
      "73/73 [==============================] - 4s 56ms/step - loss: 0.7546 - accuracy: 0.7293 - val_loss: 0.8047 - val_accuracy: 0.7070\n",
      "Epoch 16/30\n",
      "73/73 [==============================] - 4s 52ms/step - loss: 0.7510 - accuracy: 0.7298 - val_loss: 0.8049 - val_accuracy: 0.7095\n",
      "Epoch 17/30\n",
      "73/73 [==============================] - 4s 56ms/step - loss: 0.7475 - accuracy: 0.7262 - val_loss: 0.8050 - val_accuracy: 0.7057\n",
      "Epoch 18/30\n",
      "73/73 [==============================] - 4s 53ms/step - loss: 0.7566 - accuracy: 0.7318 - val_loss: 0.8038 - val_accuracy: 0.7057\n",
      "Epoch 19/30\n",
      "73/73 [==============================] - 4s 56ms/step - loss: 0.7520 - accuracy: 0.7300 - val_loss: 0.8063 - val_accuracy: 0.7082\n",
      "Epoch 20/30\n",
      "73/73 [==============================] - 4s 58ms/step - loss: 0.7513 - accuracy: 0.7280 - val_loss: 0.8095 - val_accuracy: 0.7120\n",
      "Epoch 21/30\n",
      "73/73 [==============================] - 4s 57ms/step - loss: 0.7442 - accuracy: 0.7268 - val_loss: 0.8099 - val_accuracy: 0.7107\n",
      "Epoch 22/30\n",
      "73/73 [==============================] - 4s 52ms/step - loss: 0.7468 - accuracy: 0.7304 - val_loss: 0.8091 - val_accuracy: 0.7082\n",
      "Epoch 23/30\n",
      "73/73 [==============================] - 4s 56ms/step - loss: 0.7365 - accuracy: 0.7347 - val_loss: 0.8110 - val_accuracy: 0.7057\n",
      "Epoch 24/30\n",
      "73/73 [==============================] - 4s 57ms/step - loss: 0.7401 - accuracy: 0.7319 - val_loss: 0.8082 - val_accuracy: 0.7032\n",
      "Epoch 25/30\n",
      "73/73 [==============================] - 4s 56ms/step - loss: 0.7380 - accuracy: 0.7329 - val_loss: 0.8127 - val_accuracy: 0.7057\n",
      "Epoch 26/30\n",
      "73/73 [==============================] - 4s 56ms/step - loss: 0.7400 - accuracy: 0.7350 - val_loss: 0.8162 - val_accuracy: 0.7032\n",
      "Epoch 27/30\n",
      "73/73 [==============================] - 4s 56ms/step - loss: 0.7439 - accuracy: 0.7322 - val_loss: 0.8123 - val_accuracy: 0.7045\n",
      "Epoch 28/30\n",
      "73/73 [==============================] - 4s 54ms/step - loss: 0.7326 - accuracy: 0.7304 - val_loss: 0.8137 - val_accuracy: 0.7057\n",
      "Epoch 29/30\n",
      "73/73 [==============================] - 4s 57ms/step - loss: 0.7288 - accuracy: 0.7362 - val_loss: 0.8131 - val_accuracy: 0.7070\n",
      "Epoch 30/30\n",
      "73/73 [==============================] - 4s 57ms/step - loss: 0.7277 - accuracy: 0.7336 - val_loss: 0.8130 - val_accuracy: 0.7057\n"
     ]
    },
    {
     "data": {
      "image/png": "[encoded data removed]",
      "text/plain": [
       "<Figure size 640x480 with 1 Axes>"
      ]
     },
     "metadata": {},
     "output_type": "display_data"
    }
   ],
   "source": [
    "# model_DO.compile(loss=\"categorical_crossentropy\", optimizer=optimizer,\n",
    "#     metrics=[\"accuracy\"])\n",
    "model_DO.compile(\n",
    "    optimizer ='adam',\n",
    "    loss = 'categorical_crossentropy',\n",
    "    metrics = ['accuracy']\n",
    ")\n",
    "# H_DO = model_DO.fit(datagen.flow(x_train,y_train, batch_size=20),\n",
    "#                              epochs = 50, validation_data = (x_validate,y_validate), callbacks=[learning_rate_reduction])\n",
    "# history = model_DO.fit(x_train ,\n",
    "#                     y_train ,\n",
    "#                     epochs=25 ,\n",
    "#                     batch_size=128,\n",
    "#                     validation_data=(x_validate,y_validate))\n",
    "train = model_DO.fit(x_train,\n",
    "          y_train,\n",
    "          batch_size = 100,\n",
    "          epochs= 30,\n",
    "          callbacks=[EarlyStop],\n",
    "          validation_data=(x_validate,y_validate) )\n",
    "history_df = pd.DataFrame(train.history)\n",
    "history_df.loc[:, ['loss', 'val_loss']].plot();"
   ]
  },
  {
   "cell_type": "code",
   "execution_count": null,
   "id": "c86c85bb",
   "metadata": {
    "papermill": {
     "duration": 0.174973,
     "end_time": "2023-03-01T17:56:15.287937",
     "exception": false,
     "start_time": "2023-03-01T17:56:15.112964",
     "status": "completed"
    },
    "tags": []
   },
   "outputs": [],
   "source": []
  }
 ],
 "metadata": {
  "kernelspec": {
   "display_name": "Python 3",
   "language": "python",
   "name": "python3"
  },
  "language_info": {
   "codemirror_mode": {
    "name": "ipython",
    "version": 3
   },
   "file_extension": ".py",
   "mimetype": "text/x-python",
   "name": "python",
   "nbconvert_exporter": "python",
   "pygments_lexer": "ipython3",
   "version": "3.7.12"
  },
  "papermill": {
   "default_parameters": {},
   "duration": 534.025566,
   "end_time": "2023-03-01T17:56:18.833705",
   "environment_variables": {},
   "exception": null,
   "input_path": "__notebook__.ipynb",
   "output_path": "__notebook__.ipynb",
   "parameters": {},
   "start_time": "2023-03-01T17:47:24.808139",
   "version": "2.4.0"
  }
 },
 "nbformat": 4,
 "nbformat_minor": 5
}
